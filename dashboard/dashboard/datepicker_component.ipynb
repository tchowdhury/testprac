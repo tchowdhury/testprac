{
 "cells": [
  {
   "cell_type": "code",
   "outputs": [
    {
     "data": {
      "text/plain": "<IPython.lib.display.IFrame at 0x14d321acc50>",
      "text/html": "\n        <iframe\n            width=\"100%\"\n            height=\"650\"\n            src=\"http://127.0.0.1:8053/\"\n            frameborder=\"0\"\n            allowfullscreen\n            \n        ></iframe>\n        "
     },
     "metadata": {},
     "output_type": "display_data"
    }
   ],
   "source": [
    "import dash\n",
    "from dash import dcc, html\n",
    "import plotly.express as px\n",
    "import pandas as pd\n",
    "from dash.dependencies import Input, Output\n",
    "from datetime import datetime, date\n",
    "ecom_sales = pd.read_csv('../data/ecom_data.csv')\n",
    "logo_link = 'https://assets.datacamp.com/production/repositories/5893/datasets/fdbe0accd2581a0c505dab4b29ebb66cf72a1803/e-comlogo.png'\n",
    "ecom_sales['InvoiceDate'] = pd.to_datetime(ecom_sales['InvoiceDate'], format='mixed')\n",
    "#print(ecom_sales)\n",
    "\n",
    "app = dash.Dash(__name__)\n",
    "\n",
    "app.layout = html.Div([\n",
    "  html.Img(src=logo_link, \n",
    "        style={'margin':'30px 0px 0px 0px' }),\n",
    "  html.H1('Sales breakdowns'),\n",
    "  html.Div(\n",
    "    children=[\n",
    "    html.Div(\n",
    "        children=[\n",
    "        html.H2('Controls'),\n",
    "        html.Br(),\n",
    "        html.H3('Sale Date Select'),\n",
    "        # Create a single date picker with identifier\n",
    "        dcc.DatePickerSingle(id='sale_date',\n",
    "            # Set the min/max dates allowed as the min/max dates in the DataFrame\n",
    "            min_date_allowed=ecom_sales['InvoiceDate'].min(),\n",
    "            max_date_allowed=ecom_sales['InvoiceDate'].max(),\n",
    "            # Set the initial visible date\n",
    "            date=date(2011,4,11),\n",
    "            initial_visible_month=date(2011,4,11),\n",
    "            style={'width':'200px', 'margin':'0 auto'})\n",
    "        ],\n",
    "        style={'width':'350px', 'height':'350px', 'display':'inline-block', 'vertical-align':'top', 'border':'1px solid black', 'padding':'20px'}),\n",
    "    html.Div(children=[\n",
    "      \t\t# Add a component to render a Plotly figure with the specified id\n",
    "            dcc.Graph(id = 'sales_cat'),\n",
    "            html.H2('Daily Sales by Major Category', \n",
    "            style={ 'border':'2px solid black', 'width':'400px', 'margin':'0 auto'})\n",
    "            ],\n",
    "             style={'width':'700px','display':'inline-block'}\n",
    "             ),\n",
    "    ]),\n",
    "    ], \n",
    "  style={'text-align':'center', 'display':'inline-block', 'width':'100%'}\n",
    "  )\n",
    "\n",
    "@app.callback(\n",
    "    # Set the input and output of the callback to link the dropdown to the graph\n",
    "    Output(component_id='sales_cat', component_property='figure'),\n",
    "    Input(component_id='sale_date', component_property='date')\n",
    ")\n",
    "\n",
    "def update_plot(input_date):\n",
    "    \n",
    "    sales = ecom_sales.copy(deep=True)\n",
    "    if input_date:\n",
    "        sales = sales[sales['InvoiceDate'] == input_date]\n",
    "        \n",
    "    ecom_bar_major_cat = sales.groupby('Major Category')['OrderValue'].agg('sum').reset_index(name='Total Sales ($)')\n",
    "    bar_fig_major_cat = px.bar(\n",
    "        title=f'Sales on: {input_date}',data_frame=ecom_bar_major_cat, orientation='h', \n",
    "        x='Total Sales ($)', y='Major Category')\n",
    "\n",
    "    return bar_fig_major_cat\n",
    "\n",
    "# Set the app to run in development mode\n",
    "if __name__ == '__main__':\n",
    "    app.run_server(debug=True, port=8053)"
   ],
   "metadata": {
    "collapsed": false,
    "ExecuteTime": {
     "end_time": "2025-01-06T00:17:34.095586200Z",
     "start_time": "2025-01-06T00:17:33.348604600Z"
    }
   },
   "id": "cc9579c626d702cf",
   "execution_count": 9
  }
 ],
 "metadata": {
  "kernelspec": {
   "display_name": "Python 3",
   "language": "python",
   "name": "python3"
  },
  "language_info": {
   "codemirror_mode": {
    "name": "ipython",
    "version": 2
   },
   "file_extension": ".py",
   "mimetype": "text/x-python",
   "name": "python",
   "nbconvert_exporter": "python",
   "pygments_lexer": "ipython2",
   "version": "2.7.6"
  }
 },
 "nbformat": 4,
 "nbformat_minor": 5
}

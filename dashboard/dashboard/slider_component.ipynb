{
 "cells": [
  {
   "cell_type": "code",
   "execution_count": 3,
   "id": "initial_id",
   "metadata": {
    "collapsed": true,
    "ExecuteTime": {
     "end_time": "2025-01-06T00:29:12.830751200Z",
     "start_time": "2025-01-06T00:29:12.711218Z"
    }
   },
   "outputs": [
    {
     "data": {
      "text/plain": "<IPython.lib.display.IFrame at 0x2a37aa7fe00>",
      "text/html": "\n        <iframe\n            width=\"100%\"\n            height=\"650\"\n            src=\"http://127.0.0.1:8054/\"\n            frameborder=\"0\"\n            allowfullscreen\n            \n        ></iframe>\n        "
     },
     "metadata": {},
     "output_type": "display_data"
    }
   ],
   "source": [
    "import dash\n",
    "from dash import dcc, html\n",
    "import plotly.express as px\n",
    "import pandas as pd\n",
    "from dash.dependencies import Input, Output\n",
    "ecom_sales = pd.read_csv('../data/ecom_data.csv')\n",
    "logo_link = 'https://assets.datacamp.com/production/repositories/5893/datasets/fdbe0accd2581a0c505dab4b29ebb66cf72a1803/e-comlogo.png'\n",
    "\n",
    "app = dash.Dash(__name__)\n",
    "\n",
    "app.layout = html.Div([\n",
    "  html.Img(src=logo_link, \n",
    "        style={'margin':'30px 0px 0px 0px' }),\n",
    "  html.H1('Sales breakdowns'),\n",
    "  html.Div(\n",
    "    children=[\n",
    "    html.Div(\n",
    "        children=[\n",
    "        html.H2('Controls'),\n",
    "        html.Br(),\n",
    "        html.H3('Minimum OrderValue Select'),\n",
    "        # Add a slider input\n",
    "        dcc.Slider(id='value_slider',\n",
    "            # Set the min and max of the slider\n",
    "            min=ecom_sales['OrderValue'].min(),\n",
    "            max=ecom_sales['OrderValue'].max(),\n",
    "            # Start the slider at 0\n",
    "            value=0,\n",
    "            # Increment the slider by 50 each notch\n",
    "            step=50,\n",
    "            vertical=False)\n",
    "        ],\n",
    "        style={'width':'350px', 'height':'350px', 'display':'inline-block', 'vertical-align':'top', 'border':'1px solid black', 'padding':'20px'}),\n",
    "    html.Div(children=[\n",
    "            dcc.Graph(id='sales_cat'),\n",
    "            html.H2('Sales by Major Category', \n",
    "            style={ 'border':'2px solid black', 'width':'400px', 'margin':'0 auto'})\n",
    "            ],\n",
    "             style={'width':'700px','display':'inline-block'}\n",
    "             ),\n",
    "    ]),\n",
    "    ], \n",
    "  style={'text-align':'center', 'display':'inline-block', 'width':'100%'}\n",
    "  )\n",
    "\n",
    "@app.callback(\n",
    "    # Set the input and output of the callback to link the dropdown to the graph\n",
    "    Output(component_id='sales_cat', component_property='figure'),\n",
    "    Input(component_id='value_slider', component_property='value')\n",
    ")\n",
    "\n",
    "def update_plot(min_val):\n",
    "    \n",
    "    sales = ecom_sales.copy(deep=True)\n",
    "\n",
    "    if min_val:\n",
    "        sales = sales[sales['OrderValue'] >= min_val]\n",
    "\n",
    "    ecom_bar_major_cat = sales.groupby('Major Category')['OrderValue'].size().reset_index(name='Total Sales Volume')\n",
    "\n",
    "    bar_fig_major_cat = px.bar(\n",
    "        title=f'Sales with order value: {min_val}',data_frame=ecom_bar_major_cat, orientation='h', \n",
    "        x='Total Sales Volume', y='Major Category')\n",
    "\n",
    "    return bar_fig_major_cat\n",
    "\n",
    "# Set the app to run in development mode\n",
    "if __name__ == '__main__':\n",
    "    app.run_server(debug=True, port=8054)"
   ]
  }
 ],
 "metadata": {
  "kernelspec": {
   "display_name": "Python 3",
   "language": "python",
   "name": "python3"
  },
  "language_info": {
   "codemirror_mode": {
    "name": "ipython",
    "version": 2
   },
   "file_extension": ".py",
   "mimetype": "text/x-python",
   "name": "python",
   "nbconvert_exporter": "python",
   "pygments_lexer": "ipython2",
   "version": "2.7.6"
  }
 },
 "nbformat": 4,
 "nbformat_minor": 5
}

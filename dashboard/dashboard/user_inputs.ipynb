{
 "cells": [
  {
   "cell_type": "code",
   "execution_count": 2,
   "id": "initial_id",
   "metadata": {
    "collapsed": true,
    "ExecuteTime": {
     "end_time": "2025-01-06T01:29:38.980200400Z",
     "start_time": "2025-01-06T01:29:37.249658700Z"
    }
   },
   "outputs": [
    {
     "data": {
      "text/plain": "<IPython.lib.display.IFrame at 0x1f86772d160>",
      "text/html": "\n        <iframe\n            width=\"100%\"\n            height=\"650\"\n            src=\"http://127.0.0.1:8056/\"\n            frameborder=\"0\"\n            allowfullscreen\n            \n        ></iframe>\n        "
     },
     "metadata": {},
     "output_type": "display_data"
    }
   ],
   "source": [
    "import dash\n",
    "from dash import dcc, html\n",
    "import plotly.express as px\n",
    "import pandas as pd\n",
    "from dash.dependencies import Input, Output\n",
    "from datetime import datetime, date\n",
    "ecom_sales = pd.read_csv('../data/ecom_data.csv')\n",
    "logo_link = 'https://assets.datacamp.com/production/repositories/5893/datasets/fdbe0accd2581a0c505dab4b29ebb66cf72a1803/e-comlogo.png'\n",
    "\n",
    "def make_break(num_breaks):\n",
    "    br_list = [html.Br()] * num_breaks\n",
    "    return br_list\n",
    "\n",
    "def add_logo():\n",
    "    corp_logo = html.Img(\n",
    "        src=logo_link, \n",
    "        style={'margin':'20px 20px 5px 5px',\n",
    "              'border':'1px dashed lightblue',\n",
    "              'display':'inline-block'})\n",
    "    return corp_logo\n",
    "\n",
    "def style_c():\n",
    "    layout_style={\n",
    "        'display':'inline-block',\n",
    "        'margin':'0 auto',\n",
    "        'padding':'20px',\n",
    "    }\n",
    "    return layout_style\n",
    "\n",
    "app = dash.Dash(__name__)\n",
    "\n",
    "app.layout = html.Div([\n",
    "  add_logo(),\n",
    "  *make_break(2),\n",
    "  html.H1('Sales Dashboard'),\n",
    "  *make_break(3),\n",
    "  html.Div(\n",
    "    children=[\n",
    "    html.Div(\n",
    "        children=[\n",
    "        html.H2('Controls', style=style_c()),\n",
    "        html.H3('Search Descriptions'),\n",
    "        *make_break(2),\n",
    "        # Add the required input\n",
    "        dcc.Input(id='search_desc', type='text', \n",
    "        placeholder='Filter Product Descriptions',\n",
    "        # Ensure input is triggered with 'Enter'\n",
    "        debounce=True,\n",
    "        # Ensure the plot can load without a selection\n",
    "        required=False,\n",
    "        style={'width':'200px', 'height':'30px'})\n",
    "        ],\n",
    "        style={'width':'350px', 'height':'350px', 'vertical-align':'top', 'border':'1px solid black',\n",
    "        'display':'inline-block', 'margin':'0px 80px'}),\n",
    "    html.Div(children=[\n",
    "            dcc.Graph(id='sales_desc'),\n",
    "            html.H2('Sales Quantity by Country', \n",
    "            style={ 'border':'2px solid black', 'width':'400px', 'margin':'0 auto'})\n",
    "            ],\n",
    "             style={'width':'700px','display':'inline-block'}\n",
    "             ),\n",
    "    ])\n",
    "    ], \n",
    "  style={'text-align':'center', 'display':'inline-block', 'width':'100%'}\n",
    "  )\n",
    "\n",
    "@app.callback(\n",
    "    Output(component_id='sales_desc', component_property='figure'),\n",
    "    Input(component_id='search_desc', component_property='value')\n",
    ")\n",
    "def update_plot(search_value):\n",
    "    title_value = 'None Selected (Showing all)'\n",
    "\n",
    "    sales = ecom_sales.copy(deep=True)\n",
    "\n",
    "    # Undertake the filter here using the user input\n",
    "    if search_value:\n",
    "        sales = sales[sales['Description'].str.contains(search_value, case=False)]\n",
    "        title_value = search_value\n",
    "\n",
    "    fig = px.scatter(data_frame=sales, \n",
    "                    y='OrderValue', x='Quantity', color='Country',title=f'Sales with description text: {title_value}')\n",
    "\n",
    "    return fig\n",
    "\n",
    "#Set the app to run in development mode\n",
    "if __name__ == '__main__':\n",
    "    app.run_server(debug=True, port=8056)"
   ]
  }
 ],
 "metadata": {
  "kernelspec": {
   "display_name": "Python 3",
   "language": "python",
   "name": "python3"
  },
  "language_info": {
   "codemirror_mode": {
    "name": "ipython",
    "version": 2
   },
   "file_extension": ".py",
   "mimetype": "text/x-python",
   "name": "python",
   "nbconvert_exporter": "python",
   "pygments_lexer": "ipython2",
   "version": "2.7.6"
  }
 },
 "nbformat": 4,
 "nbformat_minor": 5
}

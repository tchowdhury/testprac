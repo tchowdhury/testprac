{
 "cells": [
  {
   "cell_type": "code",
   "execution_count": null,
   "id": "initial_id",
   "metadata": {
    "collapsed": true
   },
   "outputs": [],
   "source": []
  },
  {
   "cell_type": "code",
   "outputs": [
    {
     "data": {
      "text/plain": "<IPython.lib.display.IFrame at 0x21ed03344a0>",
      "text/html": "\n        <iframe\n            width=\"100%\"\n            height=\"650\"\n            src=\"http://127.0.0.1:8057/\"\n            frameborder=\"0\"\n            allowfullscreen\n            \n        ></iframe>\n        "
     },
     "metadata": {},
     "output_type": "display_data"
    }
   ],
   "source": [
    "import dash\n",
    "from dash import dcc, html\n",
    "import plotly.express as px\n",
    "import pandas as pd\n",
    "from dash.dependencies import Input, Output\n",
    "ecom_sales = pd.read_csv('../data/ecom_data.csv')\n",
    "logo_link = 'https://assets.datacamp.com/production/repositories/5893/datasets/fdbe0accd2581a0c505dab4b29ebb66cf72a1803/e-comlogo.png'\n",
    "ecom_country = ecom_sales.groupby('Country')['OrderValue'].agg(['sum', 'count']).reset_index().rename(columns={'count':'Sales Volume', 'sum':'Total Sales ($)'})\n",
    "\n",
    "\n",
    "# Add the country data to the scatter plot\n",
    "ecom_scatter = px.scatter(ecom_country, x='Total Sales ($)', y='Sales Volume', \n",
    "                          color='Country', width=350, height=400, custom_data=['Country'])\n",
    "ecom_scatter.update_layout({'legend':dict(orientation='h', y=-0.5,x=1, yanchor='bottom', xanchor='right'), 'margin':dict(l=20, r=20, t=25, b=0)})\n",
    "\n",
    "app = dash.Dash(__name__)\n",
    "\n",
    "app.layout = html.Div([\n",
    "  html.Img(src=logo_link, \n",
    "        style={'margin':'30px 0px 0px 0px' }),\n",
    "  html.H1('Sales breakdowns'),\n",
    "  html.Div(\n",
    "    children=[\n",
    "    html.Div(\n",
    "        children=[\n",
    "          html.H2('Sales by Country'),\n",
    "          dcc.Graph(id='scatter_fig', figure=ecom_scatter)\n",
    "        ],\n",
    "        style={'width':'350px', 'height':'500px', 'display':'inline-block', \n",
    "               'vertical-align':'top', 'border':'1px solid black', 'padding':'20px'}),\n",
    "    html.Div(\n",
    "        children=[\n",
    "          html.H2('Key Stats'),\n",
    "          html.P(id='text_output', style={'width':'500px', 'text-align':'center'}),\n",
    "          ],\n",
    "          style={'width':'700px', 'height':'650px','display':'inline-block'}),\n",
    "    ]),], \n",
    "  style={'text-align':'center', 'display':'inline-block', 'width':'100%'})\n",
    "\n",
    "# Trigger callback on hover\n",
    "@app.callback(\n",
    "    Output('text_output', 'children'),\n",
    "    Input('scatter_fig', 'hoverData'))\n",
    "\n",
    "def get_key_stats(hoverData):\n",
    "    \n",
    "    if not hoverData:\n",
    "        return 'Hover over a country to see key stats'\n",
    "\t\n",
    "    # Extract the custom data from the hoverData\n",
    "    country = hoverData['points'][0]['customdata'][0]\n",
    "    country_df = ecom_sales[ecom_sales['Country'] == country]\n",
    "    \n",
    "    top_major_cat = country_df.groupby('Major Category').agg('size').reset_index(name='Sales Volume').sort_values(by='Sales Volume', ascending=False).reset_index(drop=True).loc[0,'Major Category']\n",
    "    top_sales_month = country_df.groupby('Year-Month')['OrderValue'].agg('sum').reset_index(name='Total Sales ($)').sort_values(by='Total Sales ($)', ascending=False).reset_index(drop=True).loc[0,'Year-Month']\n",
    "\t\n",
    "    # Use the aggregated variables\n",
    "    stats_list = [\n",
    "    f'Key stats for : {country}', html.Br(),\n",
    "    f'The most popular Major Category by sales volume was: {top_major_cat}', html.Br(),\n",
    "    f'The highest sales value month was: {top_sales_month}'\n",
    "    ]\n",
    "    return stats_list\n",
    "\n",
    "#Set the app to run in development mode\n",
    "if __name__ == '__main__':\n",
    "    app.run_server(debug=True, port=8057)"
   ],
   "metadata": {
    "collapsed": false,
    "ExecuteTime": {
     "end_time": "2025-01-06T01:55:09.731376600Z",
     "start_time": "2025-01-06T01:55:02.225921100Z"
    }
   },
   "id": "11586927d80fcb48",
   "execution_count": 2
  }
 ],
 "metadata": {
  "kernelspec": {
   "display_name": "Python 3",
   "language": "python",
   "name": "python3"
  },
  "language_info": {
   "codemirror_mode": {
    "name": "ipython",
    "version": 2
   },
   "file_extension": ".py",
   "mimetype": "text/x-python",
   "name": "python",
   "nbconvert_exporter": "python",
   "pygments_lexer": "ipython2",
   "version": "2.7.6"
  }
 },
 "nbformat": 4,
 "nbformat_minor": 5
}

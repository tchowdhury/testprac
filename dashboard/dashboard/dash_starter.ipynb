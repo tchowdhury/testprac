{
 "cells": [
  {
   "cell_type": "code",
   "execution_count": null,
   "id": "initial_id",
   "metadata": {
    "collapsed": true
   },
   "outputs": [],
   "source": []
  },
  {
   "cell_type": "code",
   "outputs": [
    {
     "data": {
      "text/plain": "<IPython.lib.display.IFrame at 0x21470ff88f0>",
      "text/html": "\n        <iframe\n            width=\"100%\"\n            height=\"650\"\n            src=\"http://127.0.0.1:8051/\"\n            frameborder=\"0\"\n            allowfullscreen\n            \n        ></iframe>\n        "
     },
     "metadata": {},
     "output_type": "display_data"
    }
   ],
   "source": [
    "import dash\n",
    "from dash import dcc, html\n",
    "import plotly.express as px\n",
    "import pandas as pd\n",
    "ecom_sales = pd.read_csv('../data/ecom_data.csv')\n",
    "ecom_line = ecom_sales.groupby('Year-Month')['OrderValue'].agg('sum').reset_index(name='Total Sales ($)')\n",
    "line_fig = px.line(data_frame=ecom_line, x='Year-Month', y='Total Sales ($)', title='Total Sales by Month')\n",
    "ecom_bar = ecom_sales.groupby('Country')['OrderValue'].agg('sum').reset_index(name='Total Sales ($)')\n",
    "max_country = ecom_bar.sort_values(by='Total Sales ($)', ascending=False).loc[0]['Country']\n",
    "bar_fig = px.bar(data_frame=ecom_bar, x='Total Sales ($)', y='Country', orientation='h', title='Total Sales by Country')\n",
    "\n",
    "app = dash.Dash(__name__)\n",
    "\n",
    "# Create the dash layout and overall div\n",
    "app.layout = html.Div(children=[\n",
    "    html.H1('Sales Figures'), \n",
    "    # Add a div containing the line figure\n",
    "    html.Div(dcc.Graph(id='my-line-fig', figure=line_fig)), \n",
    "    # Add a div containing the bar figure\n",
    "    html.Div(dcc.Graph(id='my-bar-fig', figure=bar_fig)), \n",
    "    # Add the H3\n",
    "    html.H3(f'The largest country by sales was {max_country}')\n",
    "    ])\n",
    "\n",
    "\n",
    "# Set the app to run in development mode\n",
    "if __name__ == '__main__':\n",
    "    app.run_server(debug=True, port=8051)"
   ],
   "metadata": {
    "collapsed": false,
    "ExecuteTime": {
     "end_time": "2025-01-05T06:49:51.323267700Z",
     "start_time": "2025-01-05T06:49:50.477148800Z"
    }
   },
   "id": "248de46ac1d00f7a",
   "execution_count": 6
  }
 ],
 "metadata": {
  "kernelspec": {
   "display_name": "Python 3",
   "language": "python",
   "name": "python3"
  },
  "language_info": {
   "codemirror_mode": {
    "name": "ipython",
    "version": 2
   },
   "file_extension": ".py",
   "mimetype": "text/x-python",
   "name": "python",
   "nbconvert_exporter": "python",
   "pygments_lexer": "ipython2",
   "version": "2.7.6"
  }
 },
 "nbformat": 4,
 "nbformat_minor": 5
}

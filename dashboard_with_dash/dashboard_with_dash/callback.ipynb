{
 "cells": [
  {
   "cell_type": "code",
   "execution_count": 6,
   "id": "initial_id",
   "metadata": {
    "collapsed": true,
    "ExecuteTime": {
     "end_time": "2025-01-05T23:11:18.653034100Z",
     "start_time": "2025-01-05T23:11:18.505785100Z"
    }
   },
   "outputs": [
    {
     "data": {
      "text/plain": "<IPython.lib.display.IFrame at 0x23e35271010>",
      "text/html": "\n        <iframe\n            width=\"100%\"\n            height=\"650\"\n            src=\"http://127.0.0.1:8052/\"\n            frameborder=\"0\"\n            allowfullscreen\n            \n        ></iframe>\n        "
     },
     "metadata": {},
     "output_type": "display_data"
    }
   ],
   "source": [
    "import dash\n",
    "from dash import dcc, html\n",
    "import plotly.express as px\n",
    "import pandas as pd\n",
    "from dash.dependencies import Input, Output\n",
    "ecom_sales = pd.read_csv('../data/ecom_data.csv')\n",
    "logo_link = 'https://assets.datacamp.com/production/repositories/5893/datasets/fdbe0accd2581a0c505dab4b29ebb66cf72a1803/e-comlogo.png'\n",
    "\n",
    "#print(ecom_sales)\n",
    "\n",
    "app = dash.Dash(__name__)\n",
    "\n",
    "app.layout = html.Div([\n",
    "  html.Img(src=logo_link,style={'margin':'30px 0px 0px 0px' }),\n",
    "  html.H1('Sales breakdowns'),\n",
    "  html.Div(\n",
    "    children=[\n",
    "    html.Div(\n",
    "        children=[\n",
    "        html.H2('Controls'),\n",
    "        html.Br(),\n",
    "        html.H3('Country Select'),\n",
    "        # Add a dropdown with identifier\n",
    "        dcc.Dropdown(id='country_dd',\n",
    "        # Set the available options with noted labels and values\n",
    "        options=[\n",
    "            {'label':'UK', 'value':'United Kingdom'},\n",
    "            {'label':'GM', 'value':'Germany'},\n",
    "            {'label':'FR', 'value':'France'},\n",
    "            {'label':'AUS', 'value':'Australia'},\n",
    "            {'label':'HK', 'value':'Hong Kong'}],\n",
    "            style={'width':'200px', 'margin':'0 auto'})\n",
    "        ],\n",
    "        style={'width':'350px', 'height':'350px', 'display':'inline-block', 'vertical-align':'top', 'border':'1px solid black', 'padding':'20px'}),\n",
    "    html.Div(children=[\n",
    "            # Add a graph component with identifier\n",
    "            dcc.Graph(id='major_cat'),\n",
    "            html.H2('Major Category', \n",
    "            style={ 'border':'2px solid black', 'width':'200px', 'margin':'0 auto'})\n",
    "            ],\n",
    "             style={'width':'700px','display':'inline-block'}\n",
    "             ),\n",
    "    ])], \n",
    "  style={'text-align':'center', 'display':'inline-block', 'width':'100%'}\n",
    "  )\n",
    "\n",
    "@app.callback(\n",
    "    # Set the input and output of the callback to link the dropdown to the graph\n",
    "    Output(component_id='major_cat', component_property='figure'),\n",
    "    Input(component_id='country_dd', component_property='value')\n",
    ")\n",
    "\n",
    "def update_plot(input_country):\n",
    "    country_filter = 'All Countries'\n",
    "    sales = ecom_sales.copy(deep=True)\n",
    "    if input_country:\n",
    "        country_filter = input_country\n",
    "        sales = sales[sales['Country'] == country_filter]\n",
    "    ecom_bar_major_cat = sales.groupby('Major Category')['OrderValue'].agg('sum').reset_index(name='Total Sales ($)')\n",
    "    bar_fig_major_cat = px.bar(\n",
    "        title=f'Sales in {country_filter}', data_frame=ecom_bar_major_cat, x='Total Sales ($)', y='Major Category', color='Major Category',\n",
    "                 color_discrete_map={'Clothes':'blue','Kitchen':'red','Garden':'green','Household':'yellow'})\n",
    "    return bar_fig_major_cat\n",
    "\n",
    "# Set the app to run in development mode\n",
    "if __name__ == '__main__':\n",
    "    app.run_server(debug=True, port=8052)"
   ]
  }
 ],
 "metadata": {
  "kernelspec": {
   "display_name": "Python 3",
   "language": "python",
   "name": "python3"
  },
  "language_info": {
   "codemirror_mode": {
    "name": "ipython",
    "version": 2
   },
   "file_extension": ".py",
   "mimetype": "text/x-python",
   "name": "python",
   "nbconvert_exporter": "python",
   "pygments_lexer": "ipython2",
   "version": "2.7.6"
  }
 },
 "nbformat": 4,
 "nbformat_minor": 5
}

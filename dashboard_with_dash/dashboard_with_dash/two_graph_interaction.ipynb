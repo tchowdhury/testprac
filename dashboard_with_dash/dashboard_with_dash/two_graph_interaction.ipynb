{
 "cells": [
  {
   "cell_type": "code",
   "execution_count": 1,
   "id": "initial_id",
   "metadata": {
    "collapsed": true,
    "ExecuteTime": {
     "end_time": "2025-01-06T03:33:04.728612800Z",
     "start_time": "2025-01-06T03:31:53.600054500Z"
    }
   },
   "outputs": [
    {
     "data": {
      "text/plain": "<IPython.lib.display.IFrame at 0x20cb81e34a0>",
      "text/html": "\n        <iframe\n            width=\"100%\"\n            height=\"650\"\n            src=\"http://127.0.0.1:8058/\"\n            frameborder=\"0\"\n            allowfullscreen\n            \n        ></iframe>\n        "
     },
     "metadata": {},
     "output_type": "display_data"
    }
   ],
   "source": [
    "import dash\n",
    "from dash import dcc, html\n",
    "import plotly.express as px\n",
    "import pandas as pd\n",
    "from dash.dependencies import Input, Output\n",
    "ecom_sales = pd.read_csv('../data/ecom_data.csv')\n",
    "logo_link = 'https://assets.datacamp.com/production/repositories/5893/datasets/fdbe0accd2581a0c505dab4b29ebb66cf72a1803/e-comlogo.png'\n",
    "ecom_country = ecom_sales.groupby('Country')['OrderValue'].agg(['sum', 'count']).reset_index().rename(columns={'count':'Sales Volume', 'sum':'Total Sales ($)'})\n",
    "ecom_scatter = px.scatter(ecom_country, x='Total Sales ($)', y='Sales Volume', color='Country', width=350, height=550, custom_data=['Country'])\n",
    "ecom_scatter.update_layout({'legend':dict(orientation='h', y=-0.7,x=1, yanchor='bottom', xanchor='right')})\n",
    "\n",
    "app = dash.Dash(__name__)\n",
    "\n",
    "app.layout = html.Div([\n",
    "  html.Img(src=logo_link, \n",
    "        style={'margin':'30px 0px 0px 0px' }),\n",
    "  html.H1('Sales breakdowns'),\n",
    "  html.Div(\n",
    "    children=[\n",
    "    html.Div(\n",
    "        children=[\n",
    "          html.H3('Sales Volume vs Sales Amount by Country'),\n",
    "          dcc.Graph(id='scatter', figure=ecom_scatter),\n",
    "        ],\n",
    "        style={'width':'350px', 'height':'650px', 'display':'inline-block', \n",
    "               'vertical-align':'top', 'border':'1px solid black', 'padding':'20px'}),\n",
    "    html.Div(\n",
    "      children=[\n",
    "        # Add two plot types to the layout\n",
    "        dcc.Graph(id='major_cat'),\n",
    "        dcc.Graph(id='minor_cat'),\n",
    "      ],\n",
    "      style={'width':'700px', 'height':'650px','display':'inline-block'})\n",
    "    ]),], \n",
    "  style={'text-align':'center', 'display':'inline-block', 'width':'100%'}\n",
    "  )\n",
    "\n",
    "# Create a callback to update the minor category plot\n",
    "@app.callback(\n",
    "    Output('minor_cat', 'figure'),\n",
    "    Input('scatter', 'hoverData'))\n",
    "\n",
    "def update_min_cat_hover(hoverData):\n",
    "    hover_country = 'Australia'\n",
    "    \n",
    "    if hoverData:\n",
    "        hover_country = hoverData['points'][0]['customdata'][0]\n",
    "\n",
    "    minor_cat_df = ecom_sales[ecom_sales['Country'] == hover_country]\n",
    "    minor_cat_agg = minor_cat_df.groupby('Minor Category')['OrderValue'].agg('sum').reset_index(name='Total Sales ($)')\n",
    "    ecom_bar_minor_cat = px.bar(minor_cat_agg, x='Total Sales ($)', y='Minor Category', orientation='h', height=450, title=f'Sales by Minor Category for: {hover_country}')\n",
    "    ecom_bar_minor_cat.update_layout({'yaxis':{'dtick':1, 'categoryorder':'total ascending'}, 'title':{'x':0.5}})\n",
    "\n",
    "    return ecom_bar_minor_cat\n",
    "\n",
    "# Create a callback to update the major category plot\n",
    "@app.callback(\n",
    "    Output('major_cat', 'figure'),\n",
    "    Input('scatter', 'hoverData'))\n",
    "\n",
    "def update_major_cat_hover(hoverData):\n",
    "    hover_country = 'Australia'\n",
    "    \n",
    "    # Conditionally select the country from the hover data\n",
    "    if hoverData:\n",
    "        hover_country = hoverData['points'][0]['customdata'][0]\n",
    "\n",
    "    major_cat_df = ecom_sales[ecom_sales['Country'] == hover_country]\n",
    "    major_cat_agg = major_cat_df.groupby('Major Category')['OrderValue'].agg('sum').reset_index(name='Total Sales ($)')\n",
    "    \n",
    "    ecom_bar_major_cat = px.bar(major_cat_agg, x='Total Sales ($)', \n",
    "                                y='Major Category', height=300, \n",
    "                                title=f'Sales by Major Category for: {hover_country}', color='Major Category',\n",
    "            color_discrete_map={'Clothes':'blue','Kitchen':'red', 'Garden':'green', 'Household':'yellow'})\n",
    "    ecom_bar_major_cat.update_layout({'margin':dict(l=10,r=15,t=40,b=0), 'title':{'x':0.5}})\n",
    "\n",
    "    return ecom_bar_major_cat\n",
    "\n",
    "\n",
    "if __name__ == '__main__':\n",
    "    app.run_server(debug=True, port=8058)"
   ]
  }
 ],
 "metadata": {
  "kernelspec": {
   "display_name": "Python 3",
   "language": "python",
   "name": "python3"
  },
  "language_info": {
   "codemirror_mode": {
    "name": "ipython",
    "version": 2
   },
   "file_extension": ".py",
   "mimetype": "text/x-python",
   "name": "python",
   "nbconvert_exporter": "python",
   "pygments_lexer": "ipython2",
   "version": "2.7.6"
  }
 },
 "nbformat": 4,
 "nbformat_minor": 5
}

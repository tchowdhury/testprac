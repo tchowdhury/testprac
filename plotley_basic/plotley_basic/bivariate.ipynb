{
 "cells": [
  {
   "cell_type": "markdown",
   "source": [
    "## Import all necessary packages"
   ],
   "metadata": {
    "collapsed": false
   },
   "id": "3ac9ea752c5777f4"
  },
  {
   "cell_type": "code",
   "outputs": [],
   "source": [
    "import pandas as pd\n",
    "import plotly.express as px\n",
    "import plotly.graph_objects as go"
   ],
   "metadata": {
    "collapsed": false,
    "ExecuteTime": {
     "end_time": "2024-12-30T02:29:47.421711100Z",
     "start_time": "2024-12-30T02:29:46.864983300Z"
    }
   },
   "id": "32fd5ce875e7794d",
   "execution_count": 10
  },
  {
   "cell_type": "code",
   "outputs": [],
   "source": [
    "## Import data from csv file"
   ],
   "metadata": {
    "collapsed": false,
    "ExecuteTime": {
     "end_time": "2024-12-30T02:29:47.528405Z",
     "start_time": "2024-12-30T02:29:47.402694100Z"
    }
   },
   "id": "2a928989eb0c94be",
   "execution_count": 11
  },
  {
   "cell_type": "code",
   "outputs": [],
   "source": [
    "penguins = pd.read_csv('../data/penguins.csv')"
   ],
   "metadata": {
    "collapsed": false,
    "ExecuteTime": {
     "end_time": "2024-12-30T02:29:47.905803600Z",
     "start_time": "2024-12-30T02:29:47.530409700Z"
    }
   },
   "id": "6bb3dbd7cdca8e97",
   "execution_count": 12
  },
  {
   "cell_type": "markdown",
   "source": [
    "## Check Data"
   ],
   "metadata": {
    "collapsed": false
   },
   "id": "27ebb53ca5a72978"
  },
  {
   "cell_type": "code",
   "outputs": [
    {
     "name": "stdout",
     "output_type": "stream",
     "text": [
      "   Unnamed: 0 studyName  Sample Number                              Species  \\\n",
      "0           1   PAL0708              1  Adelie Penguin (Pygoscelis adeliae)   \n",
      "1           2   PAL0708              2  Adelie Penguin (Pygoscelis adeliae)   \n",
      "2           3   PAL0708              3  Adelie Penguin (Pygoscelis adeliae)   \n",
      "3           4   PAL0708              4  Adelie Penguin (Pygoscelis adeliae)   \n",
      "4           5   PAL0708              5  Adelie Penguin (Pygoscelis adeliae)   \n",
      "\n",
      "   Region     Island               Stage Individual ID Clutch Completion  \\\n",
      "0  Anvers  Torgersen  Adult, 1 Egg Stage          N1A1               Yes   \n",
      "1  Anvers  Torgersen  Adult, 1 Egg Stage          N1A2               Yes   \n",
      "2  Anvers  Torgersen  Adult, 1 Egg Stage          N2A1               Yes   \n",
      "3  Anvers  Torgersen  Adult, 1 Egg Stage          N2A2               Yes   \n",
      "4  Anvers  Torgersen  Adult, 1 Egg Stage          N3A1               Yes   \n",
      "\n",
      "     Date Egg  Culmen Length (mm)  Culmen Depth (mm)  Flipper Length (mm)  \\\n",
      "0  2007-11-11                39.1               18.7                181.0   \n",
      "1  2007-11-11                39.5               17.4                186.0   \n",
      "2  2007-11-16                40.3               18.0                195.0   \n",
      "3  2007-11-16                 NaN                NaN                  NaN   \n",
      "4  2007-11-16                36.7               19.3                193.0   \n",
      "\n",
      "   Body Mass (g)     Sex  Delta 15 N (o/oo)  Delta 13 C (o/oo)  \\\n",
      "0         3750.0    MALE                NaN                NaN   \n",
      "1         3800.0  FEMALE            8.94956          -24.69454   \n",
      "2         3250.0  FEMALE            8.36821          -25.33302   \n",
      "3            NaN     NaN                NaN                NaN   \n",
      "4         3450.0  FEMALE            8.76651          -25.32426   \n",
      "\n",
      "                         Comments  \n",
      "0  Not enough blood for isotopes.  \n",
      "1                             NaN  \n",
      "2                             NaN  \n",
      "3              Adult not sampled.  \n",
      "4                             NaN  \n",
      "Index(['Unnamed: 0', 'studyName', 'Sample Number', 'Species', 'Region',\n",
      "       'Island', 'Stage', 'Individual ID', 'Clutch Completion', 'Date Egg',\n",
      "       'Culmen Length (mm)', 'Culmen Depth (mm)', 'Flipper Length (mm)',\n",
      "       'Body Mass (g)', 'Sex', 'Delta 15 N (o/oo)', 'Delta 13 C (o/oo)',\n",
      "       'Comments'],\n",
      "      dtype='object')\n",
      "(344, 18)\n"
     ]
    }
   ],
   "source": [
    "print(penguins.head())\n",
    "print(penguins.columns)\n",
    "print(penguins.shape)"
   ],
   "metadata": {
    "collapsed": false,
    "ExecuteTime": {
     "end_time": "2024-12-30T02:29:47.907803200Z",
     "start_time": "2024-12-30T02:29:47.666248500Z"
    }
   },
   "id": "3b78f6462a4390d1",
   "execution_count": 13
  },
  {
   "cell_type": "code",
   "outputs": [],
   "source": [
    "# Set up the color map\n",
    "color_map = {'Adelie': 'rgb(235, 52, 52)' , 'Gentoo': 'rgb(235, 149, 52)', 'Chinstrap': 'rgb(67, 52, 235)'}"
   ],
   "metadata": {
    "collapsed": false,
    "ExecuteTime": {
     "end_time": "2024-12-30T02:29:48.142082Z",
     "start_time": "2024-12-30T02:29:47.898805900Z"
    }
   },
   "id": "a50d14d62d6cf05b",
   "execution_count": 14
  },
  {
   "cell_type": "code",
   "outputs": [
    {
     "data": {
      "application/vnd.plotly.v1+json": {
       "data": [
        {
         "customdata": [
          [
           "Adelie Penguin (Pygoscelis adeliae)"
          ],
          [
           "Adelie Penguin (Pygoscelis adeliae)"
          ],
          [
           "Adelie Penguin (Pygoscelis adeliae)"
          ],
          [
           "Adelie Penguin (Pygoscelis adeliae)"
          ],
          [
           "Adelie Penguin (Pygoscelis adeliae)"
          ],
          [
           "Adelie Penguin (Pygoscelis adeliae)"
          ],
          [
           "Adelie Penguin (Pygoscelis adeliae)"
          ],
          [
           "Adelie Penguin (Pygoscelis adeliae)"
          ],
          [
           "Adelie Penguin (Pygoscelis adeliae)"
          ],
          [
           "Adelie Penguin (Pygoscelis adeliae)"
          ],
          [
           "Adelie Penguin (Pygoscelis adeliae)"
          ],
          [
           "Adelie Penguin (Pygoscelis adeliae)"
          ],
          [
           "Adelie Penguin (Pygoscelis adeliae)"
          ],
          [
           "Adelie Penguin (Pygoscelis adeliae)"
          ],
          [
           "Adelie Penguin (Pygoscelis adeliae)"
          ],
          [
           "Adelie Penguin (Pygoscelis adeliae)"
          ],
          [
           "Adelie Penguin (Pygoscelis adeliae)"
          ],
          [
           "Adelie Penguin (Pygoscelis adeliae)"
          ],
          [
           "Adelie Penguin (Pygoscelis adeliae)"
          ],
          [
           "Adelie Penguin (Pygoscelis adeliae)"
          ],
          [
           "Adelie Penguin (Pygoscelis adeliae)"
          ],
          [
           "Adelie Penguin (Pygoscelis adeliae)"
          ],
          [
           "Adelie Penguin (Pygoscelis adeliae)"
          ],
          [
           "Adelie Penguin (Pygoscelis adeliae)"
          ],
          [
           "Adelie Penguin (Pygoscelis adeliae)"
          ],
          [
           "Adelie Penguin (Pygoscelis adeliae)"
          ],
          [
           "Adelie Penguin (Pygoscelis adeliae)"
          ],
          [
           "Adelie Penguin (Pygoscelis adeliae)"
          ],
          [
           "Adelie Penguin (Pygoscelis adeliae)"
          ],
          [
           "Adelie Penguin (Pygoscelis adeliae)"
          ],
          [
           "Adelie Penguin (Pygoscelis adeliae)"
          ],
          [
           "Adelie Penguin (Pygoscelis adeliae)"
          ],
          [
           "Adelie Penguin (Pygoscelis adeliae)"
          ],
          [
           "Adelie Penguin (Pygoscelis adeliae)"
          ],
          [
           "Adelie Penguin (Pygoscelis adeliae)"
          ],
          [
           "Adelie Penguin (Pygoscelis adeliae)"
          ],
          [
           "Adelie Penguin (Pygoscelis adeliae)"
          ],
          [
           "Adelie Penguin (Pygoscelis adeliae)"
          ],
          [
           "Adelie Penguin (Pygoscelis adeliae)"
          ],
          [
           "Adelie Penguin (Pygoscelis adeliae)"
          ],
          [
           "Adelie Penguin (Pygoscelis adeliae)"
          ],
          [
           "Adelie Penguin (Pygoscelis adeliae)"
          ],
          [
           "Adelie Penguin (Pygoscelis adeliae)"
          ],
          [
           "Adelie Penguin (Pygoscelis adeliae)"
          ],
          [
           "Adelie Penguin (Pygoscelis adeliae)"
          ],
          [
           "Adelie Penguin (Pygoscelis adeliae)"
          ],
          [
           "Adelie Penguin (Pygoscelis adeliae)"
          ],
          [
           "Adelie Penguin (Pygoscelis adeliae)"
          ],
          [
           "Adelie Penguin (Pygoscelis adeliae)"
          ],
          [
           "Adelie Penguin (Pygoscelis adeliae)"
          ],
          [
           "Adelie Penguin (Pygoscelis adeliae)"
          ],
          [
           "Adelie Penguin (Pygoscelis adeliae)"
          ],
          [
           "Adelie Penguin (Pygoscelis adeliae)"
          ],
          [
           "Adelie Penguin (Pygoscelis adeliae)"
          ],
          [
           "Adelie Penguin (Pygoscelis adeliae)"
          ],
          [
           "Adelie Penguin (Pygoscelis adeliae)"
          ],
          [
           "Adelie Penguin (Pygoscelis adeliae)"
          ],
          [
           "Adelie Penguin (Pygoscelis adeliae)"
          ],
          [
           "Adelie Penguin (Pygoscelis adeliae)"
          ],
          [
           "Adelie Penguin (Pygoscelis adeliae)"
          ],
          [
           "Adelie Penguin (Pygoscelis adeliae)"
          ],
          [
           "Adelie Penguin (Pygoscelis adeliae)"
          ],
          [
           "Adelie Penguin (Pygoscelis adeliae)"
          ],
          [
           "Adelie Penguin (Pygoscelis adeliae)"
          ],
          [
           "Adelie Penguin (Pygoscelis adeliae)"
          ],
          [
           "Adelie Penguin (Pygoscelis adeliae)"
          ],
          [
           "Adelie Penguin (Pygoscelis adeliae)"
          ],
          [
           "Adelie Penguin (Pygoscelis adeliae)"
          ],
          [
           "Adelie Penguin (Pygoscelis adeliae)"
          ],
          [
           "Adelie Penguin (Pygoscelis adeliae)"
          ],
          [
           "Adelie Penguin (Pygoscelis adeliae)"
          ],
          [
           "Adelie Penguin (Pygoscelis adeliae)"
          ],
          [
           "Adelie Penguin (Pygoscelis adeliae)"
          ],
          [
           "Adelie Penguin (Pygoscelis adeliae)"
          ],
          [
           "Adelie Penguin (Pygoscelis adeliae)"
          ],
          [
           "Adelie Penguin (Pygoscelis adeliae)"
          ],
          [
           "Adelie Penguin (Pygoscelis adeliae)"
          ],
          [
           "Adelie Penguin (Pygoscelis adeliae)"
          ],
          [
           "Adelie Penguin (Pygoscelis adeliae)"
          ],
          [
           "Adelie Penguin (Pygoscelis adeliae)"
          ],
          [
           "Adelie Penguin (Pygoscelis adeliae)"
          ],
          [
           "Adelie Penguin (Pygoscelis adeliae)"
          ],
          [
           "Adelie Penguin (Pygoscelis adeliae)"
          ],
          [
           "Adelie Penguin (Pygoscelis adeliae)"
          ],
          [
           "Adelie Penguin (Pygoscelis adeliae)"
          ],
          [
           "Adelie Penguin (Pygoscelis adeliae)"
          ],
          [
           "Adelie Penguin (Pygoscelis adeliae)"
          ],
          [
           "Adelie Penguin (Pygoscelis adeliae)"
          ],
          [
           "Adelie Penguin (Pygoscelis adeliae)"
          ],
          [
           "Adelie Penguin (Pygoscelis adeliae)"
          ],
          [
           "Adelie Penguin (Pygoscelis adeliae)"
          ],
          [
           "Adelie Penguin (Pygoscelis adeliae)"
          ],
          [
           "Adelie Penguin (Pygoscelis adeliae)"
          ],
          [
           "Adelie Penguin (Pygoscelis adeliae)"
          ],
          [
           "Adelie Penguin (Pygoscelis adeliae)"
          ],
          [
           "Adelie Penguin (Pygoscelis adeliae)"
          ],
          [
           "Adelie Penguin (Pygoscelis adeliae)"
          ],
          [
           "Adelie Penguin (Pygoscelis adeliae)"
          ],
          [
           "Adelie Penguin (Pygoscelis adeliae)"
          ],
          [
           "Adelie Penguin (Pygoscelis adeliae)"
          ],
          [
           "Adelie Penguin (Pygoscelis adeliae)"
          ],
          [
           "Adelie Penguin (Pygoscelis adeliae)"
          ],
          [
           "Adelie Penguin (Pygoscelis adeliae)"
          ],
          [
           "Adelie Penguin (Pygoscelis adeliae)"
          ],
          [
           "Adelie Penguin (Pygoscelis adeliae)"
          ],
          [
           "Adelie Penguin (Pygoscelis adeliae)"
          ],
          [
           "Adelie Penguin (Pygoscelis adeliae)"
          ],
          [
           "Adelie Penguin (Pygoscelis adeliae)"
          ],
          [
           "Adelie Penguin (Pygoscelis adeliae)"
          ],
          [
           "Adelie Penguin (Pygoscelis adeliae)"
          ],
          [
           "Adelie Penguin (Pygoscelis adeliae)"
          ],
          [
           "Adelie Penguin (Pygoscelis adeliae)"
          ],
          [
           "Adelie Penguin (Pygoscelis adeliae)"
          ],
          [
           "Adelie Penguin (Pygoscelis adeliae)"
          ],
          [
           "Adelie Penguin (Pygoscelis adeliae)"
          ],
          [
           "Adelie Penguin (Pygoscelis adeliae)"
          ],
          [
           "Adelie Penguin (Pygoscelis adeliae)"
          ],
          [
           "Adelie Penguin (Pygoscelis adeliae)"
          ],
          [
           "Adelie Penguin (Pygoscelis adeliae)"
          ],
          [
           "Adelie Penguin (Pygoscelis adeliae)"
          ],
          [
           "Adelie Penguin (Pygoscelis adeliae)"
          ],
          [
           "Adelie Penguin (Pygoscelis adeliae)"
          ],
          [
           "Adelie Penguin (Pygoscelis adeliae)"
          ],
          [
           "Adelie Penguin (Pygoscelis adeliae)"
          ],
          [
           "Adelie Penguin (Pygoscelis adeliae)"
          ],
          [
           "Adelie Penguin (Pygoscelis adeliae)"
          ],
          [
           "Adelie Penguin (Pygoscelis adeliae)"
          ],
          [
           "Adelie Penguin (Pygoscelis adeliae)"
          ],
          [
           "Adelie Penguin (Pygoscelis adeliae)"
          ],
          [
           "Adelie Penguin (Pygoscelis adeliae)"
          ],
          [
           "Adelie Penguin (Pygoscelis adeliae)"
          ],
          [
           "Adelie Penguin (Pygoscelis adeliae)"
          ],
          [
           "Adelie Penguin (Pygoscelis adeliae)"
          ],
          [
           "Adelie Penguin (Pygoscelis adeliae)"
          ],
          [
           "Adelie Penguin (Pygoscelis adeliae)"
          ],
          [
           "Adelie Penguin (Pygoscelis adeliae)"
          ],
          [
           "Adelie Penguin (Pygoscelis adeliae)"
          ],
          [
           "Adelie Penguin (Pygoscelis adeliae)"
          ],
          [
           "Adelie Penguin (Pygoscelis adeliae)"
          ],
          [
           "Adelie Penguin (Pygoscelis adeliae)"
          ],
          [
           "Adelie Penguin (Pygoscelis adeliae)"
          ],
          [
           "Adelie Penguin (Pygoscelis adeliae)"
          ],
          [
           "Adelie Penguin (Pygoscelis adeliae)"
          ],
          [
           "Adelie Penguin (Pygoscelis adeliae)"
          ],
          [
           "Adelie Penguin (Pygoscelis adeliae)"
          ],
          [
           "Adelie Penguin (Pygoscelis adeliae)"
          ],
          [
           "Adelie Penguin (Pygoscelis adeliae)"
          ],
          [
           "Adelie Penguin (Pygoscelis adeliae)"
          ],
          [
           "Adelie Penguin (Pygoscelis adeliae)"
          ],
          [
           "Adelie Penguin (Pygoscelis adeliae)"
          ],
          [
           "Adelie Penguin (Pygoscelis adeliae)"
          ],
          [
           "Adelie Penguin (Pygoscelis adeliae)"
          ]
         ],
         "hovertemplate": "<b>%{hovertext}</b><br><br>Species=%{customdata[0]}<br>Culmen Length (mm)=%{x}<br>Culmen Depth (mm)=%{y}<extra></extra>",
         "hovertext": [
          "Torgersen",
          "Torgersen",
          "Torgersen",
          "Torgersen",
          "Torgersen",
          "Torgersen",
          "Torgersen",
          "Torgersen",
          "Torgersen",
          "Torgersen",
          "Torgersen",
          "Torgersen",
          "Torgersen",
          "Torgersen",
          "Torgersen",
          "Torgersen",
          "Torgersen",
          "Torgersen",
          "Torgersen",
          "Torgersen",
          "Biscoe",
          "Biscoe",
          "Biscoe",
          "Biscoe",
          "Biscoe",
          "Biscoe",
          "Biscoe",
          "Biscoe",
          "Biscoe",
          "Biscoe",
          "Dream",
          "Dream",
          "Dream",
          "Dream",
          "Dream",
          "Dream",
          "Dream",
          "Dream",
          "Dream",
          "Dream",
          "Dream",
          "Dream",
          "Dream",
          "Dream",
          "Dream",
          "Dream",
          "Dream",
          "Dream",
          "Dream",
          "Dream",
          "Biscoe",
          "Biscoe",
          "Biscoe",
          "Biscoe",
          "Biscoe",
          "Biscoe",
          "Biscoe",
          "Biscoe",
          "Biscoe",
          "Biscoe",
          "Biscoe",
          "Biscoe",
          "Biscoe",
          "Biscoe",
          "Biscoe",
          "Biscoe",
          "Biscoe",
          "Biscoe",
          "Torgersen",
          "Torgersen",
          "Torgersen",
          "Torgersen",
          "Torgersen",
          "Torgersen",
          "Torgersen",
          "Torgersen",
          "Torgersen",
          "Torgersen",
          "Torgersen",
          "Torgersen",
          "Torgersen",
          "Torgersen",
          "Torgersen",
          "Torgersen",
          "Dream",
          "Dream",
          "Dream",
          "Dream",
          "Dream",
          "Dream",
          "Dream",
          "Dream",
          "Dream",
          "Dream",
          "Dream",
          "Dream",
          "Dream",
          "Dream",
          "Dream",
          "Dream",
          "Biscoe",
          "Biscoe",
          "Biscoe",
          "Biscoe",
          "Biscoe",
          "Biscoe",
          "Biscoe",
          "Biscoe",
          "Biscoe",
          "Biscoe",
          "Biscoe",
          "Biscoe",
          "Biscoe",
          "Biscoe",
          "Biscoe",
          "Biscoe",
          "Torgersen",
          "Torgersen",
          "Torgersen",
          "Torgersen",
          "Torgersen",
          "Torgersen",
          "Torgersen",
          "Torgersen",
          "Torgersen",
          "Torgersen",
          "Torgersen",
          "Torgersen",
          "Torgersen",
          "Torgersen",
          "Torgersen",
          "Torgersen",
          "Dream",
          "Dream",
          "Dream",
          "Dream",
          "Dream",
          "Dream",
          "Dream",
          "Dream",
          "Dream",
          "Dream",
          "Dream",
          "Dream",
          "Dream",
          "Dream",
          "Dream",
          "Dream",
          "Dream",
          "Dream",
          "Dream",
          "Dream"
         ],
         "legendgroup": "Adelie Penguin (Pygoscelis adeliae)",
         "marker": {
          "color": "#ab63fa",
          "symbol": "circle"
         },
         "mode": "markers",
         "name": "Adelie Penguin (Pygoscelis adeliae)",
         "orientation": "v",
         "showlegend": true,
         "x": [
          39.1,
          39.5,
          40.3,
          null,
          36.7,
          39.3,
          38.9,
          39.2,
          34.1,
          42.0,
          37.8,
          37.8,
          41.1,
          38.6,
          34.6,
          36.6,
          38.7,
          42.5,
          34.4,
          46.0,
          37.8,
          37.7,
          35.9,
          38.2,
          38.8,
          35.3,
          40.6,
          40.5,
          37.9,
          40.5,
          39.5,
          37.2,
          39.5,
          40.9,
          36.4,
          39.2,
          38.8,
          42.2,
          37.6,
          39.8,
          36.5,
          40.8,
          36.0,
          44.1,
          37.0,
          39.6,
          41.1,
          37.5,
          36.0,
          42.3,
          39.6,
          40.1,
          35.0,
          42.0,
          34.5,
          41.4,
          39.0,
          40.6,
          36.5,
          37.6,
          35.7,
          41.3,
          37.6,
          41.1,
          36.4,
          41.6,
          35.5,
          41.1,
          35.9,
          41.8,
          33.5,
          39.7,
          39.6,
          45.8,
          35.5,
          42.8,
          40.9,
          37.2,
          36.2,
          42.1,
          34.6,
          42.9,
          36.7,
          35.1,
          37.3,
          41.3,
          36.3,
          36.9,
          38.3,
          38.9,
          35.7,
          41.1,
          34.0,
          39.6,
          36.2,
          40.8,
          38.1,
          40.3,
          33.1,
          43.2,
          35.0,
          41.0,
          37.7,
          37.8,
          37.9,
          39.7,
          38.6,
          38.2,
          38.1,
          43.2,
          38.1,
          45.6,
          39.7,
          42.2,
          39.6,
          42.7,
          38.6,
          37.3,
          35.7,
          41.1,
          36.2,
          37.7,
          40.2,
          41.4,
          35.2,
          40.6,
          38.8,
          41.5,
          39.0,
          44.1,
          38.5,
          43.1,
          36.8,
          37.5,
          38.1,
          41.1,
          35.6,
          40.2,
          37.0,
          39.7,
          40.2,
          40.6,
          32.1,
          40.7,
          37.3,
          39.0,
          39.2,
          36.6,
          36.0,
          37.8,
          36.0,
          41.5
         ],
         "xaxis": "x",
         "y": [
          18.7,
          17.4,
          18.0,
          null,
          19.3,
          20.6,
          17.8,
          19.6,
          18.1,
          20.2,
          17.1,
          17.3,
          17.6,
          21.2,
          21.1,
          17.8,
          19.0,
          20.7,
          18.4,
          21.5,
          18.3,
          18.7,
          19.2,
          18.1,
          17.2,
          18.9,
          18.6,
          17.9,
          18.6,
          18.9,
          16.7,
          18.1,
          17.8,
          18.9,
          17.0,
          21.1,
          20.0,
          18.5,
          19.3,
          19.1,
          18.0,
          18.4,
          18.5,
          19.7,
          16.9,
          18.8,
          19.0,
          18.9,
          17.9,
          21.2,
          17.7,
          18.9,
          17.9,
          19.5,
          18.1,
          18.6,
          17.5,
          18.8,
          16.6,
          19.1,
          16.9,
          21.1,
          17.0,
          18.2,
          17.1,
          18.0,
          16.2,
          19.1,
          16.6,
          19.4,
          19.0,
          18.4,
          17.2,
          18.9,
          17.5,
          18.5,
          16.8,
          19.4,
          16.1,
          19.1,
          17.2,
          17.6,
          18.8,
          19.4,
          17.8,
          20.3,
          19.5,
          18.6,
          19.2,
          18.8,
          18.0,
          18.1,
          17.1,
          18.1,
          17.3,
          18.9,
          18.6,
          18.5,
          16.1,
          18.5,
          17.9,
          20.0,
          16.0,
          20.0,
          18.6,
          18.9,
          17.2,
          20.0,
          17.0,
          19.0,
          16.5,
          20.3,
          17.7,
          19.5,
          20.7,
          18.3,
          17.0,
          20.5,
          17.0,
          18.6,
          17.2,
          19.8,
          17.0,
          18.5,
          15.9,
          19.0,
          17.6,
          18.3,
          17.1,
          18.0,
          17.9,
          19.2,
          18.5,
          18.5,
          17.6,
          17.5,
          17.5,
          20.1,
          16.5,
          17.9,
          17.1,
          17.2,
          15.5,
          17.0,
          16.8,
          18.7,
          18.6,
          18.4,
          17.8,
          18.1,
          17.1,
          18.5
         ],
         "yaxis": "y",
         "type": "scatter"
        },
        {
         "customdata": [
          [
           "Gentoo penguin (Pygoscelis papua)"
          ],
          [
           "Gentoo penguin (Pygoscelis papua)"
          ],
          [
           "Gentoo penguin (Pygoscelis papua)"
          ],
          [
           "Gentoo penguin (Pygoscelis papua)"
          ],
          [
           "Gentoo penguin (Pygoscelis papua)"
          ],
          [
           "Gentoo penguin (Pygoscelis papua)"
          ],
          [
           "Gentoo penguin (Pygoscelis papua)"
          ],
          [
           "Gentoo penguin (Pygoscelis papua)"
          ],
          [
           "Gentoo penguin (Pygoscelis papua)"
          ],
          [
           "Gentoo penguin (Pygoscelis papua)"
          ],
          [
           "Gentoo penguin (Pygoscelis papua)"
          ],
          [
           "Gentoo penguin (Pygoscelis papua)"
          ],
          [
           "Gentoo penguin (Pygoscelis papua)"
          ],
          [
           "Gentoo penguin (Pygoscelis papua)"
          ],
          [
           "Gentoo penguin (Pygoscelis papua)"
          ],
          [
           "Gentoo penguin (Pygoscelis papua)"
          ],
          [
           "Gentoo penguin (Pygoscelis papua)"
          ],
          [
           "Gentoo penguin (Pygoscelis papua)"
          ],
          [
           "Gentoo penguin (Pygoscelis papua)"
          ],
          [
           "Gentoo penguin (Pygoscelis papua)"
          ],
          [
           "Gentoo penguin (Pygoscelis papua)"
          ],
          [
           "Gentoo penguin (Pygoscelis papua)"
          ],
          [
           "Gentoo penguin (Pygoscelis papua)"
          ],
          [
           "Gentoo penguin (Pygoscelis papua)"
          ],
          [
           "Gentoo penguin (Pygoscelis papua)"
          ],
          [
           "Gentoo penguin (Pygoscelis papua)"
          ],
          [
           "Gentoo penguin (Pygoscelis papua)"
          ],
          [
           "Gentoo penguin (Pygoscelis papua)"
          ],
          [
           "Gentoo penguin (Pygoscelis papua)"
          ],
          [
           "Gentoo penguin (Pygoscelis papua)"
          ],
          [
           "Gentoo penguin (Pygoscelis papua)"
          ],
          [
           "Gentoo penguin (Pygoscelis papua)"
          ],
          [
           "Gentoo penguin (Pygoscelis papua)"
          ],
          [
           "Gentoo penguin (Pygoscelis papua)"
          ],
          [
           "Gentoo penguin (Pygoscelis papua)"
          ],
          [
           "Gentoo penguin (Pygoscelis papua)"
          ],
          [
           "Gentoo penguin (Pygoscelis papua)"
          ],
          [
           "Gentoo penguin (Pygoscelis papua)"
          ],
          [
           "Gentoo penguin (Pygoscelis papua)"
          ],
          [
           "Gentoo penguin (Pygoscelis papua)"
          ],
          [
           "Gentoo penguin (Pygoscelis papua)"
          ],
          [
           "Gentoo penguin (Pygoscelis papua)"
          ],
          [
           "Gentoo penguin (Pygoscelis papua)"
          ],
          [
           "Gentoo penguin (Pygoscelis papua)"
          ],
          [
           "Gentoo penguin (Pygoscelis papua)"
          ],
          [
           "Gentoo penguin (Pygoscelis papua)"
          ],
          [
           "Gentoo penguin (Pygoscelis papua)"
          ],
          [
           "Gentoo penguin (Pygoscelis papua)"
          ],
          [
           "Gentoo penguin (Pygoscelis papua)"
          ],
          [
           "Gentoo penguin (Pygoscelis papua)"
          ],
          [
           "Gentoo penguin (Pygoscelis papua)"
          ],
          [
           "Gentoo penguin (Pygoscelis papua)"
          ],
          [
           "Gentoo penguin (Pygoscelis papua)"
          ],
          [
           "Gentoo penguin (Pygoscelis papua)"
          ],
          [
           "Gentoo penguin (Pygoscelis papua)"
          ],
          [
           "Gentoo penguin (Pygoscelis papua)"
          ],
          [
           "Gentoo penguin (Pygoscelis papua)"
          ],
          [
           "Gentoo penguin (Pygoscelis papua)"
          ],
          [
           "Gentoo penguin (Pygoscelis papua)"
          ],
          [
           "Gentoo penguin (Pygoscelis papua)"
          ],
          [
           "Gentoo penguin (Pygoscelis papua)"
          ],
          [
           "Gentoo penguin (Pygoscelis papua)"
          ],
          [
           "Gentoo penguin (Pygoscelis papua)"
          ],
          [
           "Gentoo penguin (Pygoscelis papua)"
          ],
          [
           "Gentoo penguin (Pygoscelis papua)"
          ],
          [
           "Gentoo penguin (Pygoscelis papua)"
          ],
          [
           "Gentoo penguin (Pygoscelis papua)"
          ],
          [
           "Gentoo penguin (Pygoscelis papua)"
          ],
          [
           "Gentoo penguin (Pygoscelis papua)"
          ],
          [
           "Gentoo penguin (Pygoscelis papua)"
          ],
          [
           "Gentoo penguin (Pygoscelis papua)"
          ],
          [
           "Gentoo penguin (Pygoscelis papua)"
          ],
          [
           "Gentoo penguin (Pygoscelis papua)"
          ],
          [
           "Gentoo penguin (Pygoscelis papua)"
          ],
          [
           "Gentoo penguin (Pygoscelis papua)"
          ],
          [
           "Gentoo penguin (Pygoscelis papua)"
          ],
          [
           "Gentoo penguin (Pygoscelis papua)"
          ],
          [
           "Gentoo penguin (Pygoscelis papua)"
          ],
          [
           "Gentoo penguin (Pygoscelis papua)"
          ],
          [
           "Gentoo penguin (Pygoscelis papua)"
          ],
          [
           "Gentoo penguin (Pygoscelis papua)"
          ],
          [
           "Gentoo penguin (Pygoscelis papua)"
          ],
          [
           "Gentoo penguin (Pygoscelis papua)"
          ],
          [
           "Gentoo penguin (Pygoscelis papua)"
          ],
          [
           "Gentoo penguin (Pygoscelis papua)"
          ],
          [
           "Gentoo penguin (Pygoscelis papua)"
          ],
          [
           "Gentoo penguin (Pygoscelis papua)"
          ],
          [
           "Gentoo penguin (Pygoscelis papua)"
          ],
          [
           "Gentoo penguin (Pygoscelis papua)"
          ],
          [
           "Gentoo penguin (Pygoscelis papua)"
          ],
          [
           "Gentoo penguin (Pygoscelis papua)"
          ],
          [
           "Gentoo penguin (Pygoscelis papua)"
          ],
          [
           "Gentoo penguin (Pygoscelis papua)"
          ],
          [
           "Gentoo penguin (Pygoscelis papua)"
          ],
          [
           "Gentoo penguin (Pygoscelis papua)"
          ],
          [
           "Gentoo penguin (Pygoscelis papua)"
          ],
          [
           "Gentoo penguin (Pygoscelis papua)"
          ],
          [
           "Gentoo penguin (Pygoscelis papua)"
          ],
          [
           "Gentoo penguin (Pygoscelis papua)"
          ],
          [
           "Gentoo penguin (Pygoscelis papua)"
          ],
          [
           "Gentoo penguin (Pygoscelis papua)"
          ],
          [
           "Gentoo penguin (Pygoscelis papua)"
          ],
          [
           "Gentoo penguin (Pygoscelis papua)"
          ],
          [
           "Gentoo penguin (Pygoscelis papua)"
          ],
          [
           "Gentoo penguin (Pygoscelis papua)"
          ],
          [
           "Gentoo penguin (Pygoscelis papua)"
          ],
          [
           "Gentoo penguin (Pygoscelis papua)"
          ],
          [
           "Gentoo penguin (Pygoscelis papua)"
          ],
          [
           "Gentoo penguin (Pygoscelis papua)"
          ],
          [
           "Gentoo penguin (Pygoscelis papua)"
          ],
          [
           "Gentoo penguin (Pygoscelis papua)"
          ],
          [
           "Gentoo penguin (Pygoscelis papua)"
          ],
          [
           "Gentoo penguin (Pygoscelis papua)"
          ],
          [
           "Gentoo penguin (Pygoscelis papua)"
          ],
          [
           "Gentoo penguin (Pygoscelis papua)"
          ],
          [
           "Gentoo penguin (Pygoscelis papua)"
          ],
          [
           "Gentoo penguin (Pygoscelis papua)"
          ],
          [
           "Gentoo penguin (Pygoscelis papua)"
          ],
          [
           "Gentoo penguin (Pygoscelis papua)"
          ],
          [
           "Gentoo penguin (Pygoscelis papua)"
          ],
          [
           "Gentoo penguin (Pygoscelis papua)"
          ],
          [
           "Gentoo penguin (Pygoscelis papua)"
          ],
          [
           "Gentoo penguin (Pygoscelis papua)"
          ],
          [
           "Gentoo penguin (Pygoscelis papua)"
          ]
         ],
         "hovertemplate": "<b>%{hovertext}</b><br><br>Species=%{customdata[0]}<br>Culmen Length (mm)=%{x}<br>Culmen Depth (mm)=%{y}<extra></extra>",
         "hovertext": [
          "Biscoe",
          "Biscoe",
          "Biscoe",
          "Biscoe",
          "Biscoe",
          "Biscoe",
          "Biscoe",
          "Biscoe",
          "Biscoe",
          "Biscoe",
          "Biscoe",
          "Biscoe",
          "Biscoe",
          "Biscoe",
          "Biscoe",
          "Biscoe",
          "Biscoe",
          "Biscoe",
          "Biscoe",
          "Biscoe",
          "Biscoe",
          "Biscoe",
          "Biscoe",
          "Biscoe",
          "Biscoe",
          "Biscoe",
          "Biscoe",
          "Biscoe",
          "Biscoe",
          "Biscoe",
          "Biscoe",
          "Biscoe",
          "Biscoe",
          "Biscoe",
          "Biscoe",
          "Biscoe",
          "Biscoe",
          "Biscoe",
          "Biscoe",
          "Biscoe",
          "Biscoe",
          "Biscoe",
          "Biscoe",
          "Biscoe",
          "Biscoe",
          "Biscoe",
          "Biscoe",
          "Biscoe",
          "Biscoe",
          "Biscoe",
          "Biscoe",
          "Biscoe",
          "Biscoe",
          "Biscoe",
          "Biscoe",
          "Biscoe",
          "Biscoe",
          "Biscoe",
          "Biscoe",
          "Biscoe",
          "Biscoe",
          "Biscoe",
          "Biscoe",
          "Biscoe",
          "Biscoe",
          "Biscoe",
          "Biscoe",
          "Biscoe",
          "Biscoe",
          "Biscoe",
          "Biscoe",
          "Biscoe",
          "Biscoe",
          "Biscoe",
          "Biscoe",
          "Biscoe",
          "Biscoe",
          "Biscoe",
          "Biscoe",
          "Biscoe",
          "Biscoe",
          "Biscoe",
          "Biscoe",
          "Biscoe",
          "Biscoe",
          "Biscoe",
          "Biscoe",
          "Biscoe",
          "Biscoe",
          "Biscoe",
          "Biscoe",
          "Biscoe",
          "Biscoe",
          "Biscoe",
          "Biscoe",
          "Biscoe",
          "Biscoe",
          "Biscoe",
          "Biscoe",
          "Biscoe",
          "Biscoe",
          "Biscoe",
          "Biscoe",
          "Biscoe",
          "Biscoe",
          "Biscoe",
          "Biscoe",
          "Biscoe",
          "Biscoe",
          "Biscoe",
          "Biscoe",
          "Biscoe",
          "Biscoe",
          "Biscoe",
          "Biscoe",
          "Biscoe",
          "Biscoe",
          "Biscoe",
          "Biscoe",
          "Biscoe",
          "Biscoe",
          "Biscoe",
          "Biscoe",
          "Biscoe"
         ],
         "legendgroup": "Gentoo penguin (Pygoscelis papua)",
         "marker": {
          "color": "#FFA15A",
          "symbol": "circle"
         },
         "mode": "markers",
         "name": "Gentoo penguin (Pygoscelis papua)",
         "orientation": "v",
         "showlegend": true,
         "x": [
          46.1,
          50.0,
          48.7,
          50.0,
          47.6,
          46.5,
          45.4,
          46.7,
          43.3,
          46.8,
          40.9,
          49.0,
          45.5,
          48.4,
          45.8,
          49.3,
          42.0,
          49.2,
          46.2,
          48.7,
          50.2,
          45.1,
          46.5,
          46.3,
          42.9,
          46.1,
          44.5,
          47.8,
          48.2,
          50.0,
          47.3,
          42.8,
          45.1,
          59.6,
          49.1,
          48.4,
          42.6,
          44.4,
          44.0,
          48.7,
          42.7,
          49.6,
          45.3,
          49.6,
          50.5,
          43.6,
          45.5,
          50.5,
          44.9,
          45.2,
          46.6,
          48.5,
          45.1,
          50.1,
          46.5,
          45.0,
          43.8,
          45.5,
          43.2,
          50.4,
          45.3,
          46.2,
          45.7,
          54.3,
          45.8,
          49.8,
          46.2,
          49.5,
          43.5,
          50.7,
          47.7,
          46.4,
          48.2,
          46.5,
          46.4,
          48.6,
          47.5,
          51.1,
          45.2,
          45.2,
          49.1,
          52.5,
          47.4,
          50.0,
          44.9,
          50.8,
          43.4,
          51.3,
          47.5,
          52.1,
          47.5,
          52.2,
          45.5,
          49.5,
          44.5,
          50.8,
          49.4,
          46.9,
          48.4,
          51.1,
          48.5,
          55.9,
          47.2,
          49.1,
          47.3,
          46.8,
          41.7,
          53.4,
          43.3,
          48.1,
          50.5,
          49.8,
          43.5,
          51.5,
          46.2,
          55.1,
          44.5,
          48.8,
          47.2,
          null,
          46.8,
          50.4,
          45.2,
          49.9
         ],
         "xaxis": "x",
         "y": [
          13.2,
          16.3,
          14.1,
          15.2,
          14.5,
          13.5,
          14.6,
          15.3,
          13.4,
          15.4,
          13.7,
          16.1,
          13.7,
          14.6,
          14.6,
          15.7,
          13.5,
          15.2,
          14.5,
          15.1,
          14.3,
          14.5,
          14.5,
          15.8,
          13.1,
          15.1,
          14.3,
          15.0,
          14.3,
          15.3,
          15.3,
          14.2,
          14.5,
          17.0,
          14.8,
          16.3,
          13.7,
          17.3,
          13.6,
          15.7,
          13.7,
          16.0,
          13.7,
          15.0,
          15.9,
          13.9,
          13.9,
          15.9,
          13.3,
          15.8,
          14.2,
          14.1,
          14.4,
          15.0,
          14.4,
          15.4,
          13.9,
          15.0,
          14.5,
          15.3,
          13.8,
          14.9,
          13.9,
          15.7,
          14.2,
          16.8,
          14.4,
          16.2,
          14.2,
          15.0,
          15.0,
          15.6,
          15.6,
          14.8,
          15.0,
          16.0,
          14.2,
          16.3,
          13.8,
          16.4,
          14.5,
          15.6,
          14.6,
          15.9,
          13.8,
          17.3,
          14.4,
          14.2,
          14.0,
          17.0,
          15.0,
          17.1,
          14.5,
          16.1,
          14.7,
          15.7,
          15.8,
          14.6,
          14.4,
          16.5,
          15.0,
          17.0,
          15.5,
          15.0,
          13.8,
          16.1,
          14.7,
          15.8,
          14.0,
          15.1,
          15.2,
          15.9,
          15.2,
          16.3,
          14.1,
          16.0,
          15.7,
          16.2,
          13.7,
          null,
          14.3,
          15.7,
          14.8,
          16.1
         ],
         "yaxis": "y",
         "type": "scatter"
        },
        {
         "customdata": [
          [
           "Chinstrap penguin (Pygoscelis antarctica)"
          ],
          [
           "Chinstrap penguin (Pygoscelis antarctica)"
          ],
          [
           "Chinstrap penguin (Pygoscelis antarctica)"
          ],
          [
           "Chinstrap penguin (Pygoscelis antarctica)"
          ],
          [
           "Chinstrap penguin (Pygoscelis antarctica)"
          ],
          [
           "Chinstrap penguin (Pygoscelis antarctica)"
          ],
          [
           "Chinstrap penguin (Pygoscelis antarctica)"
          ],
          [
           "Chinstrap penguin (Pygoscelis antarctica)"
          ],
          [
           "Chinstrap penguin (Pygoscelis antarctica)"
          ],
          [
           "Chinstrap penguin (Pygoscelis antarctica)"
          ],
          [
           "Chinstrap penguin (Pygoscelis antarctica)"
          ],
          [
           "Chinstrap penguin (Pygoscelis antarctica)"
          ],
          [
           "Chinstrap penguin (Pygoscelis antarctica)"
          ],
          [
           "Chinstrap penguin (Pygoscelis antarctica)"
          ],
          [
           "Chinstrap penguin (Pygoscelis antarctica)"
          ],
          [
           "Chinstrap penguin (Pygoscelis antarctica)"
          ],
          [
           "Chinstrap penguin (Pygoscelis antarctica)"
          ],
          [
           "Chinstrap penguin (Pygoscelis antarctica)"
          ],
          [
           "Chinstrap penguin (Pygoscelis antarctica)"
          ],
          [
           "Chinstrap penguin (Pygoscelis antarctica)"
          ],
          [
           "Chinstrap penguin (Pygoscelis antarctica)"
          ],
          [
           "Chinstrap penguin (Pygoscelis antarctica)"
          ],
          [
           "Chinstrap penguin (Pygoscelis antarctica)"
          ],
          [
           "Chinstrap penguin (Pygoscelis antarctica)"
          ],
          [
           "Chinstrap penguin (Pygoscelis antarctica)"
          ],
          [
           "Chinstrap penguin (Pygoscelis antarctica)"
          ],
          [
           "Chinstrap penguin (Pygoscelis antarctica)"
          ],
          [
           "Chinstrap penguin (Pygoscelis antarctica)"
          ],
          [
           "Chinstrap penguin (Pygoscelis antarctica)"
          ],
          [
           "Chinstrap penguin (Pygoscelis antarctica)"
          ],
          [
           "Chinstrap penguin (Pygoscelis antarctica)"
          ],
          [
           "Chinstrap penguin (Pygoscelis antarctica)"
          ],
          [
           "Chinstrap penguin (Pygoscelis antarctica)"
          ],
          [
           "Chinstrap penguin (Pygoscelis antarctica)"
          ],
          [
           "Chinstrap penguin (Pygoscelis antarctica)"
          ],
          [
           "Chinstrap penguin (Pygoscelis antarctica)"
          ],
          [
           "Chinstrap penguin (Pygoscelis antarctica)"
          ],
          [
           "Chinstrap penguin (Pygoscelis antarctica)"
          ],
          [
           "Chinstrap penguin (Pygoscelis antarctica)"
          ],
          [
           "Chinstrap penguin (Pygoscelis antarctica)"
          ],
          [
           "Chinstrap penguin (Pygoscelis antarctica)"
          ],
          [
           "Chinstrap penguin (Pygoscelis antarctica)"
          ],
          [
           "Chinstrap penguin (Pygoscelis antarctica)"
          ],
          [
           "Chinstrap penguin (Pygoscelis antarctica)"
          ],
          [
           "Chinstrap penguin (Pygoscelis antarctica)"
          ],
          [
           "Chinstrap penguin (Pygoscelis antarctica)"
          ],
          [
           "Chinstrap penguin (Pygoscelis antarctica)"
          ],
          [
           "Chinstrap penguin (Pygoscelis antarctica)"
          ],
          [
           "Chinstrap penguin (Pygoscelis antarctica)"
          ],
          [
           "Chinstrap penguin (Pygoscelis antarctica)"
          ],
          [
           "Chinstrap penguin (Pygoscelis antarctica)"
          ],
          [
           "Chinstrap penguin (Pygoscelis antarctica)"
          ],
          [
           "Chinstrap penguin (Pygoscelis antarctica)"
          ],
          [
           "Chinstrap penguin (Pygoscelis antarctica)"
          ],
          [
           "Chinstrap penguin (Pygoscelis antarctica)"
          ],
          [
           "Chinstrap penguin (Pygoscelis antarctica)"
          ],
          [
           "Chinstrap penguin (Pygoscelis antarctica)"
          ],
          [
           "Chinstrap penguin (Pygoscelis antarctica)"
          ],
          [
           "Chinstrap penguin (Pygoscelis antarctica)"
          ],
          [
           "Chinstrap penguin (Pygoscelis antarctica)"
          ],
          [
           "Chinstrap penguin (Pygoscelis antarctica)"
          ],
          [
           "Chinstrap penguin (Pygoscelis antarctica)"
          ],
          [
           "Chinstrap penguin (Pygoscelis antarctica)"
          ],
          [
           "Chinstrap penguin (Pygoscelis antarctica)"
          ],
          [
           "Chinstrap penguin (Pygoscelis antarctica)"
          ],
          [
           "Chinstrap penguin (Pygoscelis antarctica)"
          ],
          [
           "Chinstrap penguin (Pygoscelis antarctica)"
          ],
          [
           "Chinstrap penguin (Pygoscelis antarctica)"
          ]
         ],
         "hovertemplate": "<b>%{hovertext}</b><br><br>Species=%{customdata[0]}<br>Culmen Length (mm)=%{x}<br>Culmen Depth (mm)=%{y}<extra></extra>",
         "hovertext": [
          "Dream",
          "Dream",
          "Dream",
          "Dream",
          "Dream",
          "Dream",
          "Dream",
          "Dream",
          "Dream",
          "Dream",
          "Dream",
          "Dream",
          "Dream",
          "Dream",
          "Dream",
          "Dream",
          "Dream",
          "Dream",
          "Dream",
          "Dream",
          "Dream",
          "Dream",
          "Dream",
          "Dream",
          "Dream",
          "Dream",
          "Dream",
          "Dream",
          "Dream",
          "Dream",
          "Dream",
          "Dream",
          "Dream",
          "Dream",
          "Dream",
          "Dream",
          "Dream",
          "Dream",
          "Dream",
          "Dream",
          "Dream",
          "Dream",
          "Dream",
          "Dream",
          "Dream",
          "Dream",
          "Dream",
          "Dream",
          "Dream",
          "Dream",
          "Dream",
          "Dream",
          "Dream",
          "Dream",
          "Dream",
          "Dream",
          "Dream",
          "Dream",
          "Dream",
          "Dream",
          "Dream",
          "Dream",
          "Dream",
          "Dream",
          "Dream",
          "Dream",
          "Dream",
          "Dream"
         ],
         "legendgroup": "Chinstrap penguin (Pygoscelis antarctica)",
         "marker": {
          "color": "#19d3f3",
          "symbol": "circle"
         },
         "mode": "markers",
         "name": "Chinstrap penguin (Pygoscelis antarctica)",
         "orientation": "v",
         "showlegend": true,
         "x": [
          46.5,
          50.0,
          51.3,
          45.4,
          52.7,
          45.2,
          46.1,
          51.3,
          46.0,
          51.3,
          46.6,
          51.7,
          47.0,
          52.0,
          45.9,
          50.5,
          50.3,
          58.0,
          46.4,
          49.2,
          42.4,
          48.5,
          43.2,
          50.6,
          46.7,
          52.0,
          50.5,
          49.5,
          46.4,
          52.8,
          40.9,
          54.2,
          42.5,
          51.0,
          49.7,
          47.5,
          47.6,
          52.0,
          46.9,
          53.5,
          49.0,
          46.2,
          50.9,
          45.5,
          50.9,
          50.8,
          50.1,
          49.0,
          51.5,
          49.8,
          48.1,
          51.4,
          45.7,
          50.7,
          42.5,
          52.2,
          45.2,
          49.3,
          50.2,
          45.6,
          51.9,
          46.8,
          45.7,
          55.8,
          43.5,
          49.6,
          50.8,
          50.2
         ],
         "xaxis": "x",
         "y": [
          17.9,
          19.5,
          19.2,
          18.7,
          19.8,
          17.8,
          18.2,
          18.2,
          18.9,
          19.9,
          17.8,
          20.3,
          17.3,
          18.1,
          17.1,
          19.6,
          20.0,
          17.8,
          18.6,
          18.2,
          17.3,
          17.5,
          16.6,
          19.4,
          17.9,
          19.0,
          18.4,
          19.0,
          17.8,
          20.0,
          16.6,
          20.8,
          16.7,
          18.8,
          18.6,
          16.8,
          18.3,
          20.7,
          16.6,
          19.9,
          19.5,
          17.5,
          19.1,
          17.0,
          17.9,
          18.5,
          17.9,
          19.6,
          18.7,
          17.3,
          16.4,
          19.0,
          17.3,
          19.7,
          17.3,
          18.8,
          16.6,
          19.9,
          18.8,
          19.4,
          19.5,
          16.5,
          17.0,
          19.8,
          18.1,
          18.2,
          19.0,
          18.7
         ],
         "yaxis": "y",
         "type": "scatter"
        }
       ],
       "layout": {
        "template": {
         "data": {
          "histogram2dcontour": [
           {
            "type": "histogram2dcontour",
            "colorbar": {
             "outlinewidth": 0,
             "ticks": ""
            },
            "colorscale": [
             [
              0.0,
              "#0d0887"
             ],
             [
              0.1111111111111111,
              "#46039f"
             ],
             [
              0.2222222222222222,
              "#7201a8"
             ],
             [
              0.3333333333333333,
              "#9c179e"
             ],
             [
              0.4444444444444444,
              "#bd3786"
             ],
             [
              0.5555555555555556,
              "#d8576b"
             ],
             [
              0.6666666666666666,
              "#ed7953"
             ],
             [
              0.7777777777777778,
              "#fb9f3a"
             ],
             [
              0.8888888888888888,
              "#fdca26"
             ],
             [
              1.0,
              "#f0f921"
             ]
            ]
           }
          ],
          "choropleth": [
           {
            "type": "choropleth",
            "colorbar": {
             "outlinewidth": 0,
             "ticks": ""
            }
           }
          ],
          "histogram2d": [
           {
            "type": "histogram2d",
            "colorbar": {
             "outlinewidth": 0,
             "ticks": ""
            },
            "colorscale": [
             [
              0.0,
              "#0d0887"
             ],
             [
              0.1111111111111111,
              "#46039f"
             ],
             [
              0.2222222222222222,
              "#7201a8"
             ],
             [
              0.3333333333333333,
              "#9c179e"
             ],
             [
              0.4444444444444444,
              "#bd3786"
             ],
             [
              0.5555555555555556,
              "#d8576b"
             ],
             [
              0.6666666666666666,
              "#ed7953"
             ],
             [
              0.7777777777777778,
              "#fb9f3a"
             ],
             [
              0.8888888888888888,
              "#fdca26"
             ],
             [
              1.0,
              "#f0f921"
             ]
            ]
           }
          ],
          "heatmap": [
           {
            "type": "heatmap",
            "colorbar": {
             "outlinewidth": 0,
             "ticks": ""
            },
            "colorscale": [
             [
              0.0,
              "#0d0887"
             ],
             [
              0.1111111111111111,
              "#46039f"
             ],
             [
              0.2222222222222222,
              "#7201a8"
             ],
             [
              0.3333333333333333,
              "#9c179e"
             ],
             [
              0.4444444444444444,
              "#bd3786"
             ],
             [
              0.5555555555555556,
              "#d8576b"
             ],
             [
              0.6666666666666666,
              "#ed7953"
             ],
             [
              0.7777777777777778,
              "#fb9f3a"
             ],
             [
              0.8888888888888888,
              "#fdca26"
             ],
             [
              1.0,
              "#f0f921"
             ]
            ]
           }
          ],
          "heatmapgl": [
           {
            "type": "heatmapgl",
            "colorbar": {
             "outlinewidth": 0,
             "ticks": ""
            },
            "colorscale": [
             [
              0.0,
              "#0d0887"
             ],
             [
              0.1111111111111111,
              "#46039f"
             ],
             [
              0.2222222222222222,
              "#7201a8"
             ],
             [
              0.3333333333333333,
              "#9c179e"
             ],
             [
              0.4444444444444444,
              "#bd3786"
             ],
             [
              0.5555555555555556,
              "#d8576b"
             ],
             [
              0.6666666666666666,
              "#ed7953"
             ],
             [
              0.7777777777777778,
              "#fb9f3a"
             ],
             [
              0.8888888888888888,
              "#fdca26"
             ],
             [
              1.0,
              "#f0f921"
             ]
            ]
           }
          ],
          "contourcarpet": [
           {
            "type": "contourcarpet",
            "colorbar": {
             "outlinewidth": 0,
             "ticks": ""
            }
           }
          ],
          "contour": [
           {
            "type": "contour",
            "colorbar": {
             "outlinewidth": 0,
             "ticks": ""
            },
            "colorscale": [
             [
              0.0,
              "#0d0887"
             ],
             [
              0.1111111111111111,
              "#46039f"
             ],
             [
              0.2222222222222222,
              "#7201a8"
             ],
             [
              0.3333333333333333,
              "#9c179e"
             ],
             [
              0.4444444444444444,
              "#bd3786"
             ],
             [
              0.5555555555555556,
              "#d8576b"
             ],
             [
              0.6666666666666666,
              "#ed7953"
             ],
             [
              0.7777777777777778,
              "#fb9f3a"
             ],
             [
              0.8888888888888888,
              "#fdca26"
             ],
             [
              1.0,
              "#f0f921"
             ]
            ]
           }
          ],
          "surface": [
           {
            "type": "surface",
            "colorbar": {
             "outlinewidth": 0,
             "ticks": ""
            },
            "colorscale": [
             [
              0.0,
              "#0d0887"
             ],
             [
              0.1111111111111111,
              "#46039f"
             ],
             [
              0.2222222222222222,
              "#7201a8"
             ],
             [
              0.3333333333333333,
              "#9c179e"
             ],
             [
              0.4444444444444444,
              "#bd3786"
             ],
             [
              0.5555555555555556,
              "#d8576b"
             ],
             [
              0.6666666666666666,
              "#ed7953"
             ],
             [
              0.7777777777777778,
              "#fb9f3a"
             ],
             [
              0.8888888888888888,
              "#fdca26"
             ],
             [
              1.0,
              "#f0f921"
             ]
            ]
           }
          ],
          "mesh3d": [
           {
            "type": "mesh3d",
            "colorbar": {
             "outlinewidth": 0,
             "ticks": ""
            }
           }
          ],
          "scatter": [
           {
            "marker": {
             "line": {
              "color": "#283442"
             }
            },
            "type": "scatter"
           }
          ],
          "parcoords": [
           {
            "type": "parcoords",
            "line": {
             "colorbar": {
              "outlinewidth": 0,
              "ticks": ""
             }
            }
           }
          ],
          "scatterpolargl": [
           {
            "type": "scatterpolargl",
            "marker": {
             "colorbar": {
              "outlinewidth": 0,
              "ticks": ""
             }
            }
           }
          ],
          "bar": [
           {
            "error_x": {
             "color": "#f2f5fa"
            },
            "error_y": {
             "color": "#f2f5fa"
            },
            "marker": {
             "line": {
              "color": "rgb(17,17,17)",
              "width": 0.5
             },
             "pattern": {
              "fillmode": "overlay",
              "size": 10,
              "solidity": 0.2
             }
            },
            "type": "bar"
           }
          ],
          "scattergeo": [
           {
            "type": "scattergeo",
            "marker": {
             "colorbar": {
              "outlinewidth": 0,
              "ticks": ""
             }
            }
           }
          ],
          "scatterpolar": [
           {
            "type": "scatterpolar",
            "marker": {
             "colorbar": {
              "outlinewidth": 0,
              "ticks": ""
             }
            }
           }
          ],
          "histogram": [
           {
            "marker": {
             "pattern": {
              "fillmode": "overlay",
              "size": 10,
              "solidity": 0.2
             }
            },
            "type": "histogram"
           }
          ],
          "scattergl": [
           {
            "marker": {
             "line": {
              "color": "#283442"
             }
            },
            "type": "scattergl"
           }
          ],
          "scatter3d": [
           {
            "type": "scatter3d",
            "line": {
             "colorbar": {
              "outlinewidth": 0,
              "ticks": ""
             }
            },
            "marker": {
             "colorbar": {
              "outlinewidth": 0,
              "ticks": ""
             }
            }
           }
          ],
          "scattermapbox": [
           {
            "type": "scattermapbox",
            "marker": {
             "colorbar": {
              "outlinewidth": 0,
              "ticks": ""
             }
            }
           }
          ],
          "scatterternary": [
           {
            "type": "scatterternary",
            "marker": {
             "colorbar": {
              "outlinewidth": 0,
              "ticks": ""
             }
            }
           }
          ],
          "scattercarpet": [
           {
            "type": "scattercarpet",
            "marker": {
             "colorbar": {
              "outlinewidth": 0,
              "ticks": ""
             }
            }
           }
          ],
          "carpet": [
           {
            "aaxis": {
             "endlinecolor": "#A2B1C6",
             "gridcolor": "#506784",
             "linecolor": "#506784",
             "minorgridcolor": "#506784",
             "startlinecolor": "#A2B1C6"
            },
            "baxis": {
             "endlinecolor": "#A2B1C6",
             "gridcolor": "#506784",
             "linecolor": "#506784",
             "minorgridcolor": "#506784",
             "startlinecolor": "#A2B1C6"
            },
            "type": "carpet"
           }
          ],
          "table": [
           {
            "cells": {
             "fill": {
              "color": "#506784"
             },
             "line": {
              "color": "rgb(17,17,17)"
             }
            },
            "header": {
             "fill": {
              "color": "#2a3f5f"
             },
             "line": {
              "color": "rgb(17,17,17)"
             }
            },
            "type": "table"
           }
          ],
          "barpolar": [
           {
            "marker": {
             "line": {
              "color": "rgb(17,17,17)",
              "width": 0.5
             },
             "pattern": {
              "fillmode": "overlay",
              "size": 10,
              "solidity": 0.2
             }
            },
            "type": "barpolar"
           }
          ],
          "pie": [
           {
            "automargin": true,
            "type": "pie"
           }
          ]
         },
         "layout": {
          "autotypenumbers": "strict",
          "colorway": [
           "#636efa",
           "#EF553B",
           "#00cc96",
           "#ab63fa",
           "#FFA15A",
           "#19d3f3",
           "#FF6692",
           "#B6E880",
           "#FF97FF",
           "#FECB52"
          ],
          "font": {
           "color": "#f2f5fa"
          },
          "hovermode": "closest",
          "hoverlabel": {
           "align": "left"
          },
          "paper_bgcolor": "rgb(17,17,17)",
          "plot_bgcolor": "rgb(17,17,17)",
          "polar": {
           "bgcolor": "rgb(17,17,17)",
           "angularaxis": {
            "gridcolor": "#506784",
            "linecolor": "#506784",
            "ticks": ""
           },
           "radialaxis": {
            "gridcolor": "#506784",
            "linecolor": "#506784",
            "ticks": ""
           }
          },
          "ternary": {
           "bgcolor": "rgb(17,17,17)",
           "aaxis": {
            "gridcolor": "#506784",
            "linecolor": "#506784",
            "ticks": ""
           },
           "baxis": {
            "gridcolor": "#506784",
            "linecolor": "#506784",
            "ticks": ""
           },
           "caxis": {
            "gridcolor": "#506784",
            "linecolor": "#506784",
            "ticks": ""
           }
          },
          "coloraxis": {
           "colorbar": {
            "outlinewidth": 0,
            "ticks": ""
           }
          },
          "colorscale": {
           "sequential": [
            [
             0.0,
             "#0d0887"
            ],
            [
             0.1111111111111111,
             "#46039f"
            ],
            [
             0.2222222222222222,
             "#7201a8"
            ],
            [
             0.3333333333333333,
             "#9c179e"
            ],
            [
             0.4444444444444444,
             "#bd3786"
            ],
            [
             0.5555555555555556,
             "#d8576b"
            ],
            [
             0.6666666666666666,
             "#ed7953"
            ],
            [
             0.7777777777777778,
             "#fb9f3a"
            ],
            [
             0.8888888888888888,
             "#fdca26"
            ],
            [
             1.0,
             "#f0f921"
            ]
           ],
           "sequentialminus": [
            [
             0.0,
             "#0d0887"
            ],
            [
             0.1111111111111111,
             "#46039f"
            ],
            [
             0.2222222222222222,
             "#7201a8"
            ],
            [
             0.3333333333333333,
             "#9c179e"
            ],
            [
             0.4444444444444444,
             "#bd3786"
            ],
            [
             0.5555555555555556,
             "#d8576b"
            ],
            [
             0.6666666666666666,
             "#ed7953"
            ],
            [
             0.7777777777777778,
             "#fb9f3a"
            ],
            [
             0.8888888888888888,
             "#fdca26"
            ],
            [
             1.0,
             "#f0f921"
            ]
           ],
           "diverging": [
            [
             0,
             "#8e0152"
            ],
            [
             0.1,
             "#c51b7d"
            ],
            [
             0.2,
             "#de77ae"
            ],
            [
             0.3,
             "#f1b6da"
            ],
            [
             0.4,
             "#fde0ef"
            ],
            [
             0.5,
             "#f7f7f7"
            ],
            [
             0.6,
             "#e6f5d0"
            ],
            [
             0.7,
             "#b8e186"
            ],
            [
             0.8,
             "#7fbc41"
            ],
            [
             0.9,
             "#4d9221"
            ],
            [
             1,
             "#276419"
            ]
           ]
          },
          "xaxis": {
           "gridcolor": "#283442",
           "linecolor": "#506784",
           "ticks": "",
           "title": {
            "standoff": 15
           },
           "zerolinecolor": "#283442",
           "automargin": true,
           "zerolinewidth": 2
          },
          "yaxis": {
           "gridcolor": "#283442",
           "linecolor": "#506784",
           "ticks": "",
           "title": {
            "standoff": 15
           },
           "zerolinecolor": "#283442",
           "automargin": true,
           "zerolinewidth": 2
          },
          "scene": {
           "xaxis": {
            "backgroundcolor": "rgb(17,17,17)",
            "gridcolor": "#506784",
            "linecolor": "#506784",
            "showbackground": true,
            "ticks": "",
            "zerolinecolor": "#C8D4E3",
            "gridwidth": 2
           },
           "yaxis": {
            "backgroundcolor": "rgb(17,17,17)",
            "gridcolor": "#506784",
            "linecolor": "#506784",
            "showbackground": true,
            "ticks": "",
            "zerolinecolor": "#C8D4E3",
            "gridwidth": 2
           },
           "zaxis": {
            "backgroundcolor": "rgb(17,17,17)",
            "gridcolor": "#506784",
            "linecolor": "#506784",
            "showbackground": true,
            "ticks": "",
            "zerolinecolor": "#C8D4E3",
            "gridwidth": 2
           }
          },
          "shapedefaults": {
           "line": {
            "color": "#f2f5fa"
           }
          },
          "annotationdefaults": {
           "arrowcolor": "#f2f5fa",
           "arrowhead": 0,
           "arrowwidth": 1
          },
          "geo": {
           "bgcolor": "rgb(17,17,17)",
           "landcolor": "rgb(17,17,17)",
           "subunitcolor": "#506784",
           "showland": true,
           "showlakes": true,
           "lakecolor": "rgb(17,17,17)"
          },
          "title": {
           "x": 0.05
          },
          "updatemenudefaults": {
           "bgcolor": "#506784",
           "borderwidth": 0
          },
          "sliderdefaults": {
           "bgcolor": "#C8D4E3",
           "borderwidth": 1,
           "bordercolor": "rgb(17,17,17)",
           "tickwidth": 0
          },
          "mapbox": {
           "style": "dark"
          }
         }
        },
        "xaxis": {
         "anchor": "y",
         "domain": [
          0.0,
          1.0
         ],
         "title": {
          "text": "Culmen Length (mm)"
         }
        },
        "yaxis": {
         "anchor": "x",
         "domain": [
          0.0,
          1.0
         ],
         "title": {
          "text": "Culmen Depth (mm)"
         }
        },
        "legend": {
         "title": {
          "text": "Species"
         },
         "tracegroupgap": 0
        },
        "title": {
         "text": "Penguin Culmen Statistics"
        }
       },
       "config": {
        "plotlyServerURL": "https://plot.ly"
       }
      },
      "text/html": "<div>                            <div id=\"db897615-7507-46a8-861f-3ef1f8452ffd\" class=\"plotly-graph-div\" style=\"height:525px; width:100%;\"></div>            <script type=\"text/javascript\">                require([\"plotly\"], function(Plotly) {                    window.PLOTLYENV=window.PLOTLYENV || {};                                    if (document.getElementById(\"db897615-7507-46a8-861f-3ef1f8452ffd\")) {                    Plotly.newPlot(                        \"db897615-7507-46a8-861f-3ef1f8452ffd\",                        [{\"customdata\":[[\"Adelie Penguin (Pygoscelis adeliae)\"],[\"Adelie Penguin (Pygoscelis adeliae)\"],[\"Adelie Penguin (Pygoscelis adeliae)\"],[\"Adelie Penguin (Pygoscelis adeliae)\"],[\"Adelie Penguin (Pygoscelis adeliae)\"],[\"Adelie Penguin (Pygoscelis adeliae)\"],[\"Adelie Penguin (Pygoscelis adeliae)\"],[\"Adelie Penguin (Pygoscelis adeliae)\"],[\"Adelie Penguin (Pygoscelis adeliae)\"],[\"Adelie Penguin (Pygoscelis adeliae)\"],[\"Adelie Penguin (Pygoscelis adeliae)\"],[\"Adelie Penguin (Pygoscelis adeliae)\"],[\"Adelie Penguin (Pygoscelis adeliae)\"],[\"Adelie Penguin (Pygoscelis adeliae)\"],[\"Adelie Penguin (Pygoscelis adeliae)\"],[\"Adelie Penguin (Pygoscelis adeliae)\"],[\"Adelie Penguin (Pygoscelis adeliae)\"],[\"Adelie Penguin (Pygoscelis adeliae)\"],[\"Adelie Penguin (Pygoscelis adeliae)\"],[\"Adelie Penguin (Pygoscelis adeliae)\"],[\"Adelie Penguin (Pygoscelis adeliae)\"],[\"Adelie Penguin (Pygoscelis adeliae)\"],[\"Adelie Penguin (Pygoscelis adeliae)\"],[\"Adelie Penguin (Pygoscelis adeliae)\"],[\"Adelie Penguin (Pygoscelis adeliae)\"],[\"Adelie Penguin (Pygoscelis adeliae)\"],[\"Adelie Penguin (Pygoscelis adeliae)\"],[\"Adelie Penguin (Pygoscelis adeliae)\"],[\"Adelie Penguin (Pygoscelis adeliae)\"],[\"Adelie Penguin (Pygoscelis adeliae)\"],[\"Adelie Penguin (Pygoscelis adeliae)\"],[\"Adelie Penguin (Pygoscelis adeliae)\"],[\"Adelie Penguin (Pygoscelis adeliae)\"],[\"Adelie Penguin (Pygoscelis adeliae)\"],[\"Adelie Penguin (Pygoscelis adeliae)\"],[\"Adelie Penguin (Pygoscelis adeliae)\"],[\"Adelie Penguin (Pygoscelis adeliae)\"],[\"Adelie Penguin (Pygoscelis adeliae)\"],[\"Adelie Penguin (Pygoscelis adeliae)\"],[\"Adelie Penguin (Pygoscelis adeliae)\"],[\"Adelie Penguin (Pygoscelis adeliae)\"],[\"Adelie Penguin (Pygoscelis adeliae)\"],[\"Adelie Penguin (Pygoscelis adeliae)\"],[\"Adelie Penguin (Pygoscelis adeliae)\"],[\"Adelie Penguin (Pygoscelis adeliae)\"],[\"Adelie Penguin (Pygoscelis adeliae)\"],[\"Adelie Penguin (Pygoscelis adeliae)\"],[\"Adelie Penguin (Pygoscelis adeliae)\"],[\"Adelie Penguin (Pygoscelis adeliae)\"],[\"Adelie Penguin (Pygoscelis adeliae)\"],[\"Adelie Penguin (Pygoscelis adeliae)\"],[\"Adelie Penguin (Pygoscelis adeliae)\"],[\"Adelie Penguin (Pygoscelis adeliae)\"],[\"Adelie Penguin (Pygoscelis adeliae)\"],[\"Adelie Penguin (Pygoscelis adeliae)\"],[\"Adelie Penguin (Pygoscelis adeliae)\"],[\"Adelie Penguin (Pygoscelis adeliae)\"],[\"Adelie Penguin (Pygoscelis adeliae)\"],[\"Adelie Penguin (Pygoscelis adeliae)\"],[\"Adelie Penguin (Pygoscelis adeliae)\"],[\"Adelie Penguin (Pygoscelis adeliae)\"],[\"Adelie Penguin (Pygoscelis adeliae)\"],[\"Adelie Penguin (Pygoscelis adeliae)\"],[\"Adelie Penguin (Pygoscelis adeliae)\"],[\"Adelie Penguin (Pygoscelis adeliae)\"],[\"Adelie Penguin (Pygoscelis adeliae)\"],[\"Adelie Penguin (Pygoscelis adeliae)\"],[\"Adelie Penguin (Pygoscelis adeliae)\"],[\"Adelie Penguin (Pygoscelis adeliae)\"],[\"Adelie Penguin (Pygoscelis adeliae)\"],[\"Adelie Penguin (Pygoscelis adeliae)\"],[\"Adelie Penguin (Pygoscelis adeliae)\"],[\"Adelie Penguin (Pygoscelis adeliae)\"],[\"Adelie Penguin (Pygoscelis adeliae)\"],[\"Adelie Penguin (Pygoscelis adeliae)\"],[\"Adelie Penguin (Pygoscelis adeliae)\"],[\"Adelie Penguin (Pygoscelis adeliae)\"],[\"Adelie Penguin (Pygoscelis adeliae)\"],[\"Adelie Penguin (Pygoscelis adeliae)\"],[\"Adelie Penguin (Pygoscelis adeliae)\"],[\"Adelie Penguin (Pygoscelis adeliae)\"],[\"Adelie Penguin (Pygoscelis adeliae)\"],[\"Adelie Penguin (Pygoscelis adeliae)\"],[\"Adelie Penguin (Pygoscelis adeliae)\"],[\"Adelie Penguin (Pygoscelis adeliae)\"],[\"Adelie Penguin (Pygoscelis adeliae)\"],[\"Adelie Penguin (Pygoscelis adeliae)\"],[\"Adelie Penguin (Pygoscelis adeliae)\"],[\"Adelie Penguin (Pygoscelis adeliae)\"],[\"Adelie Penguin (Pygoscelis adeliae)\"],[\"Adelie Penguin (Pygoscelis adeliae)\"],[\"Adelie Penguin (Pygoscelis adeliae)\"],[\"Adelie Penguin (Pygoscelis adeliae)\"],[\"Adelie Penguin (Pygoscelis adeliae)\"],[\"Adelie Penguin (Pygoscelis adeliae)\"],[\"Adelie Penguin (Pygoscelis adeliae)\"],[\"Adelie Penguin (Pygoscelis adeliae)\"],[\"Adelie Penguin (Pygoscelis adeliae)\"],[\"Adelie Penguin (Pygoscelis adeliae)\"],[\"Adelie Penguin (Pygoscelis adeliae)\"],[\"Adelie Penguin (Pygoscelis adeliae)\"],[\"Adelie Penguin (Pygoscelis adeliae)\"],[\"Adelie Penguin (Pygoscelis adeliae)\"],[\"Adelie Penguin (Pygoscelis adeliae)\"],[\"Adelie Penguin (Pygoscelis adeliae)\"],[\"Adelie Penguin (Pygoscelis adeliae)\"],[\"Adelie Penguin (Pygoscelis adeliae)\"],[\"Adelie Penguin (Pygoscelis adeliae)\"],[\"Adelie Penguin (Pygoscelis adeliae)\"],[\"Adelie Penguin (Pygoscelis adeliae)\"],[\"Adelie Penguin (Pygoscelis adeliae)\"],[\"Adelie Penguin (Pygoscelis adeliae)\"],[\"Adelie Penguin (Pygoscelis adeliae)\"],[\"Adelie Penguin (Pygoscelis adeliae)\"],[\"Adelie Penguin (Pygoscelis adeliae)\"],[\"Adelie Penguin (Pygoscelis adeliae)\"],[\"Adelie Penguin (Pygoscelis adeliae)\"],[\"Adelie Penguin (Pygoscelis adeliae)\"],[\"Adelie Penguin (Pygoscelis adeliae)\"],[\"Adelie Penguin (Pygoscelis adeliae)\"],[\"Adelie Penguin (Pygoscelis adeliae)\"],[\"Adelie Penguin (Pygoscelis adeliae)\"],[\"Adelie Penguin (Pygoscelis adeliae)\"],[\"Adelie Penguin (Pygoscelis adeliae)\"],[\"Adelie Penguin (Pygoscelis adeliae)\"],[\"Adelie Penguin (Pygoscelis adeliae)\"],[\"Adelie Penguin (Pygoscelis adeliae)\"],[\"Adelie Penguin (Pygoscelis adeliae)\"],[\"Adelie Penguin (Pygoscelis adeliae)\"],[\"Adelie Penguin (Pygoscelis adeliae)\"],[\"Adelie Penguin (Pygoscelis adeliae)\"],[\"Adelie Penguin (Pygoscelis adeliae)\"],[\"Adelie Penguin (Pygoscelis adeliae)\"],[\"Adelie Penguin (Pygoscelis adeliae)\"],[\"Adelie Penguin (Pygoscelis adeliae)\"],[\"Adelie Penguin (Pygoscelis adeliae)\"],[\"Adelie Penguin (Pygoscelis adeliae)\"],[\"Adelie Penguin (Pygoscelis adeliae)\"],[\"Adelie Penguin (Pygoscelis adeliae)\"],[\"Adelie Penguin (Pygoscelis adeliae)\"],[\"Adelie Penguin (Pygoscelis adeliae)\"],[\"Adelie Penguin (Pygoscelis adeliae)\"],[\"Adelie Penguin (Pygoscelis adeliae)\"],[\"Adelie Penguin (Pygoscelis adeliae)\"],[\"Adelie Penguin (Pygoscelis adeliae)\"],[\"Adelie Penguin (Pygoscelis adeliae)\"],[\"Adelie Penguin (Pygoscelis adeliae)\"],[\"Adelie Penguin (Pygoscelis adeliae)\"],[\"Adelie Penguin (Pygoscelis adeliae)\"],[\"Adelie Penguin (Pygoscelis adeliae)\"],[\"Adelie Penguin (Pygoscelis adeliae)\"],[\"Adelie Penguin (Pygoscelis adeliae)\"]],\"hovertemplate\":\"\\u003cb\\u003e%{hovertext}\\u003c\\u002fb\\u003e\\u003cbr\\u003e\\u003cbr\\u003eSpecies=%{customdata[0]}\\u003cbr\\u003eCulmen Length (mm)=%{x}\\u003cbr\\u003eCulmen Depth (mm)=%{y}\\u003cextra\\u003e\\u003c\\u002fextra\\u003e\",\"hovertext\":[\"Torgersen\",\"Torgersen\",\"Torgersen\",\"Torgersen\",\"Torgersen\",\"Torgersen\",\"Torgersen\",\"Torgersen\",\"Torgersen\",\"Torgersen\",\"Torgersen\",\"Torgersen\",\"Torgersen\",\"Torgersen\",\"Torgersen\",\"Torgersen\",\"Torgersen\",\"Torgersen\",\"Torgersen\",\"Torgersen\",\"Biscoe\",\"Biscoe\",\"Biscoe\",\"Biscoe\",\"Biscoe\",\"Biscoe\",\"Biscoe\",\"Biscoe\",\"Biscoe\",\"Biscoe\",\"Dream\",\"Dream\",\"Dream\",\"Dream\",\"Dream\",\"Dream\",\"Dream\",\"Dream\",\"Dream\",\"Dream\",\"Dream\",\"Dream\",\"Dream\",\"Dream\",\"Dream\",\"Dream\",\"Dream\",\"Dream\",\"Dream\",\"Dream\",\"Biscoe\",\"Biscoe\",\"Biscoe\",\"Biscoe\",\"Biscoe\",\"Biscoe\",\"Biscoe\",\"Biscoe\",\"Biscoe\",\"Biscoe\",\"Biscoe\",\"Biscoe\",\"Biscoe\",\"Biscoe\",\"Biscoe\",\"Biscoe\",\"Biscoe\",\"Biscoe\",\"Torgersen\",\"Torgersen\",\"Torgersen\",\"Torgersen\",\"Torgersen\",\"Torgersen\",\"Torgersen\",\"Torgersen\",\"Torgersen\",\"Torgersen\",\"Torgersen\",\"Torgersen\",\"Torgersen\",\"Torgersen\",\"Torgersen\",\"Torgersen\",\"Dream\",\"Dream\",\"Dream\",\"Dream\",\"Dream\",\"Dream\",\"Dream\",\"Dream\",\"Dream\",\"Dream\",\"Dream\",\"Dream\",\"Dream\",\"Dream\",\"Dream\",\"Dream\",\"Biscoe\",\"Biscoe\",\"Biscoe\",\"Biscoe\",\"Biscoe\",\"Biscoe\",\"Biscoe\",\"Biscoe\",\"Biscoe\",\"Biscoe\",\"Biscoe\",\"Biscoe\",\"Biscoe\",\"Biscoe\",\"Biscoe\",\"Biscoe\",\"Torgersen\",\"Torgersen\",\"Torgersen\",\"Torgersen\",\"Torgersen\",\"Torgersen\",\"Torgersen\",\"Torgersen\",\"Torgersen\",\"Torgersen\",\"Torgersen\",\"Torgersen\",\"Torgersen\",\"Torgersen\",\"Torgersen\",\"Torgersen\",\"Dream\",\"Dream\",\"Dream\",\"Dream\",\"Dream\",\"Dream\",\"Dream\",\"Dream\",\"Dream\",\"Dream\",\"Dream\",\"Dream\",\"Dream\",\"Dream\",\"Dream\",\"Dream\",\"Dream\",\"Dream\",\"Dream\",\"Dream\"],\"legendgroup\":\"Adelie Penguin (Pygoscelis adeliae)\",\"marker\":{\"color\":\"#ab63fa\",\"symbol\":\"circle\"},\"mode\":\"markers\",\"name\":\"Adelie Penguin (Pygoscelis adeliae)\",\"orientation\":\"v\",\"showlegend\":true,\"x\":[39.1,39.5,40.3,null,36.7,39.3,38.9,39.2,34.1,42.0,37.8,37.8,41.1,38.6,34.6,36.6,38.7,42.5,34.4,46.0,37.8,37.7,35.9,38.2,38.8,35.3,40.6,40.5,37.9,40.5,39.5,37.2,39.5,40.9,36.4,39.2,38.8,42.2,37.6,39.8,36.5,40.8,36.0,44.1,37.0,39.6,41.1,37.5,36.0,42.3,39.6,40.1,35.0,42.0,34.5,41.4,39.0,40.6,36.5,37.6,35.7,41.3,37.6,41.1,36.4,41.6,35.5,41.1,35.9,41.8,33.5,39.7,39.6,45.8,35.5,42.8,40.9,37.2,36.2,42.1,34.6,42.9,36.7,35.1,37.3,41.3,36.3,36.9,38.3,38.9,35.7,41.1,34.0,39.6,36.2,40.8,38.1,40.3,33.1,43.2,35.0,41.0,37.7,37.8,37.9,39.7,38.6,38.2,38.1,43.2,38.1,45.6,39.7,42.2,39.6,42.7,38.6,37.3,35.7,41.1,36.2,37.7,40.2,41.4,35.2,40.6,38.8,41.5,39.0,44.1,38.5,43.1,36.8,37.5,38.1,41.1,35.6,40.2,37.0,39.7,40.2,40.6,32.1,40.7,37.3,39.0,39.2,36.6,36.0,37.8,36.0,41.5],\"xaxis\":\"x\",\"y\":[18.7,17.4,18.0,null,19.3,20.6,17.8,19.6,18.1,20.2,17.1,17.3,17.6,21.2,21.1,17.8,19.0,20.7,18.4,21.5,18.3,18.7,19.2,18.1,17.2,18.9,18.6,17.9,18.6,18.9,16.7,18.1,17.8,18.9,17.0,21.1,20.0,18.5,19.3,19.1,18.0,18.4,18.5,19.7,16.9,18.8,19.0,18.9,17.9,21.2,17.7,18.9,17.9,19.5,18.1,18.6,17.5,18.8,16.6,19.1,16.9,21.1,17.0,18.2,17.1,18.0,16.2,19.1,16.6,19.4,19.0,18.4,17.2,18.9,17.5,18.5,16.8,19.4,16.1,19.1,17.2,17.6,18.8,19.4,17.8,20.3,19.5,18.6,19.2,18.8,18.0,18.1,17.1,18.1,17.3,18.9,18.6,18.5,16.1,18.5,17.9,20.0,16.0,20.0,18.6,18.9,17.2,20.0,17.0,19.0,16.5,20.3,17.7,19.5,20.7,18.3,17.0,20.5,17.0,18.6,17.2,19.8,17.0,18.5,15.9,19.0,17.6,18.3,17.1,18.0,17.9,19.2,18.5,18.5,17.6,17.5,17.5,20.1,16.5,17.9,17.1,17.2,15.5,17.0,16.8,18.7,18.6,18.4,17.8,18.1,17.1,18.5],\"yaxis\":\"y\",\"type\":\"scatter\"},{\"customdata\":[[\"Gentoo penguin (Pygoscelis papua)\"],[\"Gentoo penguin (Pygoscelis papua)\"],[\"Gentoo penguin (Pygoscelis papua)\"],[\"Gentoo penguin (Pygoscelis papua)\"],[\"Gentoo penguin (Pygoscelis papua)\"],[\"Gentoo penguin (Pygoscelis papua)\"],[\"Gentoo penguin (Pygoscelis papua)\"],[\"Gentoo penguin (Pygoscelis papua)\"],[\"Gentoo penguin (Pygoscelis papua)\"],[\"Gentoo penguin (Pygoscelis papua)\"],[\"Gentoo penguin (Pygoscelis papua)\"],[\"Gentoo penguin (Pygoscelis papua)\"],[\"Gentoo penguin (Pygoscelis papua)\"],[\"Gentoo penguin (Pygoscelis papua)\"],[\"Gentoo penguin (Pygoscelis papua)\"],[\"Gentoo penguin (Pygoscelis papua)\"],[\"Gentoo penguin (Pygoscelis papua)\"],[\"Gentoo penguin (Pygoscelis papua)\"],[\"Gentoo penguin (Pygoscelis papua)\"],[\"Gentoo penguin (Pygoscelis papua)\"],[\"Gentoo penguin (Pygoscelis papua)\"],[\"Gentoo penguin (Pygoscelis papua)\"],[\"Gentoo penguin (Pygoscelis papua)\"],[\"Gentoo penguin (Pygoscelis papua)\"],[\"Gentoo penguin (Pygoscelis papua)\"],[\"Gentoo penguin (Pygoscelis papua)\"],[\"Gentoo penguin (Pygoscelis papua)\"],[\"Gentoo penguin (Pygoscelis papua)\"],[\"Gentoo penguin (Pygoscelis papua)\"],[\"Gentoo penguin (Pygoscelis papua)\"],[\"Gentoo penguin (Pygoscelis papua)\"],[\"Gentoo penguin (Pygoscelis papua)\"],[\"Gentoo penguin (Pygoscelis papua)\"],[\"Gentoo penguin (Pygoscelis papua)\"],[\"Gentoo penguin (Pygoscelis papua)\"],[\"Gentoo penguin (Pygoscelis papua)\"],[\"Gentoo penguin (Pygoscelis papua)\"],[\"Gentoo penguin (Pygoscelis papua)\"],[\"Gentoo penguin (Pygoscelis papua)\"],[\"Gentoo penguin (Pygoscelis papua)\"],[\"Gentoo penguin (Pygoscelis papua)\"],[\"Gentoo penguin (Pygoscelis papua)\"],[\"Gentoo penguin (Pygoscelis papua)\"],[\"Gentoo penguin (Pygoscelis papua)\"],[\"Gentoo penguin (Pygoscelis papua)\"],[\"Gentoo penguin (Pygoscelis papua)\"],[\"Gentoo penguin (Pygoscelis papua)\"],[\"Gentoo penguin (Pygoscelis papua)\"],[\"Gentoo penguin (Pygoscelis papua)\"],[\"Gentoo penguin (Pygoscelis papua)\"],[\"Gentoo penguin (Pygoscelis papua)\"],[\"Gentoo penguin (Pygoscelis papua)\"],[\"Gentoo penguin (Pygoscelis papua)\"],[\"Gentoo penguin (Pygoscelis papua)\"],[\"Gentoo penguin (Pygoscelis papua)\"],[\"Gentoo penguin (Pygoscelis papua)\"],[\"Gentoo penguin (Pygoscelis papua)\"],[\"Gentoo penguin (Pygoscelis papua)\"],[\"Gentoo penguin (Pygoscelis papua)\"],[\"Gentoo penguin (Pygoscelis papua)\"],[\"Gentoo penguin (Pygoscelis papua)\"],[\"Gentoo penguin (Pygoscelis papua)\"],[\"Gentoo penguin (Pygoscelis papua)\"],[\"Gentoo penguin (Pygoscelis papua)\"],[\"Gentoo penguin (Pygoscelis papua)\"],[\"Gentoo penguin (Pygoscelis papua)\"],[\"Gentoo penguin (Pygoscelis papua)\"],[\"Gentoo penguin (Pygoscelis papua)\"],[\"Gentoo penguin (Pygoscelis papua)\"],[\"Gentoo penguin (Pygoscelis papua)\"],[\"Gentoo penguin (Pygoscelis papua)\"],[\"Gentoo penguin (Pygoscelis papua)\"],[\"Gentoo penguin (Pygoscelis papua)\"],[\"Gentoo penguin (Pygoscelis papua)\"],[\"Gentoo penguin (Pygoscelis papua)\"],[\"Gentoo penguin (Pygoscelis papua)\"],[\"Gentoo penguin (Pygoscelis papua)\"],[\"Gentoo penguin (Pygoscelis papua)\"],[\"Gentoo penguin (Pygoscelis papua)\"],[\"Gentoo penguin (Pygoscelis papua)\"],[\"Gentoo penguin (Pygoscelis papua)\"],[\"Gentoo penguin (Pygoscelis papua)\"],[\"Gentoo penguin (Pygoscelis papua)\"],[\"Gentoo penguin (Pygoscelis papua)\"],[\"Gentoo penguin (Pygoscelis papua)\"],[\"Gentoo penguin (Pygoscelis papua)\"],[\"Gentoo penguin (Pygoscelis papua)\"],[\"Gentoo penguin (Pygoscelis papua)\"],[\"Gentoo penguin (Pygoscelis papua)\"],[\"Gentoo penguin (Pygoscelis papua)\"],[\"Gentoo penguin (Pygoscelis papua)\"],[\"Gentoo penguin (Pygoscelis papua)\"],[\"Gentoo penguin (Pygoscelis papua)\"],[\"Gentoo penguin (Pygoscelis papua)\"],[\"Gentoo penguin (Pygoscelis papua)\"],[\"Gentoo penguin (Pygoscelis papua)\"],[\"Gentoo penguin (Pygoscelis papua)\"],[\"Gentoo penguin (Pygoscelis papua)\"],[\"Gentoo penguin (Pygoscelis papua)\"],[\"Gentoo penguin (Pygoscelis papua)\"],[\"Gentoo penguin (Pygoscelis papua)\"],[\"Gentoo penguin (Pygoscelis papua)\"],[\"Gentoo penguin (Pygoscelis papua)\"],[\"Gentoo penguin (Pygoscelis papua)\"],[\"Gentoo penguin (Pygoscelis papua)\"],[\"Gentoo penguin (Pygoscelis papua)\"],[\"Gentoo penguin (Pygoscelis papua)\"],[\"Gentoo penguin (Pygoscelis papua)\"],[\"Gentoo penguin (Pygoscelis papua)\"],[\"Gentoo penguin (Pygoscelis papua)\"],[\"Gentoo penguin (Pygoscelis papua)\"],[\"Gentoo penguin (Pygoscelis papua)\"],[\"Gentoo penguin (Pygoscelis papua)\"],[\"Gentoo penguin (Pygoscelis papua)\"],[\"Gentoo penguin (Pygoscelis papua)\"],[\"Gentoo penguin (Pygoscelis papua)\"],[\"Gentoo penguin (Pygoscelis papua)\"],[\"Gentoo penguin (Pygoscelis papua)\"],[\"Gentoo penguin (Pygoscelis papua)\"],[\"Gentoo penguin (Pygoscelis papua)\"],[\"Gentoo penguin (Pygoscelis papua)\"],[\"Gentoo penguin (Pygoscelis papua)\"],[\"Gentoo penguin (Pygoscelis papua)\"],[\"Gentoo penguin (Pygoscelis papua)\"]],\"hovertemplate\":\"\\u003cb\\u003e%{hovertext}\\u003c\\u002fb\\u003e\\u003cbr\\u003e\\u003cbr\\u003eSpecies=%{customdata[0]}\\u003cbr\\u003eCulmen Length (mm)=%{x}\\u003cbr\\u003eCulmen Depth (mm)=%{y}\\u003cextra\\u003e\\u003c\\u002fextra\\u003e\",\"hovertext\":[\"Biscoe\",\"Biscoe\",\"Biscoe\",\"Biscoe\",\"Biscoe\",\"Biscoe\",\"Biscoe\",\"Biscoe\",\"Biscoe\",\"Biscoe\",\"Biscoe\",\"Biscoe\",\"Biscoe\",\"Biscoe\",\"Biscoe\",\"Biscoe\",\"Biscoe\",\"Biscoe\",\"Biscoe\",\"Biscoe\",\"Biscoe\",\"Biscoe\",\"Biscoe\",\"Biscoe\",\"Biscoe\",\"Biscoe\",\"Biscoe\",\"Biscoe\",\"Biscoe\",\"Biscoe\",\"Biscoe\",\"Biscoe\",\"Biscoe\",\"Biscoe\",\"Biscoe\",\"Biscoe\",\"Biscoe\",\"Biscoe\",\"Biscoe\",\"Biscoe\",\"Biscoe\",\"Biscoe\",\"Biscoe\",\"Biscoe\",\"Biscoe\",\"Biscoe\",\"Biscoe\",\"Biscoe\",\"Biscoe\",\"Biscoe\",\"Biscoe\",\"Biscoe\",\"Biscoe\",\"Biscoe\",\"Biscoe\",\"Biscoe\",\"Biscoe\",\"Biscoe\",\"Biscoe\",\"Biscoe\",\"Biscoe\",\"Biscoe\",\"Biscoe\",\"Biscoe\",\"Biscoe\",\"Biscoe\",\"Biscoe\",\"Biscoe\",\"Biscoe\",\"Biscoe\",\"Biscoe\",\"Biscoe\",\"Biscoe\",\"Biscoe\",\"Biscoe\",\"Biscoe\",\"Biscoe\",\"Biscoe\",\"Biscoe\",\"Biscoe\",\"Biscoe\",\"Biscoe\",\"Biscoe\",\"Biscoe\",\"Biscoe\",\"Biscoe\",\"Biscoe\",\"Biscoe\",\"Biscoe\",\"Biscoe\",\"Biscoe\",\"Biscoe\",\"Biscoe\",\"Biscoe\",\"Biscoe\",\"Biscoe\",\"Biscoe\",\"Biscoe\",\"Biscoe\",\"Biscoe\",\"Biscoe\",\"Biscoe\",\"Biscoe\",\"Biscoe\",\"Biscoe\",\"Biscoe\",\"Biscoe\",\"Biscoe\",\"Biscoe\",\"Biscoe\",\"Biscoe\",\"Biscoe\",\"Biscoe\",\"Biscoe\",\"Biscoe\",\"Biscoe\",\"Biscoe\",\"Biscoe\",\"Biscoe\",\"Biscoe\",\"Biscoe\",\"Biscoe\",\"Biscoe\",\"Biscoe\"],\"legendgroup\":\"Gentoo penguin (Pygoscelis papua)\",\"marker\":{\"color\":\"#FFA15A\",\"symbol\":\"circle\"},\"mode\":\"markers\",\"name\":\"Gentoo penguin (Pygoscelis papua)\",\"orientation\":\"v\",\"showlegend\":true,\"x\":[46.1,50.0,48.7,50.0,47.6,46.5,45.4,46.7,43.3,46.8,40.9,49.0,45.5,48.4,45.8,49.3,42.0,49.2,46.2,48.7,50.2,45.1,46.5,46.3,42.9,46.1,44.5,47.8,48.2,50.0,47.3,42.8,45.1,59.6,49.1,48.4,42.6,44.4,44.0,48.7,42.7,49.6,45.3,49.6,50.5,43.6,45.5,50.5,44.9,45.2,46.6,48.5,45.1,50.1,46.5,45.0,43.8,45.5,43.2,50.4,45.3,46.2,45.7,54.3,45.8,49.8,46.2,49.5,43.5,50.7,47.7,46.4,48.2,46.5,46.4,48.6,47.5,51.1,45.2,45.2,49.1,52.5,47.4,50.0,44.9,50.8,43.4,51.3,47.5,52.1,47.5,52.2,45.5,49.5,44.5,50.8,49.4,46.9,48.4,51.1,48.5,55.9,47.2,49.1,47.3,46.8,41.7,53.4,43.3,48.1,50.5,49.8,43.5,51.5,46.2,55.1,44.5,48.8,47.2,null,46.8,50.4,45.2,49.9],\"xaxis\":\"x\",\"y\":[13.2,16.3,14.1,15.2,14.5,13.5,14.6,15.3,13.4,15.4,13.7,16.1,13.7,14.6,14.6,15.7,13.5,15.2,14.5,15.1,14.3,14.5,14.5,15.8,13.1,15.1,14.3,15.0,14.3,15.3,15.3,14.2,14.5,17.0,14.8,16.3,13.7,17.3,13.6,15.7,13.7,16.0,13.7,15.0,15.9,13.9,13.9,15.9,13.3,15.8,14.2,14.1,14.4,15.0,14.4,15.4,13.9,15.0,14.5,15.3,13.8,14.9,13.9,15.7,14.2,16.8,14.4,16.2,14.2,15.0,15.0,15.6,15.6,14.8,15.0,16.0,14.2,16.3,13.8,16.4,14.5,15.6,14.6,15.9,13.8,17.3,14.4,14.2,14.0,17.0,15.0,17.1,14.5,16.1,14.7,15.7,15.8,14.6,14.4,16.5,15.0,17.0,15.5,15.0,13.8,16.1,14.7,15.8,14.0,15.1,15.2,15.9,15.2,16.3,14.1,16.0,15.7,16.2,13.7,null,14.3,15.7,14.8,16.1],\"yaxis\":\"y\",\"type\":\"scatter\"},{\"customdata\":[[\"Chinstrap penguin (Pygoscelis antarctica)\"],[\"Chinstrap penguin (Pygoscelis antarctica)\"],[\"Chinstrap penguin (Pygoscelis antarctica)\"],[\"Chinstrap penguin (Pygoscelis antarctica)\"],[\"Chinstrap penguin (Pygoscelis antarctica)\"],[\"Chinstrap penguin (Pygoscelis antarctica)\"],[\"Chinstrap penguin (Pygoscelis antarctica)\"],[\"Chinstrap penguin (Pygoscelis antarctica)\"],[\"Chinstrap penguin (Pygoscelis antarctica)\"],[\"Chinstrap penguin (Pygoscelis antarctica)\"],[\"Chinstrap penguin (Pygoscelis antarctica)\"],[\"Chinstrap penguin (Pygoscelis antarctica)\"],[\"Chinstrap penguin (Pygoscelis antarctica)\"],[\"Chinstrap penguin (Pygoscelis antarctica)\"],[\"Chinstrap penguin (Pygoscelis antarctica)\"],[\"Chinstrap penguin (Pygoscelis antarctica)\"],[\"Chinstrap penguin (Pygoscelis antarctica)\"],[\"Chinstrap penguin (Pygoscelis antarctica)\"],[\"Chinstrap penguin (Pygoscelis antarctica)\"],[\"Chinstrap penguin (Pygoscelis antarctica)\"],[\"Chinstrap penguin (Pygoscelis antarctica)\"],[\"Chinstrap penguin (Pygoscelis antarctica)\"],[\"Chinstrap penguin (Pygoscelis antarctica)\"],[\"Chinstrap penguin (Pygoscelis antarctica)\"],[\"Chinstrap penguin (Pygoscelis antarctica)\"],[\"Chinstrap penguin (Pygoscelis antarctica)\"],[\"Chinstrap penguin (Pygoscelis antarctica)\"],[\"Chinstrap penguin (Pygoscelis antarctica)\"],[\"Chinstrap penguin (Pygoscelis antarctica)\"],[\"Chinstrap penguin (Pygoscelis antarctica)\"],[\"Chinstrap penguin (Pygoscelis antarctica)\"],[\"Chinstrap penguin (Pygoscelis antarctica)\"],[\"Chinstrap penguin (Pygoscelis antarctica)\"],[\"Chinstrap penguin (Pygoscelis antarctica)\"],[\"Chinstrap penguin (Pygoscelis antarctica)\"],[\"Chinstrap penguin (Pygoscelis antarctica)\"],[\"Chinstrap penguin (Pygoscelis antarctica)\"],[\"Chinstrap penguin (Pygoscelis antarctica)\"],[\"Chinstrap penguin (Pygoscelis antarctica)\"],[\"Chinstrap penguin (Pygoscelis antarctica)\"],[\"Chinstrap penguin (Pygoscelis antarctica)\"],[\"Chinstrap penguin (Pygoscelis antarctica)\"],[\"Chinstrap penguin (Pygoscelis antarctica)\"],[\"Chinstrap penguin (Pygoscelis antarctica)\"],[\"Chinstrap penguin (Pygoscelis antarctica)\"],[\"Chinstrap penguin (Pygoscelis antarctica)\"],[\"Chinstrap penguin (Pygoscelis antarctica)\"],[\"Chinstrap penguin (Pygoscelis antarctica)\"],[\"Chinstrap penguin (Pygoscelis antarctica)\"],[\"Chinstrap penguin (Pygoscelis antarctica)\"],[\"Chinstrap penguin (Pygoscelis antarctica)\"],[\"Chinstrap penguin (Pygoscelis antarctica)\"],[\"Chinstrap penguin (Pygoscelis antarctica)\"],[\"Chinstrap penguin (Pygoscelis antarctica)\"],[\"Chinstrap penguin (Pygoscelis antarctica)\"],[\"Chinstrap penguin (Pygoscelis antarctica)\"],[\"Chinstrap penguin (Pygoscelis antarctica)\"],[\"Chinstrap penguin (Pygoscelis antarctica)\"],[\"Chinstrap penguin (Pygoscelis antarctica)\"],[\"Chinstrap penguin (Pygoscelis antarctica)\"],[\"Chinstrap penguin (Pygoscelis antarctica)\"],[\"Chinstrap penguin (Pygoscelis antarctica)\"],[\"Chinstrap penguin (Pygoscelis antarctica)\"],[\"Chinstrap penguin (Pygoscelis antarctica)\"],[\"Chinstrap penguin (Pygoscelis antarctica)\"],[\"Chinstrap penguin (Pygoscelis antarctica)\"],[\"Chinstrap penguin (Pygoscelis antarctica)\"],[\"Chinstrap penguin (Pygoscelis antarctica)\"]],\"hovertemplate\":\"\\u003cb\\u003e%{hovertext}\\u003c\\u002fb\\u003e\\u003cbr\\u003e\\u003cbr\\u003eSpecies=%{customdata[0]}\\u003cbr\\u003eCulmen Length (mm)=%{x}\\u003cbr\\u003eCulmen Depth (mm)=%{y}\\u003cextra\\u003e\\u003c\\u002fextra\\u003e\",\"hovertext\":[\"Dream\",\"Dream\",\"Dream\",\"Dream\",\"Dream\",\"Dream\",\"Dream\",\"Dream\",\"Dream\",\"Dream\",\"Dream\",\"Dream\",\"Dream\",\"Dream\",\"Dream\",\"Dream\",\"Dream\",\"Dream\",\"Dream\",\"Dream\",\"Dream\",\"Dream\",\"Dream\",\"Dream\",\"Dream\",\"Dream\",\"Dream\",\"Dream\",\"Dream\",\"Dream\",\"Dream\",\"Dream\",\"Dream\",\"Dream\",\"Dream\",\"Dream\",\"Dream\",\"Dream\",\"Dream\",\"Dream\",\"Dream\",\"Dream\",\"Dream\",\"Dream\",\"Dream\",\"Dream\",\"Dream\",\"Dream\",\"Dream\",\"Dream\",\"Dream\",\"Dream\",\"Dream\",\"Dream\",\"Dream\",\"Dream\",\"Dream\",\"Dream\",\"Dream\",\"Dream\",\"Dream\",\"Dream\",\"Dream\",\"Dream\",\"Dream\",\"Dream\",\"Dream\",\"Dream\"],\"legendgroup\":\"Chinstrap penguin (Pygoscelis antarctica)\",\"marker\":{\"color\":\"#19d3f3\",\"symbol\":\"circle\"},\"mode\":\"markers\",\"name\":\"Chinstrap penguin (Pygoscelis antarctica)\",\"orientation\":\"v\",\"showlegend\":true,\"x\":[46.5,50.0,51.3,45.4,52.7,45.2,46.1,51.3,46.0,51.3,46.6,51.7,47.0,52.0,45.9,50.5,50.3,58.0,46.4,49.2,42.4,48.5,43.2,50.6,46.7,52.0,50.5,49.5,46.4,52.8,40.9,54.2,42.5,51.0,49.7,47.5,47.6,52.0,46.9,53.5,49.0,46.2,50.9,45.5,50.9,50.8,50.1,49.0,51.5,49.8,48.1,51.4,45.7,50.7,42.5,52.2,45.2,49.3,50.2,45.6,51.9,46.8,45.7,55.8,43.5,49.6,50.8,50.2],\"xaxis\":\"x\",\"y\":[17.9,19.5,19.2,18.7,19.8,17.8,18.2,18.2,18.9,19.9,17.8,20.3,17.3,18.1,17.1,19.6,20.0,17.8,18.6,18.2,17.3,17.5,16.6,19.4,17.9,19.0,18.4,19.0,17.8,20.0,16.6,20.8,16.7,18.8,18.6,16.8,18.3,20.7,16.6,19.9,19.5,17.5,19.1,17.0,17.9,18.5,17.9,19.6,18.7,17.3,16.4,19.0,17.3,19.7,17.3,18.8,16.6,19.9,18.8,19.4,19.5,16.5,17.0,19.8,18.1,18.2,19.0,18.7],\"yaxis\":\"y\",\"type\":\"scatter\"}],                        {\"template\":{\"data\":{\"histogram2dcontour\":[{\"type\":\"histogram2dcontour\",\"colorbar\":{\"outlinewidth\":0,\"ticks\":\"\"},\"colorscale\":[[0.0,\"#0d0887\"],[0.1111111111111111,\"#46039f\"],[0.2222222222222222,\"#7201a8\"],[0.3333333333333333,\"#9c179e\"],[0.4444444444444444,\"#bd3786\"],[0.5555555555555556,\"#d8576b\"],[0.6666666666666666,\"#ed7953\"],[0.7777777777777778,\"#fb9f3a\"],[0.8888888888888888,\"#fdca26\"],[1.0,\"#f0f921\"]]}],\"choropleth\":[{\"type\":\"choropleth\",\"colorbar\":{\"outlinewidth\":0,\"ticks\":\"\"}}],\"histogram2d\":[{\"type\":\"histogram2d\",\"colorbar\":{\"outlinewidth\":0,\"ticks\":\"\"},\"colorscale\":[[0.0,\"#0d0887\"],[0.1111111111111111,\"#46039f\"],[0.2222222222222222,\"#7201a8\"],[0.3333333333333333,\"#9c179e\"],[0.4444444444444444,\"#bd3786\"],[0.5555555555555556,\"#d8576b\"],[0.6666666666666666,\"#ed7953\"],[0.7777777777777778,\"#fb9f3a\"],[0.8888888888888888,\"#fdca26\"],[1.0,\"#f0f921\"]]}],\"heatmap\":[{\"type\":\"heatmap\",\"colorbar\":{\"outlinewidth\":0,\"ticks\":\"\"},\"colorscale\":[[0.0,\"#0d0887\"],[0.1111111111111111,\"#46039f\"],[0.2222222222222222,\"#7201a8\"],[0.3333333333333333,\"#9c179e\"],[0.4444444444444444,\"#bd3786\"],[0.5555555555555556,\"#d8576b\"],[0.6666666666666666,\"#ed7953\"],[0.7777777777777778,\"#fb9f3a\"],[0.8888888888888888,\"#fdca26\"],[1.0,\"#f0f921\"]]}],\"heatmapgl\":[{\"type\":\"heatmapgl\",\"colorbar\":{\"outlinewidth\":0,\"ticks\":\"\"},\"colorscale\":[[0.0,\"#0d0887\"],[0.1111111111111111,\"#46039f\"],[0.2222222222222222,\"#7201a8\"],[0.3333333333333333,\"#9c179e\"],[0.4444444444444444,\"#bd3786\"],[0.5555555555555556,\"#d8576b\"],[0.6666666666666666,\"#ed7953\"],[0.7777777777777778,\"#fb9f3a\"],[0.8888888888888888,\"#fdca26\"],[1.0,\"#f0f921\"]]}],\"contourcarpet\":[{\"type\":\"contourcarpet\",\"colorbar\":{\"outlinewidth\":0,\"ticks\":\"\"}}],\"contour\":[{\"type\":\"contour\",\"colorbar\":{\"outlinewidth\":0,\"ticks\":\"\"},\"colorscale\":[[0.0,\"#0d0887\"],[0.1111111111111111,\"#46039f\"],[0.2222222222222222,\"#7201a8\"],[0.3333333333333333,\"#9c179e\"],[0.4444444444444444,\"#bd3786\"],[0.5555555555555556,\"#d8576b\"],[0.6666666666666666,\"#ed7953\"],[0.7777777777777778,\"#fb9f3a\"],[0.8888888888888888,\"#fdca26\"],[1.0,\"#f0f921\"]]}],\"surface\":[{\"type\":\"surface\",\"colorbar\":{\"outlinewidth\":0,\"ticks\":\"\"},\"colorscale\":[[0.0,\"#0d0887\"],[0.1111111111111111,\"#46039f\"],[0.2222222222222222,\"#7201a8\"],[0.3333333333333333,\"#9c179e\"],[0.4444444444444444,\"#bd3786\"],[0.5555555555555556,\"#d8576b\"],[0.6666666666666666,\"#ed7953\"],[0.7777777777777778,\"#fb9f3a\"],[0.8888888888888888,\"#fdca26\"],[1.0,\"#f0f921\"]]}],\"mesh3d\":[{\"type\":\"mesh3d\",\"colorbar\":{\"outlinewidth\":0,\"ticks\":\"\"}}],\"scatter\":[{\"marker\":{\"line\":{\"color\":\"#283442\"}},\"type\":\"scatter\"}],\"parcoords\":[{\"type\":\"parcoords\",\"line\":{\"colorbar\":{\"outlinewidth\":0,\"ticks\":\"\"}}}],\"scatterpolargl\":[{\"type\":\"scatterpolargl\",\"marker\":{\"colorbar\":{\"outlinewidth\":0,\"ticks\":\"\"}}}],\"bar\":[{\"error_x\":{\"color\":\"#f2f5fa\"},\"error_y\":{\"color\":\"#f2f5fa\"},\"marker\":{\"line\":{\"color\":\"rgb(17,17,17)\",\"width\":0.5},\"pattern\":{\"fillmode\":\"overlay\",\"size\":10,\"solidity\":0.2}},\"type\":\"bar\"}],\"scattergeo\":[{\"type\":\"scattergeo\",\"marker\":{\"colorbar\":{\"outlinewidth\":0,\"ticks\":\"\"}}}],\"scatterpolar\":[{\"type\":\"scatterpolar\",\"marker\":{\"colorbar\":{\"outlinewidth\":0,\"ticks\":\"\"}}}],\"histogram\":[{\"marker\":{\"pattern\":{\"fillmode\":\"overlay\",\"size\":10,\"solidity\":0.2}},\"type\":\"histogram\"}],\"scattergl\":[{\"marker\":{\"line\":{\"color\":\"#283442\"}},\"type\":\"scattergl\"}],\"scatter3d\":[{\"type\":\"scatter3d\",\"line\":{\"colorbar\":{\"outlinewidth\":0,\"ticks\":\"\"}},\"marker\":{\"colorbar\":{\"outlinewidth\":0,\"ticks\":\"\"}}}],\"scattermapbox\":[{\"type\":\"scattermapbox\",\"marker\":{\"colorbar\":{\"outlinewidth\":0,\"ticks\":\"\"}}}],\"scatterternary\":[{\"type\":\"scatterternary\",\"marker\":{\"colorbar\":{\"outlinewidth\":0,\"ticks\":\"\"}}}],\"scattercarpet\":[{\"type\":\"scattercarpet\",\"marker\":{\"colorbar\":{\"outlinewidth\":0,\"ticks\":\"\"}}}],\"carpet\":[{\"aaxis\":{\"endlinecolor\":\"#A2B1C6\",\"gridcolor\":\"#506784\",\"linecolor\":\"#506784\",\"minorgridcolor\":\"#506784\",\"startlinecolor\":\"#A2B1C6\"},\"baxis\":{\"endlinecolor\":\"#A2B1C6\",\"gridcolor\":\"#506784\",\"linecolor\":\"#506784\",\"minorgridcolor\":\"#506784\",\"startlinecolor\":\"#A2B1C6\"},\"type\":\"carpet\"}],\"table\":[{\"cells\":{\"fill\":{\"color\":\"#506784\"},\"line\":{\"color\":\"rgb(17,17,17)\"}},\"header\":{\"fill\":{\"color\":\"#2a3f5f\"},\"line\":{\"color\":\"rgb(17,17,17)\"}},\"type\":\"table\"}],\"barpolar\":[{\"marker\":{\"line\":{\"color\":\"rgb(17,17,17)\",\"width\":0.5},\"pattern\":{\"fillmode\":\"overlay\",\"size\":10,\"solidity\":0.2}},\"type\":\"barpolar\"}],\"pie\":[{\"automargin\":true,\"type\":\"pie\"}]},\"layout\":{\"autotypenumbers\":\"strict\",\"colorway\":[\"#636efa\",\"#EF553B\",\"#00cc96\",\"#ab63fa\",\"#FFA15A\",\"#19d3f3\",\"#FF6692\",\"#B6E880\",\"#FF97FF\",\"#FECB52\"],\"font\":{\"color\":\"#f2f5fa\"},\"hovermode\":\"closest\",\"hoverlabel\":{\"align\":\"left\"},\"paper_bgcolor\":\"rgb(17,17,17)\",\"plot_bgcolor\":\"rgb(17,17,17)\",\"polar\":{\"bgcolor\":\"rgb(17,17,17)\",\"angularaxis\":{\"gridcolor\":\"#506784\",\"linecolor\":\"#506784\",\"ticks\":\"\"},\"radialaxis\":{\"gridcolor\":\"#506784\",\"linecolor\":\"#506784\",\"ticks\":\"\"}},\"ternary\":{\"bgcolor\":\"rgb(17,17,17)\",\"aaxis\":{\"gridcolor\":\"#506784\",\"linecolor\":\"#506784\",\"ticks\":\"\"},\"baxis\":{\"gridcolor\":\"#506784\",\"linecolor\":\"#506784\",\"ticks\":\"\"},\"caxis\":{\"gridcolor\":\"#506784\",\"linecolor\":\"#506784\",\"ticks\":\"\"}},\"coloraxis\":{\"colorbar\":{\"outlinewidth\":0,\"ticks\":\"\"}},\"colorscale\":{\"sequential\":[[0.0,\"#0d0887\"],[0.1111111111111111,\"#46039f\"],[0.2222222222222222,\"#7201a8\"],[0.3333333333333333,\"#9c179e\"],[0.4444444444444444,\"#bd3786\"],[0.5555555555555556,\"#d8576b\"],[0.6666666666666666,\"#ed7953\"],[0.7777777777777778,\"#fb9f3a\"],[0.8888888888888888,\"#fdca26\"],[1.0,\"#f0f921\"]],\"sequentialminus\":[[0.0,\"#0d0887\"],[0.1111111111111111,\"#46039f\"],[0.2222222222222222,\"#7201a8\"],[0.3333333333333333,\"#9c179e\"],[0.4444444444444444,\"#bd3786\"],[0.5555555555555556,\"#d8576b\"],[0.6666666666666666,\"#ed7953\"],[0.7777777777777778,\"#fb9f3a\"],[0.8888888888888888,\"#fdca26\"],[1.0,\"#f0f921\"]],\"diverging\":[[0,\"#8e0152\"],[0.1,\"#c51b7d\"],[0.2,\"#de77ae\"],[0.3,\"#f1b6da\"],[0.4,\"#fde0ef\"],[0.5,\"#f7f7f7\"],[0.6,\"#e6f5d0\"],[0.7,\"#b8e186\"],[0.8,\"#7fbc41\"],[0.9,\"#4d9221\"],[1,\"#276419\"]]},\"xaxis\":{\"gridcolor\":\"#283442\",\"linecolor\":\"#506784\",\"ticks\":\"\",\"title\":{\"standoff\":15},\"zerolinecolor\":\"#283442\",\"automargin\":true,\"zerolinewidth\":2},\"yaxis\":{\"gridcolor\":\"#283442\",\"linecolor\":\"#506784\",\"ticks\":\"\",\"title\":{\"standoff\":15},\"zerolinecolor\":\"#283442\",\"automargin\":true,\"zerolinewidth\":2},\"scene\":{\"xaxis\":{\"backgroundcolor\":\"rgb(17,17,17)\",\"gridcolor\":\"#506784\",\"linecolor\":\"#506784\",\"showbackground\":true,\"ticks\":\"\",\"zerolinecolor\":\"#C8D4E3\",\"gridwidth\":2},\"yaxis\":{\"backgroundcolor\":\"rgb(17,17,17)\",\"gridcolor\":\"#506784\",\"linecolor\":\"#506784\",\"showbackground\":true,\"ticks\":\"\",\"zerolinecolor\":\"#C8D4E3\",\"gridwidth\":2},\"zaxis\":{\"backgroundcolor\":\"rgb(17,17,17)\",\"gridcolor\":\"#506784\",\"linecolor\":\"#506784\",\"showbackground\":true,\"ticks\":\"\",\"zerolinecolor\":\"#C8D4E3\",\"gridwidth\":2}},\"shapedefaults\":{\"line\":{\"color\":\"#f2f5fa\"}},\"annotationdefaults\":{\"arrowcolor\":\"#f2f5fa\",\"arrowhead\":0,\"arrowwidth\":1},\"geo\":{\"bgcolor\":\"rgb(17,17,17)\",\"landcolor\":\"rgb(17,17,17)\",\"subunitcolor\":\"#506784\",\"showland\":true,\"showlakes\":true,\"lakecolor\":\"rgb(17,17,17)\"},\"title\":{\"x\":0.05},\"updatemenudefaults\":{\"bgcolor\":\"#506784\",\"borderwidth\":0},\"sliderdefaults\":{\"bgcolor\":\"#C8D4E3\",\"borderwidth\":1,\"bordercolor\":\"rgb(17,17,17)\",\"tickwidth\":0},\"mapbox\":{\"style\":\"dark\"}}},\"xaxis\":{\"anchor\":\"y\",\"domain\":[0.0,1.0],\"title\":{\"text\":\"Culmen Length (mm)\"}},\"yaxis\":{\"anchor\":\"x\",\"domain\":[0.0,1.0],\"title\":{\"text\":\"Culmen Depth (mm)\"}},\"legend\":{\"title\":{\"text\":\"Species\"},\"tracegroupgap\":0},\"title\":{\"text\":\"Penguin Culmen Statistics\"}},                        {\"responsive\": true}                    ).then(function(){\n                            \nvar gd = document.getElementById('db897615-7507-46a8-861f-3ef1f8452ffd');\nvar x = new MutationObserver(function (mutations, observer) {{\n        var display = window.getComputedStyle(gd).display;\n        if (!display || display === 'none') {{\n            console.log([gd, 'removed!']);\n            Plotly.purge(gd);\n            observer.disconnect();\n        }}\n}});\n\n// Listen for the removal of the full notebook cells\nvar notebookContainer = gd.closest('#notebook-container');\nif (notebookContainer) {{\n    x.observe(notebookContainer, {childList: true});\n}}\n\n// Listen for the clearing of the current output cell\nvar outputEl = gd.closest('.output');\nif (outputEl) {{\n    x.observe(outputEl, {childList: true});\n}}\n\n                        })                };                });            </script>        </div>"
     },
     "metadata": {},
     "output_type": "display_data"
    }
   ],
   "source": [
    "# Create a scatterplot\n",
    "fig = px.scatter(data_frame=penguins, title=\"Penguin Culmen Statistics\",\n",
    "    x='Culmen Length (mm)',\n",
    "    y='Culmen Depth (mm)',\n",
    "    # Set the colors to use your color map\n",
    "    color='Species',\n",
    "    color_discrete_map=color_map,\n",
    "    # Add columns to the hover information\n",
    "    hover_data=['Culmen Length (mm)','Culmen Depth (mm)', 'Species'],\n",
    "    # Add bold variable in hover information\n",
    "    hover_name= 'Island'             \n",
    ")\n",
    "\n",
    "# Show your work\n",
    "fig.show()"
   ],
   "metadata": {
    "collapsed": false,
    "ExecuteTime": {
     "end_time": "2024-12-30T02:56:50.575219Z",
     "start_time": "2024-12-30T02:56:50.373258800Z"
    }
   },
   "id": "737b50d8419c8181",
   "execution_count": 20
  },
  {
   "cell_type": "markdown",
   "source": [
    "## Create a new data frame with attributes Culmen Length (mm), Culmen Depth (mm), Flipper Length (mm) and Body Mass (g)"
   ],
   "metadata": {
    "collapsed": false
   },
   "id": "e6b15ad1add13479"
  },
  {
   "cell_type": "code",
   "outputs": [
    {
     "name": "stdout",
     "output_type": "stream",
     "text": [
      "   Culmen Length (mm)  Culmen Depth (mm)  Flipper Length (mm)  Body Mass (g)\n",
      "0                39.1               18.7                181.0         3750.0\n",
      "1                39.5               17.4                186.0         3800.0\n",
      "2                40.3               18.0                195.0         3250.0\n",
      "3                 NaN                NaN                  NaN            NaN\n",
      "4                36.7               19.3                193.0         3450.0\n"
     ]
    }
   ],
   "source": [
    "penguines_modified = penguins[['Culmen Length (mm)', 'Culmen Depth (mm)', 'Flipper Length (mm)' , 'Body Mass (g)']]\n",
    "print(penguines_modified.head())"
   ],
   "metadata": {
    "collapsed": false,
    "ExecuteTime": {
     "end_time": "2024-12-30T02:29:48.453787500Z",
     "start_time": "2024-12-30T02:29:48.292571Z"
    }
   },
   "id": "aeee63e5de243fbb",
   "execution_count": 16
  },
  {
   "cell_type": "markdown",
   "source": [
    "## Create a correlation table with pandas"
   ],
   "metadata": {
    "collapsed": false
   },
   "id": "2b7cc125f6605d4c"
  },
  {
   "cell_type": "code",
   "outputs": [
    {
     "name": "stdout",
     "output_type": "stream",
     "text": [
      "                     Culmen Length (mm)  Culmen Depth (mm)  \\\n",
      "Culmen Length (mm)             1.000000          -0.235053   \n",
      "Culmen Depth (mm)             -0.235053           1.000000   \n",
      "Flipper Length (mm)            0.656181          -0.583851   \n",
      "Body Mass (g)                  0.595110          -0.471916   \n",
      "\n",
      "                     Flipper Length (mm)  Body Mass (g)  \n",
      "Culmen Length (mm)              0.656181       0.595110  \n",
      "Culmen Depth (mm)              -0.583851      -0.471916  \n",
      "Flipper Length (mm)             1.000000       0.871202  \n",
      "Body Mass (g)                   0.871202       1.000000  \n"
     ]
    }
   ],
   "source": [
    "penguin_corr = penguines_modified.corr(method='pearson')\n",
    "print(penguin_corr)"
   ],
   "metadata": {
    "collapsed": false,
    "ExecuteTime": {
     "end_time": "2024-12-30T02:29:48.680528900Z",
     "start_time": "2024-12-30T02:29:48.344665200Z"
    }
   },
   "id": "10868e0f025f62cc",
   "execution_count": 17
  },
  {
   "cell_type": "code",
   "outputs": [
    {
     "data": {
      "application/vnd.plotly.v1+json": {
       "data": [
        {
         "colorscale": [
          [
           0.0,
           "rgb(165,0,38)"
          ],
          [
           0.1,
           "rgb(215,48,39)"
          ],
          [
           0.2,
           "rgb(244,109,67)"
          ],
          [
           0.3,
           "rgb(253,174,97)"
          ],
          [
           0.4,
           "rgb(254,224,139)"
          ],
          [
           0.5,
           "rgb(255,255,191)"
          ],
          [
           0.6,
           "rgb(217,239,139)"
          ],
          [
           0.7,
           "rgb(166,217,106)"
          ],
          [
           0.8,
           "rgb(102,189,99)"
          ],
          [
           0.9,
           "rgb(26,152,80)"
          ],
          [
           1.0,
           "rgb(0,104,55)"
          ]
         ],
         "x": [
          "Culmen Length (mm)",
          "Culmen Depth (mm)",
          "Flipper Length (mm)",
          "Body Mass (g)"
         ],
         "y": [
          "Culmen Length (mm)",
          "Culmen Depth (mm)",
          "Flipper Length (mm)",
          "Body Mass (g)"
         ],
         "z": [
          [
           1.0,
           -0.2350528703555336,
           0.6561813407464264,
           0.5951098244376273
          ],
          [
           -0.2350528703555336,
           1.0,
           -0.5838512164654143,
           -0.47191562118606745
          ],
          [
           0.6561813407464264,
           -0.5838512164654143,
           1.0,
           0.8712017673060111
          ],
          [
           0.5951098244376273,
           -0.47191562118606745,
           0.8712017673060111,
           1.0
          ]
         ],
         "zmax": 1,
         "zmin": -1,
         "type": "heatmap"
        }
       ],
       "layout": {
        "template": {
         "data": {
          "histogram2dcontour": [
           {
            "type": "histogram2dcontour",
            "colorbar": {
             "outlinewidth": 0,
             "ticks": ""
            },
            "colorscale": [
             [
              0.0,
              "#0d0887"
             ],
             [
              0.1111111111111111,
              "#46039f"
             ],
             [
              0.2222222222222222,
              "#7201a8"
             ],
             [
              0.3333333333333333,
              "#9c179e"
             ],
             [
              0.4444444444444444,
              "#bd3786"
             ],
             [
              0.5555555555555556,
              "#d8576b"
             ],
             [
              0.6666666666666666,
              "#ed7953"
             ],
             [
              0.7777777777777778,
              "#fb9f3a"
             ],
             [
              0.8888888888888888,
              "#fdca26"
             ],
             [
              1.0,
              "#f0f921"
             ]
            ]
           }
          ],
          "choropleth": [
           {
            "type": "choropleth",
            "colorbar": {
             "outlinewidth": 0,
             "ticks": ""
            }
           }
          ],
          "histogram2d": [
           {
            "type": "histogram2d",
            "colorbar": {
             "outlinewidth": 0,
             "ticks": ""
            },
            "colorscale": [
             [
              0.0,
              "#0d0887"
             ],
             [
              0.1111111111111111,
              "#46039f"
             ],
             [
              0.2222222222222222,
              "#7201a8"
             ],
             [
              0.3333333333333333,
              "#9c179e"
             ],
             [
              0.4444444444444444,
              "#bd3786"
             ],
             [
              0.5555555555555556,
              "#d8576b"
             ],
             [
              0.6666666666666666,
              "#ed7953"
             ],
             [
              0.7777777777777778,
              "#fb9f3a"
             ],
             [
              0.8888888888888888,
              "#fdca26"
             ],
             [
              1.0,
              "#f0f921"
             ]
            ]
           }
          ],
          "heatmap": [
           {
            "type": "heatmap",
            "colorbar": {
             "outlinewidth": 0,
             "ticks": ""
            },
            "colorscale": [
             [
              0.0,
              "#0d0887"
             ],
             [
              0.1111111111111111,
              "#46039f"
             ],
             [
              0.2222222222222222,
              "#7201a8"
             ],
             [
              0.3333333333333333,
              "#9c179e"
             ],
             [
              0.4444444444444444,
              "#bd3786"
             ],
             [
              0.5555555555555556,
              "#d8576b"
             ],
             [
              0.6666666666666666,
              "#ed7953"
             ],
             [
              0.7777777777777778,
              "#fb9f3a"
             ],
             [
              0.8888888888888888,
              "#fdca26"
             ],
             [
              1.0,
              "#f0f921"
             ]
            ]
           }
          ],
          "heatmapgl": [
           {
            "type": "heatmapgl",
            "colorbar": {
             "outlinewidth": 0,
             "ticks": ""
            },
            "colorscale": [
             [
              0.0,
              "#0d0887"
             ],
             [
              0.1111111111111111,
              "#46039f"
             ],
             [
              0.2222222222222222,
              "#7201a8"
             ],
             [
              0.3333333333333333,
              "#9c179e"
             ],
             [
              0.4444444444444444,
              "#bd3786"
             ],
             [
              0.5555555555555556,
              "#d8576b"
             ],
             [
              0.6666666666666666,
              "#ed7953"
             ],
             [
              0.7777777777777778,
              "#fb9f3a"
             ],
             [
              0.8888888888888888,
              "#fdca26"
             ],
             [
              1.0,
              "#f0f921"
             ]
            ]
           }
          ],
          "contourcarpet": [
           {
            "type": "contourcarpet",
            "colorbar": {
             "outlinewidth": 0,
             "ticks": ""
            }
           }
          ],
          "contour": [
           {
            "type": "contour",
            "colorbar": {
             "outlinewidth": 0,
             "ticks": ""
            },
            "colorscale": [
             [
              0.0,
              "#0d0887"
             ],
             [
              0.1111111111111111,
              "#46039f"
             ],
             [
              0.2222222222222222,
              "#7201a8"
             ],
             [
              0.3333333333333333,
              "#9c179e"
             ],
             [
              0.4444444444444444,
              "#bd3786"
             ],
             [
              0.5555555555555556,
              "#d8576b"
             ],
             [
              0.6666666666666666,
              "#ed7953"
             ],
             [
              0.7777777777777778,
              "#fb9f3a"
             ],
             [
              0.8888888888888888,
              "#fdca26"
             ],
             [
              1.0,
              "#f0f921"
             ]
            ]
           }
          ],
          "surface": [
           {
            "type": "surface",
            "colorbar": {
             "outlinewidth": 0,
             "ticks": ""
            },
            "colorscale": [
             [
              0.0,
              "#0d0887"
             ],
             [
              0.1111111111111111,
              "#46039f"
             ],
             [
              0.2222222222222222,
              "#7201a8"
             ],
             [
              0.3333333333333333,
              "#9c179e"
             ],
             [
              0.4444444444444444,
              "#bd3786"
             ],
             [
              0.5555555555555556,
              "#d8576b"
             ],
             [
              0.6666666666666666,
              "#ed7953"
             ],
             [
              0.7777777777777778,
              "#fb9f3a"
             ],
             [
              0.8888888888888888,
              "#fdca26"
             ],
             [
              1.0,
              "#f0f921"
             ]
            ]
           }
          ],
          "mesh3d": [
           {
            "type": "mesh3d",
            "colorbar": {
             "outlinewidth": 0,
             "ticks": ""
            }
           }
          ],
          "scatter": [
           {
            "marker": {
             "line": {
              "color": "#283442"
             }
            },
            "type": "scatter"
           }
          ],
          "parcoords": [
           {
            "type": "parcoords",
            "line": {
             "colorbar": {
              "outlinewidth": 0,
              "ticks": ""
             }
            }
           }
          ],
          "scatterpolargl": [
           {
            "type": "scatterpolargl",
            "marker": {
             "colorbar": {
              "outlinewidth": 0,
              "ticks": ""
             }
            }
           }
          ],
          "bar": [
           {
            "error_x": {
             "color": "#f2f5fa"
            },
            "error_y": {
             "color": "#f2f5fa"
            },
            "marker": {
             "line": {
              "color": "rgb(17,17,17)",
              "width": 0.5
             },
             "pattern": {
              "fillmode": "overlay",
              "size": 10,
              "solidity": 0.2
             }
            },
            "type": "bar"
           }
          ],
          "scattergeo": [
           {
            "type": "scattergeo",
            "marker": {
             "colorbar": {
              "outlinewidth": 0,
              "ticks": ""
             }
            }
           }
          ],
          "scatterpolar": [
           {
            "type": "scatterpolar",
            "marker": {
             "colorbar": {
              "outlinewidth": 0,
              "ticks": ""
             }
            }
           }
          ],
          "histogram": [
           {
            "marker": {
             "pattern": {
              "fillmode": "overlay",
              "size": 10,
              "solidity": 0.2
             }
            },
            "type": "histogram"
           }
          ],
          "scattergl": [
           {
            "marker": {
             "line": {
              "color": "#283442"
             }
            },
            "type": "scattergl"
           }
          ],
          "scatter3d": [
           {
            "type": "scatter3d",
            "line": {
             "colorbar": {
              "outlinewidth": 0,
              "ticks": ""
             }
            },
            "marker": {
             "colorbar": {
              "outlinewidth": 0,
              "ticks": ""
             }
            }
           }
          ],
          "scattermapbox": [
           {
            "type": "scattermapbox",
            "marker": {
             "colorbar": {
              "outlinewidth": 0,
              "ticks": ""
             }
            }
           }
          ],
          "scatterternary": [
           {
            "type": "scatterternary",
            "marker": {
             "colorbar": {
              "outlinewidth": 0,
              "ticks": ""
             }
            }
           }
          ],
          "scattercarpet": [
           {
            "type": "scattercarpet",
            "marker": {
             "colorbar": {
              "outlinewidth": 0,
              "ticks": ""
             }
            }
           }
          ],
          "carpet": [
           {
            "aaxis": {
             "endlinecolor": "#A2B1C6",
             "gridcolor": "#506784",
             "linecolor": "#506784",
             "minorgridcolor": "#506784",
             "startlinecolor": "#A2B1C6"
            },
            "baxis": {
             "endlinecolor": "#A2B1C6",
             "gridcolor": "#506784",
             "linecolor": "#506784",
             "minorgridcolor": "#506784",
             "startlinecolor": "#A2B1C6"
            },
            "type": "carpet"
           }
          ],
          "table": [
           {
            "cells": {
             "fill": {
              "color": "#506784"
             },
             "line": {
              "color": "rgb(17,17,17)"
             }
            },
            "header": {
             "fill": {
              "color": "#2a3f5f"
             },
             "line": {
              "color": "rgb(17,17,17)"
             }
            },
            "type": "table"
           }
          ],
          "barpolar": [
           {
            "marker": {
             "line": {
              "color": "rgb(17,17,17)",
              "width": 0.5
             },
             "pattern": {
              "fillmode": "overlay",
              "size": 10,
              "solidity": 0.2
             }
            },
            "type": "barpolar"
           }
          ],
          "pie": [
           {
            "automargin": true,
            "type": "pie"
           }
          ]
         },
         "layout": {
          "autotypenumbers": "strict",
          "colorway": [
           "#636efa",
           "#EF553B",
           "#00cc96",
           "#ab63fa",
           "#FFA15A",
           "#19d3f3",
           "#FF6692",
           "#B6E880",
           "#FF97FF",
           "#FECB52"
          ],
          "font": {
           "color": "#f2f5fa"
          },
          "hovermode": "closest",
          "hoverlabel": {
           "align": "left"
          },
          "paper_bgcolor": "rgb(17,17,17)",
          "plot_bgcolor": "rgb(17,17,17)",
          "polar": {
           "bgcolor": "rgb(17,17,17)",
           "angularaxis": {
            "gridcolor": "#506784",
            "linecolor": "#506784",
            "ticks": ""
           },
           "radialaxis": {
            "gridcolor": "#506784",
            "linecolor": "#506784",
            "ticks": ""
           }
          },
          "ternary": {
           "bgcolor": "rgb(17,17,17)",
           "aaxis": {
            "gridcolor": "#506784",
            "linecolor": "#506784",
            "ticks": ""
           },
           "baxis": {
            "gridcolor": "#506784",
            "linecolor": "#506784",
            "ticks": ""
           },
           "caxis": {
            "gridcolor": "#506784",
            "linecolor": "#506784",
            "ticks": ""
           }
          },
          "coloraxis": {
           "colorbar": {
            "outlinewidth": 0,
            "ticks": ""
           }
          },
          "colorscale": {
           "sequential": [
            [
             0.0,
             "#0d0887"
            ],
            [
             0.1111111111111111,
             "#46039f"
            ],
            [
             0.2222222222222222,
             "#7201a8"
            ],
            [
             0.3333333333333333,
             "#9c179e"
            ],
            [
             0.4444444444444444,
             "#bd3786"
            ],
            [
             0.5555555555555556,
             "#d8576b"
            ],
            [
             0.6666666666666666,
             "#ed7953"
            ],
            [
             0.7777777777777778,
             "#fb9f3a"
            ],
            [
             0.8888888888888888,
             "#fdca26"
            ],
            [
             1.0,
             "#f0f921"
            ]
           ],
           "sequentialminus": [
            [
             0.0,
             "#0d0887"
            ],
            [
             0.1111111111111111,
             "#46039f"
            ],
            [
             0.2222222222222222,
             "#7201a8"
            ],
            [
             0.3333333333333333,
             "#9c179e"
            ],
            [
             0.4444444444444444,
             "#bd3786"
            ],
            [
             0.5555555555555556,
             "#d8576b"
            ],
            [
             0.6666666666666666,
             "#ed7953"
            ],
            [
             0.7777777777777778,
             "#fb9f3a"
            ],
            [
             0.8888888888888888,
             "#fdca26"
            ],
            [
             1.0,
             "#f0f921"
            ]
           ],
           "diverging": [
            [
             0,
             "#8e0152"
            ],
            [
             0.1,
             "#c51b7d"
            ],
            [
             0.2,
             "#de77ae"
            ],
            [
             0.3,
             "#f1b6da"
            ],
            [
             0.4,
             "#fde0ef"
            ],
            [
             0.5,
             "#f7f7f7"
            ],
            [
             0.6,
             "#e6f5d0"
            ],
            [
             0.7,
             "#b8e186"
            ],
            [
             0.8,
             "#7fbc41"
            ],
            [
             0.9,
             "#4d9221"
            ],
            [
             1,
             "#276419"
            ]
           ]
          },
          "xaxis": {
           "gridcolor": "#283442",
           "linecolor": "#506784",
           "ticks": "",
           "title": {
            "standoff": 15
           },
           "zerolinecolor": "#283442",
           "automargin": true,
           "zerolinewidth": 2
          },
          "yaxis": {
           "gridcolor": "#283442",
           "linecolor": "#506784",
           "ticks": "",
           "title": {
            "standoff": 15
           },
           "zerolinecolor": "#283442",
           "automargin": true,
           "zerolinewidth": 2
          },
          "scene": {
           "xaxis": {
            "backgroundcolor": "rgb(17,17,17)",
            "gridcolor": "#506784",
            "linecolor": "#506784",
            "showbackground": true,
            "ticks": "",
            "zerolinecolor": "#C8D4E3",
            "gridwidth": 2
           },
           "yaxis": {
            "backgroundcolor": "rgb(17,17,17)",
            "gridcolor": "#506784",
            "linecolor": "#506784",
            "showbackground": true,
            "ticks": "",
            "zerolinecolor": "#C8D4E3",
            "gridwidth": 2
           },
           "zaxis": {
            "backgroundcolor": "rgb(17,17,17)",
            "gridcolor": "#506784",
            "linecolor": "#506784",
            "showbackground": true,
            "ticks": "",
            "zerolinecolor": "#C8D4E3",
            "gridwidth": 2
           }
          },
          "shapedefaults": {
           "line": {
            "color": "#f2f5fa"
           }
          },
          "annotationdefaults": {
           "arrowcolor": "#f2f5fa",
           "arrowhead": 0,
           "arrowwidth": 1
          },
          "geo": {
           "bgcolor": "rgb(17,17,17)",
           "landcolor": "rgb(17,17,17)",
           "subunitcolor": "#506784",
           "showland": true,
           "showlakes": true,
           "lakecolor": "rgb(17,17,17)"
          },
          "title": {
           "x": 0.05
          },
          "updatemenudefaults": {
           "bgcolor": "#506784",
           "borderwidth": 0
          },
          "sliderdefaults": {
           "bgcolor": "#C8D4E3",
           "borderwidth": 1,
           "bordercolor": "rgb(17,17,17)",
           "tickwidth": 0
          },
          "mapbox": {
           "style": "dark"
          }
         }
        }
       },
       "config": {
        "plotlyServerURL": "https://plot.ly"
       }
      },
      "text/html": "<div>                            <div id=\"ce58192e-bab7-4090-943e-f2002862e3a6\" class=\"plotly-graph-div\" style=\"height:525px; width:100%;\"></div>            <script type=\"text/javascript\">                require([\"plotly\"], function(Plotly) {                    window.PLOTLYENV=window.PLOTLYENV || {};                                    if (document.getElementById(\"ce58192e-bab7-4090-943e-f2002862e3a6\")) {                    Plotly.newPlot(                        \"ce58192e-bab7-4090-943e-f2002862e3a6\",                        [{\"colorscale\":[[0.0,\"rgb(165,0,38)\"],[0.1,\"rgb(215,48,39)\"],[0.2,\"rgb(244,109,67)\"],[0.3,\"rgb(253,174,97)\"],[0.4,\"rgb(254,224,139)\"],[0.5,\"rgb(255,255,191)\"],[0.6,\"rgb(217,239,139)\"],[0.7,\"rgb(166,217,106)\"],[0.8,\"rgb(102,189,99)\"],[0.9,\"rgb(26,152,80)\"],[1.0,\"rgb(0,104,55)\"]],\"x\":[\"Culmen Length (mm)\",\"Culmen Depth (mm)\",\"Flipper Length (mm)\",\"Body Mass (g)\"],\"y\":[\"Culmen Length (mm)\",\"Culmen Depth (mm)\",\"Flipper Length (mm)\",\"Body Mass (g)\"],\"z\":[[1.0,-0.2350528703555336,0.6561813407464264,0.5951098244376273],[-0.2350528703555336,1.0,-0.5838512164654143,-0.47191562118606745],[0.6561813407464264,-0.5838512164654143,1.0,0.8712017673060111],[0.5951098244376273,-0.47191562118606745,0.8712017673060111,1.0]],\"zmax\":1,\"zmin\":-1,\"type\":\"heatmap\"}],                        {\"template\":{\"data\":{\"histogram2dcontour\":[{\"type\":\"histogram2dcontour\",\"colorbar\":{\"outlinewidth\":0,\"ticks\":\"\"},\"colorscale\":[[0.0,\"#0d0887\"],[0.1111111111111111,\"#46039f\"],[0.2222222222222222,\"#7201a8\"],[0.3333333333333333,\"#9c179e\"],[0.4444444444444444,\"#bd3786\"],[0.5555555555555556,\"#d8576b\"],[0.6666666666666666,\"#ed7953\"],[0.7777777777777778,\"#fb9f3a\"],[0.8888888888888888,\"#fdca26\"],[1.0,\"#f0f921\"]]}],\"choropleth\":[{\"type\":\"choropleth\",\"colorbar\":{\"outlinewidth\":0,\"ticks\":\"\"}}],\"histogram2d\":[{\"type\":\"histogram2d\",\"colorbar\":{\"outlinewidth\":0,\"ticks\":\"\"},\"colorscale\":[[0.0,\"#0d0887\"],[0.1111111111111111,\"#46039f\"],[0.2222222222222222,\"#7201a8\"],[0.3333333333333333,\"#9c179e\"],[0.4444444444444444,\"#bd3786\"],[0.5555555555555556,\"#d8576b\"],[0.6666666666666666,\"#ed7953\"],[0.7777777777777778,\"#fb9f3a\"],[0.8888888888888888,\"#fdca26\"],[1.0,\"#f0f921\"]]}],\"heatmap\":[{\"type\":\"heatmap\",\"colorbar\":{\"outlinewidth\":0,\"ticks\":\"\"},\"colorscale\":[[0.0,\"#0d0887\"],[0.1111111111111111,\"#46039f\"],[0.2222222222222222,\"#7201a8\"],[0.3333333333333333,\"#9c179e\"],[0.4444444444444444,\"#bd3786\"],[0.5555555555555556,\"#d8576b\"],[0.6666666666666666,\"#ed7953\"],[0.7777777777777778,\"#fb9f3a\"],[0.8888888888888888,\"#fdca26\"],[1.0,\"#f0f921\"]]}],\"heatmapgl\":[{\"type\":\"heatmapgl\",\"colorbar\":{\"outlinewidth\":0,\"ticks\":\"\"},\"colorscale\":[[0.0,\"#0d0887\"],[0.1111111111111111,\"#46039f\"],[0.2222222222222222,\"#7201a8\"],[0.3333333333333333,\"#9c179e\"],[0.4444444444444444,\"#bd3786\"],[0.5555555555555556,\"#d8576b\"],[0.6666666666666666,\"#ed7953\"],[0.7777777777777778,\"#fb9f3a\"],[0.8888888888888888,\"#fdca26\"],[1.0,\"#f0f921\"]]}],\"contourcarpet\":[{\"type\":\"contourcarpet\",\"colorbar\":{\"outlinewidth\":0,\"ticks\":\"\"}}],\"contour\":[{\"type\":\"contour\",\"colorbar\":{\"outlinewidth\":0,\"ticks\":\"\"},\"colorscale\":[[0.0,\"#0d0887\"],[0.1111111111111111,\"#46039f\"],[0.2222222222222222,\"#7201a8\"],[0.3333333333333333,\"#9c179e\"],[0.4444444444444444,\"#bd3786\"],[0.5555555555555556,\"#d8576b\"],[0.6666666666666666,\"#ed7953\"],[0.7777777777777778,\"#fb9f3a\"],[0.8888888888888888,\"#fdca26\"],[1.0,\"#f0f921\"]]}],\"surface\":[{\"type\":\"surface\",\"colorbar\":{\"outlinewidth\":0,\"ticks\":\"\"},\"colorscale\":[[0.0,\"#0d0887\"],[0.1111111111111111,\"#46039f\"],[0.2222222222222222,\"#7201a8\"],[0.3333333333333333,\"#9c179e\"],[0.4444444444444444,\"#bd3786\"],[0.5555555555555556,\"#d8576b\"],[0.6666666666666666,\"#ed7953\"],[0.7777777777777778,\"#fb9f3a\"],[0.8888888888888888,\"#fdca26\"],[1.0,\"#f0f921\"]]}],\"mesh3d\":[{\"type\":\"mesh3d\",\"colorbar\":{\"outlinewidth\":0,\"ticks\":\"\"}}],\"scatter\":[{\"marker\":{\"line\":{\"color\":\"#283442\"}},\"type\":\"scatter\"}],\"parcoords\":[{\"type\":\"parcoords\",\"line\":{\"colorbar\":{\"outlinewidth\":0,\"ticks\":\"\"}}}],\"scatterpolargl\":[{\"type\":\"scatterpolargl\",\"marker\":{\"colorbar\":{\"outlinewidth\":0,\"ticks\":\"\"}}}],\"bar\":[{\"error_x\":{\"color\":\"#f2f5fa\"},\"error_y\":{\"color\":\"#f2f5fa\"},\"marker\":{\"line\":{\"color\":\"rgb(17,17,17)\",\"width\":0.5},\"pattern\":{\"fillmode\":\"overlay\",\"size\":10,\"solidity\":0.2}},\"type\":\"bar\"}],\"scattergeo\":[{\"type\":\"scattergeo\",\"marker\":{\"colorbar\":{\"outlinewidth\":0,\"ticks\":\"\"}}}],\"scatterpolar\":[{\"type\":\"scatterpolar\",\"marker\":{\"colorbar\":{\"outlinewidth\":0,\"ticks\":\"\"}}}],\"histogram\":[{\"marker\":{\"pattern\":{\"fillmode\":\"overlay\",\"size\":10,\"solidity\":0.2}},\"type\":\"histogram\"}],\"scattergl\":[{\"marker\":{\"line\":{\"color\":\"#283442\"}},\"type\":\"scattergl\"}],\"scatter3d\":[{\"type\":\"scatter3d\",\"line\":{\"colorbar\":{\"outlinewidth\":0,\"ticks\":\"\"}},\"marker\":{\"colorbar\":{\"outlinewidth\":0,\"ticks\":\"\"}}}],\"scattermapbox\":[{\"type\":\"scattermapbox\",\"marker\":{\"colorbar\":{\"outlinewidth\":0,\"ticks\":\"\"}}}],\"scatterternary\":[{\"type\":\"scatterternary\",\"marker\":{\"colorbar\":{\"outlinewidth\":0,\"ticks\":\"\"}}}],\"scattercarpet\":[{\"type\":\"scattercarpet\",\"marker\":{\"colorbar\":{\"outlinewidth\":0,\"ticks\":\"\"}}}],\"carpet\":[{\"aaxis\":{\"endlinecolor\":\"#A2B1C6\",\"gridcolor\":\"#506784\",\"linecolor\":\"#506784\",\"minorgridcolor\":\"#506784\",\"startlinecolor\":\"#A2B1C6\"},\"baxis\":{\"endlinecolor\":\"#A2B1C6\",\"gridcolor\":\"#506784\",\"linecolor\":\"#506784\",\"minorgridcolor\":\"#506784\",\"startlinecolor\":\"#A2B1C6\"},\"type\":\"carpet\"}],\"table\":[{\"cells\":{\"fill\":{\"color\":\"#506784\"},\"line\":{\"color\":\"rgb(17,17,17)\"}},\"header\":{\"fill\":{\"color\":\"#2a3f5f\"},\"line\":{\"color\":\"rgb(17,17,17)\"}},\"type\":\"table\"}],\"barpolar\":[{\"marker\":{\"line\":{\"color\":\"rgb(17,17,17)\",\"width\":0.5},\"pattern\":{\"fillmode\":\"overlay\",\"size\":10,\"solidity\":0.2}},\"type\":\"barpolar\"}],\"pie\":[{\"automargin\":true,\"type\":\"pie\"}]},\"layout\":{\"autotypenumbers\":\"strict\",\"colorway\":[\"#636efa\",\"#EF553B\",\"#00cc96\",\"#ab63fa\",\"#FFA15A\",\"#19d3f3\",\"#FF6692\",\"#B6E880\",\"#FF97FF\",\"#FECB52\"],\"font\":{\"color\":\"#f2f5fa\"},\"hovermode\":\"closest\",\"hoverlabel\":{\"align\":\"left\"},\"paper_bgcolor\":\"rgb(17,17,17)\",\"plot_bgcolor\":\"rgb(17,17,17)\",\"polar\":{\"bgcolor\":\"rgb(17,17,17)\",\"angularaxis\":{\"gridcolor\":\"#506784\",\"linecolor\":\"#506784\",\"ticks\":\"\"},\"radialaxis\":{\"gridcolor\":\"#506784\",\"linecolor\":\"#506784\",\"ticks\":\"\"}},\"ternary\":{\"bgcolor\":\"rgb(17,17,17)\",\"aaxis\":{\"gridcolor\":\"#506784\",\"linecolor\":\"#506784\",\"ticks\":\"\"},\"baxis\":{\"gridcolor\":\"#506784\",\"linecolor\":\"#506784\",\"ticks\":\"\"},\"caxis\":{\"gridcolor\":\"#506784\",\"linecolor\":\"#506784\",\"ticks\":\"\"}},\"coloraxis\":{\"colorbar\":{\"outlinewidth\":0,\"ticks\":\"\"}},\"colorscale\":{\"sequential\":[[0.0,\"#0d0887\"],[0.1111111111111111,\"#46039f\"],[0.2222222222222222,\"#7201a8\"],[0.3333333333333333,\"#9c179e\"],[0.4444444444444444,\"#bd3786\"],[0.5555555555555556,\"#d8576b\"],[0.6666666666666666,\"#ed7953\"],[0.7777777777777778,\"#fb9f3a\"],[0.8888888888888888,\"#fdca26\"],[1.0,\"#f0f921\"]],\"sequentialminus\":[[0.0,\"#0d0887\"],[0.1111111111111111,\"#46039f\"],[0.2222222222222222,\"#7201a8\"],[0.3333333333333333,\"#9c179e\"],[0.4444444444444444,\"#bd3786\"],[0.5555555555555556,\"#d8576b\"],[0.6666666666666666,\"#ed7953\"],[0.7777777777777778,\"#fb9f3a\"],[0.8888888888888888,\"#fdca26\"],[1.0,\"#f0f921\"]],\"diverging\":[[0,\"#8e0152\"],[0.1,\"#c51b7d\"],[0.2,\"#de77ae\"],[0.3,\"#f1b6da\"],[0.4,\"#fde0ef\"],[0.5,\"#f7f7f7\"],[0.6,\"#e6f5d0\"],[0.7,\"#b8e186\"],[0.8,\"#7fbc41\"],[0.9,\"#4d9221\"],[1,\"#276419\"]]},\"xaxis\":{\"gridcolor\":\"#283442\",\"linecolor\":\"#506784\",\"ticks\":\"\",\"title\":{\"standoff\":15},\"zerolinecolor\":\"#283442\",\"automargin\":true,\"zerolinewidth\":2},\"yaxis\":{\"gridcolor\":\"#283442\",\"linecolor\":\"#506784\",\"ticks\":\"\",\"title\":{\"standoff\":15},\"zerolinecolor\":\"#283442\",\"automargin\":true,\"zerolinewidth\":2},\"scene\":{\"xaxis\":{\"backgroundcolor\":\"rgb(17,17,17)\",\"gridcolor\":\"#506784\",\"linecolor\":\"#506784\",\"showbackground\":true,\"ticks\":\"\",\"zerolinecolor\":\"#C8D4E3\",\"gridwidth\":2},\"yaxis\":{\"backgroundcolor\":\"rgb(17,17,17)\",\"gridcolor\":\"#506784\",\"linecolor\":\"#506784\",\"showbackground\":true,\"ticks\":\"\",\"zerolinecolor\":\"#C8D4E3\",\"gridwidth\":2},\"zaxis\":{\"backgroundcolor\":\"rgb(17,17,17)\",\"gridcolor\":\"#506784\",\"linecolor\":\"#506784\",\"showbackground\":true,\"ticks\":\"\",\"zerolinecolor\":\"#C8D4E3\",\"gridwidth\":2}},\"shapedefaults\":{\"line\":{\"color\":\"#f2f5fa\"}},\"annotationdefaults\":{\"arrowcolor\":\"#f2f5fa\",\"arrowhead\":0,\"arrowwidth\":1},\"geo\":{\"bgcolor\":\"rgb(17,17,17)\",\"landcolor\":\"rgb(17,17,17)\",\"subunitcolor\":\"#506784\",\"showland\":true,\"showlakes\":true,\"lakecolor\":\"rgb(17,17,17)\"},\"title\":{\"x\":0.05},\"updatemenudefaults\":{\"bgcolor\":\"#506784\",\"borderwidth\":0},\"sliderdefaults\":{\"bgcolor\":\"#C8D4E3\",\"borderwidth\":1,\"bordercolor\":\"rgb(17,17,17)\",\"tickwidth\":0},\"mapbox\":{\"style\":\"dark\"}}}},                        {\"responsive\": true}                    ).then(function(){\n                            \nvar gd = document.getElementById('ce58192e-bab7-4090-943e-f2002862e3a6');\nvar x = new MutationObserver(function (mutations, observer) {{\n        var display = window.getComputedStyle(gd).display;\n        if (!display || display === 'none') {{\n            console.log([gd, 'removed!']);\n            Plotly.purge(gd);\n            observer.disconnect();\n        }}\n}});\n\n// Listen for the removal of the full notebook cells\nvar notebookContainer = gd.closest('#notebook-container');\nif (notebookContainer) {{\n    x.observe(notebookContainer, {childList: true});\n}}\n\n// Listen for the clearing of the current output cell\nvar outputEl = gd.closest('.output');\nif (outputEl) {{\n    x.observe(outputEl, {childList: true});\n}}\n\n                        })                };                });            </script>        </div>"
     },
     "metadata": {},
     "output_type": "display_data"
    }
   ],
   "source": [
    "# Set up the correlation plot\n",
    "fig = go.Figure(go.Heatmap(\n",
    "  \t\t# Set the appropriate x, y and z values\n",
    "        z=penguin_corr.values.tolist(),\n",
    "        x=penguin_corr.columns,\n",
    "        y=penguin_corr.columns,\n",
    "  \t\t# Set the color scale,\n",
    "        colorscale='rdylgn', \n",
    "  \t\t# Set min and max values\n",
    "        zmin=-1, zmax=1))\n",
    "\n",
    "# Show the plot\n",
    "fig.show()"
   ],
   "metadata": {
    "collapsed": false,
    "ExecuteTime": {
     "end_time": "2024-12-30T02:29:48.902006300Z",
     "start_time": "2024-12-30T02:29:48.477399Z"
    }
   },
   "id": "831130d6d51ca481",
   "execution_count": 18
  },
  {
   "cell_type": "markdown",
   "source": [
    "## Create a new dataframe with average flip length"
   ],
   "metadata": {
    "collapsed": false
   },
   "id": "ca06dc87f4262271"
  },
  {
   "cell_type": "code",
   "outputs": [
    {
     "name": "stdout",
     "output_type": "stream",
     "text": [
      "                                        spec  av_flip_length\n",
      "0        Adelie Penguin (Pygoscelis adeliae)      189.953642\n",
      "1  Chinstrap penguin (Pygoscelis antarctica)      195.823529\n",
      "2          Gentoo penguin (Pygoscelis papua)      217.186992\n"
     ]
    }
   ],
   "source": [
    "penguines_avg_flipper = penguins.groupby('Species', as_index=False)['Flipper Length (mm)'].mean()\n",
    "penguines_avg_flipper = penguines_avg_flipper.rename(columns={'Species': 'spec', 'Flipper Length (mm)': 'av_flip_length'})\n",
    "print(penguines_avg_flipper.head())\n"
   ],
   "metadata": {
    "collapsed": false,
    "ExecuteTime": {
     "end_time": "2024-12-30T06:11:04.033364Z",
     "start_time": "2024-12-30T06:11:03.521538Z"
    }
   },
   "id": "768f3f706ee48906",
   "execution_count": 34
  },
  {
   "cell_type": "code",
   "outputs": [
    {
     "data": {
      "application/vnd.plotly.v1+json": {
       "data": [
        {
         "alignmentgroup": "True",
         "hovertemplate": "spec=%{x}<br>av_flip_length=%{y}<extra></extra>",
         "legendgroup": "Adelie Penguin (Pygoscelis adeliae)",
         "marker": {
          "color": "#636efa",
          "pattern": {
           "shape": ""
          }
         },
         "name": "Adelie Penguin (Pygoscelis adeliae)",
         "offsetgroup": "Adelie Penguin (Pygoscelis adeliae)",
         "orientation": "v",
         "showlegend": true,
         "textposition": "auto",
         "x": [
          "Adelie Penguin (Pygoscelis adeliae)"
         ],
         "xaxis": "x",
         "y": [
          189.95364238410596
         ],
         "yaxis": "y",
         "type": "bar"
        },
        {
         "alignmentgroup": "True",
         "hovertemplate": "spec=%{x}<br>av_flip_length=%{y}<extra></extra>",
         "legendgroup": "Chinstrap penguin (Pygoscelis antarctica)",
         "marker": {
          "color": "#EF553B",
          "pattern": {
           "shape": ""
          }
         },
         "name": "Chinstrap penguin (Pygoscelis antarctica)",
         "offsetgroup": "Chinstrap penguin (Pygoscelis antarctica)",
         "orientation": "v",
         "showlegend": true,
         "textposition": "auto",
         "x": [
          "Chinstrap penguin (Pygoscelis antarctica)"
         ],
         "xaxis": "x",
         "y": [
          195.8235294117647
         ],
         "yaxis": "y",
         "type": "bar"
        },
        {
         "alignmentgroup": "True",
         "hovertemplate": "spec=%{x}<br>av_flip_length=%{y}<extra></extra>",
         "legendgroup": "Gentoo penguin (Pygoscelis papua)",
         "marker": {
          "color": "#00cc96",
          "pattern": {
           "shape": ""
          }
         },
         "name": "Gentoo penguin (Pygoscelis papua)",
         "offsetgroup": "Gentoo penguin (Pygoscelis papua)",
         "orientation": "v",
         "showlegend": true,
         "textposition": "auto",
         "x": [
          "Gentoo penguin (Pygoscelis papua)"
         ],
         "xaxis": "x",
         "y": [
          217.1869918699187
         ],
         "yaxis": "y",
         "type": "bar"
        }
       ],
       "layout": {
        "template": {
         "data": {
          "histogram2dcontour": [
           {
            "type": "histogram2dcontour",
            "colorbar": {
             "outlinewidth": 0,
             "ticks": ""
            },
            "colorscale": [
             [
              0.0,
              "#0d0887"
             ],
             [
              0.1111111111111111,
              "#46039f"
             ],
             [
              0.2222222222222222,
              "#7201a8"
             ],
             [
              0.3333333333333333,
              "#9c179e"
             ],
             [
              0.4444444444444444,
              "#bd3786"
             ],
             [
              0.5555555555555556,
              "#d8576b"
             ],
             [
              0.6666666666666666,
              "#ed7953"
             ],
             [
              0.7777777777777778,
              "#fb9f3a"
             ],
             [
              0.8888888888888888,
              "#fdca26"
             ],
             [
              1.0,
              "#f0f921"
             ]
            ]
           }
          ],
          "choropleth": [
           {
            "type": "choropleth",
            "colorbar": {
             "outlinewidth": 0,
             "ticks": ""
            }
           }
          ],
          "histogram2d": [
           {
            "type": "histogram2d",
            "colorbar": {
             "outlinewidth": 0,
             "ticks": ""
            },
            "colorscale": [
             [
              0.0,
              "#0d0887"
             ],
             [
              0.1111111111111111,
              "#46039f"
             ],
             [
              0.2222222222222222,
              "#7201a8"
             ],
             [
              0.3333333333333333,
              "#9c179e"
             ],
             [
              0.4444444444444444,
              "#bd3786"
             ],
             [
              0.5555555555555556,
              "#d8576b"
             ],
             [
              0.6666666666666666,
              "#ed7953"
             ],
             [
              0.7777777777777778,
              "#fb9f3a"
             ],
             [
              0.8888888888888888,
              "#fdca26"
             ],
             [
              1.0,
              "#f0f921"
             ]
            ]
           }
          ],
          "heatmap": [
           {
            "type": "heatmap",
            "colorbar": {
             "outlinewidth": 0,
             "ticks": ""
            },
            "colorscale": [
             [
              0.0,
              "#0d0887"
             ],
             [
              0.1111111111111111,
              "#46039f"
             ],
             [
              0.2222222222222222,
              "#7201a8"
             ],
             [
              0.3333333333333333,
              "#9c179e"
             ],
             [
              0.4444444444444444,
              "#bd3786"
             ],
             [
              0.5555555555555556,
              "#d8576b"
             ],
             [
              0.6666666666666666,
              "#ed7953"
             ],
             [
              0.7777777777777778,
              "#fb9f3a"
             ],
             [
              0.8888888888888888,
              "#fdca26"
             ],
             [
              1.0,
              "#f0f921"
             ]
            ]
           }
          ],
          "heatmapgl": [
           {
            "type": "heatmapgl",
            "colorbar": {
             "outlinewidth": 0,
             "ticks": ""
            },
            "colorscale": [
             [
              0.0,
              "#0d0887"
             ],
             [
              0.1111111111111111,
              "#46039f"
             ],
             [
              0.2222222222222222,
              "#7201a8"
             ],
             [
              0.3333333333333333,
              "#9c179e"
             ],
             [
              0.4444444444444444,
              "#bd3786"
             ],
             [
              0.5555555555555556,
              "#d8576b"
             ],
             [
              0.6666666666666666,
              "#ed7953"
             ],
             [
              0.7777777777777778,
              "#fb9f3a"
             ],
             [
              0.8888888888888888,
              "#fdca26"
             ],
             [
              1.0,
              "#f0f921"
             ]
            ]
           }
          ],
          "contourcarpet": [
           {
            "type": "contourcarpet",
            "colorbar": {
             "outlinewidth": 0,
             "ticks": ""
            }
           }
          ],
          "contour": [
           {
            "type": "contour",
            "colorbar": {
             "outlinewidth": 0,
             "ticks": ""
            },
            "colorscale": [
             [
              0.0,
              "#0d0887"
             ],
             [
              0.1111111111111111,
              "#46039f"
             ],
             [
              0.2222222222222222,
              "#7201a8"
             ],
             [
              0.3333333333333333,
              "#9c179e"
             ],
             [
              0.4444444444444444,
              "#bd3786"
             ],
             [
              0.5555555555555556,
              "#d8576b"
             ],
             [
              0.6666666666666666,
              "#ed7953"
             ],
             [
              0.7777777777777778,
              "#fb9f3a"
             ],
             [
              0.8888888888888888,
              "#fdca26"
             ],
             [
              1.0,
              "#f0f921"
             ]
            ]
           }
          ],
          "surface": [
           {
            "type": "surface",
            "colorbar": {
             "outlinewidth": 0,
             "ticks": ""
            },
            "colorscale": [
             [
              0.0,
              "#0d0887"
             ],
             [
              0.1111111111111111,
              "#46039f"
             ],
             [
              0.2222222222222222,
              "#7201a8"
             ],
             [
              0.3333333333333333,
              "#9c179e"
             ],
             [
              0.4444444444444444,
              "#bd3786"
             ],
             [
              0.5555555555555556,
              "#d8576b"
             ],
             [
              0.6666666666666666,
              "#ed7953"
             ],
             [
              0.7777777777777778,
              "#fb9f3a"
             ],
             [
              0.8888888888888888,
              "#fdca26"
             ],
             [
              1.0,
              "#f0f921"
             ]
            ]
           }
          ],
          "mesh3d": [
           {
            "type": "mesh3d",
            "colorbar": {
             "outlinewidth": 0,
             "ticks": ""
            }
           }
          ],
          "scatter": [
           {
            "marker": {
             "line": {
              "color": "#283442"
             }
            },
            "type": "scatter"
           }
          ],
          "parcoords": [
           {
            "type": "parcoords",
            "line": {
             "colorbar": {
              "outlinewidth": 0,
              "ticks": ""
             }
            }
           }
          ],
          "scatterpolargl": [
           {
            "type": "scatterpolargl",
            "marker": {
             "colorbar": {
              "outlinewidth": 0,
              "ticks": ""
             }
            }
           }
          ],
          "bar": [
           {
            "error_x": {
             "color": "#f2f5fa"
            },
            "error_y": {
             "color": "#f2f5fa"
            },
            "marker": {
             "line": {
              "color": "rgb(17,17,17)",
              "width": 0.5
             },
             "pattern": {
              "fillmode": "overlay",
              "size": 10,
              "solidity": 0.2
             }
            },
            "type": "bar"
           }
          ],
          "scattergeo": [
           {
            "type": "scattergeo",
            "marker": {
             "colorbar": {
              "outlinewidth": 0,
              "ticks": ""
             }
            }
           }
          ],
          "scatterpolar": [
           {
            "type": "scatterpolar",
            "marker": {
             "colorbar": {
              "outlinewidth": 0,
              "ticks": ""
             }
            }
           }
          ],
          "histogram": [
           {
            "marker": {
             "pattern": {
              "fillmode": "overlay",
              "size": 10,
              "solidity": 0.2
             }
            },
            "type": "histogram"
           }
          ],
          "scattergl": [
           {
            "marker": {
             "line": {
              "color": "#283442"
             }
            },
            "type": "scattergl"
           }
          ],
          "scatter3d": [
           {
            "type": "scatter3d",
            "line": {
             "colorbar": {
              "outlinewidth": 0,
              "ticks": ""
             }
            },
            "marker": {
             "colorbar": {
              "outlinewidth": 0,
              "ticks": ""
             }
            }
           }
          ],
          "scattermapbox": [
           {
            "type": "scattermapbox",
            "marker": {
             "colorbar": {
              "outlinewidth": 0,
              "ticks": ""
             }
            }
           }
          ],
          "scatterternary": [
           {
            "type": "scatterternary",
            "marker": {
             "colorbar": {
              "outlinewidth": 0,
              "ticks": ""
             }
            }
           }
          ],
          "scattercarpet": [
           {
            "type": "scattercarpet",
            "marker": {
             "colorbar": {
              "outlinewidth": 0,
              "ticks": ""
             }
            }
           }
          ],
          "carpet": [
           {
            "aaxis": {
             "endlinecolor": "#A2B1C6",
             "gridcolor": "#506784",
             "linecolor": "#506784",
             "minorgridcolor": "#506784",
             "startlinecolor": "#A2B1C6"
            },
            "baxis": {
             "endlinecolor": "#A2B1C6",
             "gridcolor": "#506784",
             "linecolor": "#506784",
             "minorgridcolor": "#506784",
             "startlinecolor": "#A2B1C6"
            },
            "type": "carpet"
           }
          ],
          "table": [
           {
            "cells": {
             "fill": {
              "color": "#506784"
             },
             "line": {
              "color": "rgb(17,17,17)"
             }
            },
            "header": {
             "fill": {
              "color": "#2a3f5f"
             },
             "line": {
              "color": "rgb(17,17,17)"
             }
            },
            "type": "table"
           }
          ],
          "barpolar": [
           {
            "marker": {
             "line": {
              "color": "rgb(17,17,17)",
              "width": 0.5
             },
             "pattern": {
              "fillmode": "overlay",
              "size": 10,
              "solidity": 0.2
             }
            },
            "type": "barpolar"
           }
          ],
          "pie": [
           {
            "automargin": true,
            "type": "pie"
           }
          ]
         },
         "layout": {
          "autotypenumbers": "strict",
          "colorway": [
           "#636efa",
           "#EF553B",
           "#00cc96",
           "#ab63fa",
           "#FFA15A",
           "#19d3f3",
           "#FF6692",
           "#B6E880",
           "#FF97FF",
           "#FECB52"
          ],
          "font": {
           "color": "#f2f5fa"
          },
          "hovermode": "closest",
          "hoverlabel": {
           "align": "left"
          },
          "paper_bgcolor": "rgb(17,17,17)",
          "plot_bgcolor": "rgb(17,17,17)",
          "polar": {
           "bgcolor": "rgb(17,17,17)",
           "angularaxis": {
            "gridcolor": "#506784",
            "linecolor": "#506784",
            "ticks": ""
           },
           "radialaxis": {
            "gridcolor": "#506784",
            "linecolor": "#506784",
            "ticks": ""
           }
          },
          "ternary": {
           "bgcolor": "rgb(17,17,17)",
           "aaxis": {
            "gridcolor": "#506784",
            "linecolor": "#506784",
            "ticks": ""
           },
           "baxis": {
            "gridcolor": "#506784",
            "linecolor": "#506784",
            "ticks": ""
           },
           "caxis": {
            "gridcolor": "#506784",
            "linecolor": "#506784",
            "ticks": ""
           }
          },
          "coloraxis": {
           "colorbar": {
            "outlinewidth": 0,
            "ticks": ""
           }
          },
          "colorscale": {
           "sequential": [
            [
             0.0,
             "#0d0887"
            ],
            [
             0.1111111111111111,
             "#46039f"
            ],
            [
             0.2222222222222222,
             "#7201a8"
            ],
            [
             0.3333333333333333,
             "#9c179e"
            ],
            [
             0.4444444444444444,
             "#bd3786"
            ],
            [
             0.5555555555555556,
             "#d8576b"
            ],
            [
             0.6666666666666666,
             "#ed7953"
            ],
            [
             0.7777777777777778,
             "#fb9f3a"
            ],
            [
             0.8888888888888888,
             "#fdca26"
            ],
            [
             1.0,
             "#f0f921"
            ]
           ],
           "sequentialminus": [
            [
             0.0,
             "#0d0887"
            ],
            [
             0.1111111111111111,
             "#46039f"
            ],
            [
             0.2222222222222222,
             "#7201a8"
            ],
            [
             0.3333333333333333,
             "#9c179e"
            ],
            [
             0.4444444444444444,
             "#bd3786"
            ],
            [
             0.5555555555555556,
             "#d8576b"
            ],
            [
             0.6666666666666666,
             "#ed7953"
            ],
            [
             0.7777777777777778,
             "#fb9f3a"
            ],
            [
             0.8888888888888888,
             "#fdca26"
            ],
            [
             1.0,
             "#f0f921"
            ]
           ],
           "diverging": [
            [
             0,
             "#8e0152"
            ],
            [
             0.1,
             "#c51b7d"
            ],
            [
             0.2,
             "#de77ae"
            ],
            [
             0.3,
             "#f1b6da"
            ],
            [
             0.4,
             "#fde0ef"
            ],
            [
             0.5,
             "#f7f7f7"
            ],
            [
             0.6,
             "#e6f5d0"
            ],
            [
             0.7,
             "#b8e186"
            ],
            [
             0.8,
             "#7fbc41"
            ],
            [
             0.9,
             "#4d9221"
            ],
            [
             1,
             "#276419"
            ]
           ]
          },
          "xaxis": {
           "gridcolor": "#283442",
           "linecolor": "#506784",
           "ticks": "",
           "title": {
            "standoff": 15
           },
           "zerolinecolor": "#283442",
           "automargin": true,
           "zerolinewidth": 2
          },
          "yaxis": {
           "gridcolor": "#283442",
           "linecolor": "#506784",
           "ticks": "",
           "title": {
            "standoff": 15
           },
           "zerolinecolor": "#283442",
           "automargin": true,
           "zerolinewidth": 2
          },
          "scene": {
           "xaxis": {
            "backgroundcolor": "rgb(17,17,17)",
            "gridcolor": "#506784",
            "linecolor": "#506784",
            "showbackground": true,
            "ticks": "",
            "zerolinecolor": "#C8D4E3",
            "gridwidth": 2
           },
           "yaxis": {
            "backgroundcolor": "rgb(17,17,17)",
            "gridcolor": "#506784",
            "linecolor": "#506784",
            "showbackground": true,
            "ticks": "",
            "zerolinecolor": "#C8D4E3",
            "gridwidth": 2
           },
           "zaxis": {
            "backgroundcolor": "rgb(17,17,17)",
            "gridcolor": "#506784",
            "linecolor": "#506784",
            "showbackground": true,
            "ticks": "",
            "zerolinecolor": "#C8D4E3",
            "gridwidth": 2
           }
          },
          "shapedefaults": {
           "line": {
            "color": "#f2f5fa"
           }
          },
          "annotationdefaults": {
           "arrowcolor": "#f2f5fa",
           "arrowhead": 0,
           "arrowwidth": 1
          },
          "geo": {
           "bgcolor": "rgb(17,17,17)",
           "landcolor": "rgb(17,17,17)",
           "subunitcolor": "#506784",
           "showland": true,
           "showlakes": true,
           "lakecolor": "rgb(17,17,17)"
          },
          "title": {
           "x": 0.05
          },
          "updatemenudefaults": {
           "bgcolor": "#506784",
           "borderwidth": 0
          },
          "sliderdefaults": {
           "bgcolor": "#C8D4E3",
           "borderwidth": 1,
           "bordercolor": "rgb(17,17,17)",
           "tickwidth": 0
          },
          "mapbox": {
           "style": "dark"
          }
         }
        },
        "xaxis": {
         "anchor": "y",
         "domain": [
          0.0,
          1.0
         ],
         "title": {
          "text": "Species"
         },
         "categoryorder": "array",
         "categoryarray": [
          "Adelie Penguin (Pygoscelis adeliae)",
          "Chinstrap penguin (Pygoscelis antarctica)",
          "Gentoo penguin (Pygoscelis papua)"
         ]
        },
        "yaxis": {
         "anchor": "x",
         "domain": [
          0.0,
          1.0
         ],
         "title": {
          "text": "Average Flipper Length (mm)"
         }
        },
        "legend": {
         "title": {
          "text": "spec"
         },
         "tracegroupgap": 0
        },
        "title": {
         "text": "Flipper Length (mm) by Species"
        },
        "barmode": "relative",
        "annotations": [
         {
          "showarrow": false,
          "text": "This graph was generated at 2024-12-30 17:13:51.593692",
          "x": 0.5,
          "xref": "paper",
          "y": 1.1,
          "yref": "paper"
         }
        ]
       },
       "config": {
        "plotlyServerURL": "https://plot.ly"
       }
      },
      "text/html": "<div>                            <div id=\"f8fa0ed5-c891-45c8-ad3f-37fce04bccf6\" class=\"plotly-graph-div\" style=\"height:525px; width:100%;\"></div>            <script type=\"text/javascript\">                require([\"plotly\"], function(Plotly) {                    window.PLOTLYENV=window.PLOTLYENV || {};                                    if (document.getElementById(\"f8fa0ed5-c891-45c8-ad3f-37fce04bccf6\")) {                    Plotly.newPlot(                        \"f8fa0ed5-c891-45c8-ad3f-37fce04bccf6\",                        [{\"alignmentgroup\":\"True\",\"hovertemplate\":\"spec=%{x}\\u003cbr\\u003eav_flip_length=%{y}\\u003cextra\\u003e\\u003c\\u002fextra\\u003e\",\"legendgroup\":\"Adelie Penguin (Pygoscelis adeliae)\",\"marker\":{\"color\":\"#636efa\",\"pattern\":{\"shape\":\"\"}},\"name\":\"Adelie Penguin (Pygoscelis adeliae)\",\"offsetgroup\":\"Adelie Penguin (Pygoscelis adeliae)\",\"orientation\":\"v\",\"showlegend\":true,\"textposition\":\"auto\",\"x\":[\"Adelie Penguin (Pygoscelis adeliae)\"],\"xaxis\":\"x\",\"y\":[189.95364238410596],\"yaxis\":\"y\",\"type\":\"bar\"},{\"alignmentgroup\":\"True\",\"hovertemplate\":\"spec=%{x}\\u003cbr\\u003eav_flip_length=%{y}\\u003cextra\\u003e\\u003c\\u002fextra\\u003e\",\"legendgroup\":\"Chinstrap penguin (Pygoscelis antarctica)\",\"marker\":{\"color\":\"#EF553B\",\"pattern\":{\"shape\":\"\"}},\"name\":\"Chinstrap penguin (Pygoscelis antarctica)\",\"offsetgroup\":\"Chinstrap penguin (Pygoscelis antarctica)\",\"orientation\":\"v\",\"showlegend\":true,\"textposition\":\"auto\",\"x\":[\"Chinstrap penguin (Pygoscelis antarctica)\"],\"xaxis\":\"x\",\"y\":[195.8235294117647],\"yaxis\":\"y\",\"type\":\"bar\"},{\"alignmentgroup\":\"True\",\"hovertemplate\":\"spec=%{x}\\u003cbr\\u003eav_flip_length=%{y}\\u003cextra\\u003e\\u003c\\u002fextra\\u003e\",\"legendgroup\":\"Gentoo penguin (Pygoscelis papua)\",\"marker\":{\"color\":\"#00cc96\",\"pattern\":{\"shape\":\"\"}},\"name\":\"Gentoo penguin (Pygoscelis papua)\",\"offsetgroup\":\"Gentoo penguin (Pygoscelis papua)\",\"orientation\":\"v\",\"showlegend\":true,\"textposition\":\"auto\",\"x\":[\"Gentoo penguin (Pygoscelis papua)\"],\"xaxis\":\"x\",\"y\":[217.1869918699187],\"yaxis\":\"y\",\"type\":\"bar\"}],                        {\"template\":{\"data\":{\"histogram2dcontour\":[{\"type\":\"histogram2dcontour\",\"colorbar\":{\"outlinewidth\":0,\"ticks\":\"\"},\"colorscale\":[[0.0,\"#0d0887\"],[0.1111111111111111,\"#46039f\"],[0.2222222222222222,\"#7201a8\"],[0.3333333333333333,\"#9c179e\"],[0.4444444444444444,\"#bd3786\"],[0.5555555555555556,\"#d8576b\"],[0.6666666666666666,\"#ed7953\"],[0.7777777777777778,\"#fb9f3a\"],[0.8888888888888888,\"#fdca26\"],[1.0,\"#f0f921\"]]}],\"choropleth\":[{\"type\":\"choropleth\",\"colorbar\":{\"outlinewidth\":0,\"ticks\":\"\"}}],\"histogram2d\":[{\"type\":\"histogram2d\",\"colorbar\":{\"outlinewidth\":0,\"ticks\":\"\"},\"colorscale\":[[0.0,\"#0d0887\"],[0.1111111111111111,\"#46039f\"],[0.2222222222222222,\"#7201a8\"],[0.3333333333333333,\"#9c179e\"],[0.4444444444444444,\"#bd3786\"],[0.5555555555555556,\"#d8576b\"],[0.6666666666666666,\"#ed7953\"],[0.7777777777777778,\"#fb9f3a\"],[0.8888888888888888,\"#fdca26\"],[1.0,\"#f0f921\"]]}],\"heatmap\":[{\"type\":\"heatmap\",\"colorbar\":{\"outlinewidth\":0,\"ticks\":\"\"},\"colorscale\":[[0.0,\"#0d0887\"],[0.1111111111111111,\"#46039f\"],[0.2222222222222222,\"#7201a8\"],[0.3333333333333333,\"#9c179e\"],[0.4444444444444444,\"#bd3786\"],[0.5555555555555556,\"#d8576b\"],[0.6666666666666666,\"#ed7953\"],[0.7777777777777778,\"#fb9f3a\"],[0.8888888888888888,\"#fdca26\"],[1.0,\"#f0f921\"]]}],\"heatmapgl\":[{\"type\":\"heatmapgl\",\"colorbar\":{\"outlinewidth\":0,\"ticks\":\"\"},\"colorscale\":[[0.0,\"#0d0887\"],[0.1111111111111111,\"#46039f\"],[0.2222222222222222,\"#7201a8\"],[0.3333333333333333,\"#9c179e\"],[0.4444444444444444,\"#bd3786\"],[0.5555555555555556,\"#d8576b\"],[0.6666666666666666,\"#ed7953\"],[0.7777777777777778,\"#fb9f3a\"],[0.8888888888888888,\"#fdca26\"],[1.0,\"#f0f921\"]]}],\"contourcarpet\":[{\"type\":\"contourcarpet\",\"colorbar\":{\"outlinewidth\":0,\"ticks\":\"\"}}],\"contour\":[{\"type\":\"contour\",\"colorbar\":{\"outlinewidth\":0,\"ticks\":\"\"},\"colorscale\":[[0.0,\"#0d0887\"],[0.1111111111111111,\"#46039f\"],[0.2222222222222222,\"#7201a8\"],[0.3333333333333333,\"#9c179e\"],[0.4444444444444444,\"#bd3786\"],[0.5555555555555556,\"#d8576b\"],[0.6666666666666666,\"#ed7953\"],[0.7777777777777778,\"#fb9f3a\"],[0.8888888888888888,\"#fdca26\"],[1.0,\"#f0f921\"]]}],\"surface\":[{\"type\":\"surface\",\"colorbar\":{\"outlinewidth\":0,\"ticks\":\"\"},\"colorscale\":[[0.0,\"#0d0887\"],[0.1111111111111111,\"#46039f\"],[0.2222222222222222,\"#7201a8\"],[0.3333333333333333,\"#9c179e\"],[0.4444444444444444,\"#bd3786\"],[0.5555555555555556,\"#d8576b\"],[0.6666666666666666,\"#ed7953\"],[0.7777777777777778,\"#fb9f3a\"],[0.8888888888888888,\"#fdca26\"],[1.0,\"#f0f921\"]]}],\"mesh3d\":[{\"type\":\"mesh3d\",\"colorbar\":{\"outlinewidth\":0,\"ticks\":\"\"}}],\"scatter\":[{\"marker\":{\"line\":{\"color\":\"#283442\"}},\"type\":\"scatter\"}],\"parcoords\":[{\"type\":\"parcoords\",\"line\":{\"colorbar\":{\"outlinewidth\":0,\"ticks\":\"\"}}}],\"scatterpolargl\":[{\"type\":\"scatterpolargl\",\"marker\":{\"colorbar\":{\"outlinewidth\":0,\"ticks\":\"\"}}}],\"bar\":[{\"error_x\":{\"color\":\"#f2f5fa\"},\"error_y\":{\"color\":\"#f2f5fa\"},\"marker\":{\"line\":{\"color\":\"rgb(17,17,17)\",\"width\":0.5},\"pattern\":{\"fillmode\":\"overlay\",\"size\":10,\"solidity\":0.2}},\"type\":\"bar\"}],\"scattergeo\":[{\"type\":\"scattergeo\",\"marker\":{\"colorbar\":{\"outlinewidth\":0,\"ticks\":\"\"}}}],\"scatterpolar\":[{\"type\":\"scatterpolar\",\"marker\":{\"colorbar\":{\"outlinewidth\":0,\"ticks\":\"\"}}}],\"histogram\":[{\"marker\":{\"pattern\":{\"fillmode\":\"overlay\",\"size\":10,\"solidity\":0.2}},\"type\":\"histogram\"}],\"scattergl\":[{\"marker\":{\"line\":{\"color\":\"#283442\"}},\"type\":\"scattergl\"}],\"scatter3d\":[{\"type\":\"scatter3d\",\"line\":{\"colorbar\":{\"outlinewidth\":0,\"ticks\":\"\"}},\"marker\":{\"colorbar\":{\"outlinewidth\":0,\"ticks\":\"\"}}}],\"scattermapbox\":[{\"type\":\"scattermapbox\",\"marker\":{\"colorbar\":{\"outlinewidth\":0,\"ticks\":\"\"}}}],\"scatterternary\":[{\"type\":\"scatterternary\",\"marker\":{\"colorbar\":{\"outlinewidth\":0,\"ticks\":\"\"}}}],\"scattercarpet\":[{\"type\":\"scattercarpet\",\"marker\":{\"colorbar\":{\"outlinewidth\":0,\"ticks\":\"\"}}}],\"carpet\":[{\"aaxis\":{\"endlinecolor\":\"#A2B1C6\",\"gridcolor\":\"#506784\",\"linecolor\":\"#506784\",\"minorgridcolor\":\"#506784\",\"startlinecolor\":\"#A2B1C6\"},\"baxis\":{\"endlinecolor\":\"#A2B1C6\",\"gridcolor\":\"#506784\",\"linecolor\":\"#506784\",\"minorgridcolor\":\"#506784\",\"startlinecolor\":\"#A2B1C6\"},\"type\":\"carpet\"}],\"table\":[{\"cells\":{\"fill\":{\"color\":\"#506784\"},\"line\":{\"color\":\"rgb(17,17,17)\"}},\"header\":{\"fill\":{\"color\":\"#2a3f5f\"},\"line\":{\"color\":\"rgb(17,17,17)\"}},\"type\":\"table\"}],\"barpolar\":[{\"marker\":{\"line\":{\"color\":\"rgb(17,17,17)\",\"width\":0.5},\"pattern\":{\"fillmode\":\"overlay\",\"size\":10,\"solidity\":0.2}},\"type\":\"barpolar\"}],\"pie\":[{\"automargin\":true,\"type\":\"pie\"}]},\"layout\":{\"autotypenumbers\":\"strict\",\"colorway\":[\"#636efa\",\"#EF553B\",\"#00cc96\",\"#ab63fa\",\"#FFA15A\",\"#19d3f3\",\"#FF6692\",\"#B6E880\",\"#FF97FF\",\"#FECB52\"],\"font\":{\"color\":\"#f2f5fa\"},\"hovermode\":\"closest\",\"hoverlabel\":{\"align\":\"left\"},\"paper_bgcolor\":\"rgb(17,17,17)\",\"plot_bgcolor\":\"rgb(17,17,17)\",\"polar\":{\"bgcolor\":\"rgb(17,17,17)\",\"angularaxis\":{\"gridcolor\":\"#506784\",\"linecolor\":\"#506784\",\"ticks\":\"\"},\"radialaxis\":{\"gridcolor\":\"#506784\",\"linecolor\":\"#506784\",\"ticks\":\"\"}},\"ternary\":{\"bgcolor\":\"rgb(17,17,17)\",\"aaxis\":{\"gridcolor\":\"#506784\",\"linecolor\":\"#506784\",\"ticks\":\"\"},\"baxis\":{\"gridcolor\":\"#506784\",\"linecolor\":\"#506784\",\"ticks\":\"\"},\"caxis\":{\"gridcolor\":\"#506784\",\"linecolor\":\"#506784\",\"ticks\":\"\"}},\"coloraxis\":{\"colorbar\":{\"outlinewidth\":0,\"ticks\":\"\"}},\"colorscale\":{\"sequential\":[[0.0,\"#0d0887\"],[0.1111111111111111,\"#46039f\"],[0.2222222222222222,\"#7201a8\"],[0.3333333333333333,\"#9c179e\"],[0.4444444444444444,\"#bd3786\"],[0.5555555555555556,\"#d8576b\"],[0.6666666666666666,\"#ed7953\"],[0.7777777777777778,\"#fb9f3a\"],[0.8888888888888888,\"#fdca26\"],[1.0,\"#f0f921\"]],\"sequentialminus\":[[0.0,\"#0d0887\"],[0.1111111111111111,\"#46039f\"],[0.2222222222222222,\"#7201a8\"],[0.3333333333333333,\"#9c179e\"],[0.4444444444444444,\"#bd3786\"],[0.5555555555555556,\"#d8576b\"],[0.6666666666666666,\"#ed7953\"],[0.7777777777777778,\"#fb9f3a\"],[0.8888888888888888,\"#fdca26\"],[1.0,\"#f0f921\"]],\"diverging\":[[0,\"#8e0152\"],[0.1,\"#c51b7d\"],[0.2,\"#de77ae\"],[0.3,\"#f1b6da\"],[0.4,\"#fde0ef\"],[0.5,\"#f7f7f7\"],[0.6,\"#e6f5d0\"],[0.7,\"#b8e186\"],[0.8,\"#7fbc41\"],[0.9,\"#4d9221\"],[1,\"#276419\"]]},\"xaxis\":{\"gridcolor\":\"#283442\",\"linecolor\":\"#506784\",\"ticks\":\"\",\"title\":{\"standoff\":15},\"zerolinecolor\":\"#283442\",\"automargin\":true,\"zerolinewidth\":2},\"yaxis\":{\"gridcolor\":\"#283442\",\"linecolor\":\"#506784\",\"ticks\":\"\",\"title\":{\"standoff\":15},\"zerolinecolor\":\"#283442\",\"automargin\":true,\"zerolinewidth\":2},\"scene\":{\"xaxis\":{\"backgroundcolor\":\"rgb(17,17,17)\",\"gridcolor\":\"#506784\",\"linecolor\":\"#506784\",\"showbackground\":true,\"ticks\":\"\",\"zerolinecolor\":\"#C8D4E3\",\"gridwidth\":2},\"yaxis\":{\"backgroundcolor\":\"rgb(17,17,17)\",\"gridcolor\":\"#506784\",\"linecolor\":\"#506784\",\"showbackground\":true,\"ticks\":\"\",\"zerolinecolor\":\"#C8D4E3\",\"gridwidth\":2},\"zaxis\":{\"backgroundcolor\":\"rgb(17,17,17)\",\"gridcolor\":\"#506784\",\"linecolor\":\"#506784\",\"showbackground\":true,\"ticks\":\"\",\"zerolinecolor\":\"#C8D4E3\",\"gridwidth\":2}},\"shapedefaults\":{\"line\":{\"color\":\"#f2f5fa\"}},\"annotationdefaults\":{\"arrowcolor\":\"#f2f5fa\",\"arrowhead\":0,\"arrowwidth\":1},\"geo\":{\"bgcolor\":\"rgb(17,17,17)\",\"landcolor\":\"rgb(17,17,17)\",\"subunitcolor\":\"#506784\",\"showland\":true,\"showlakes\":true,\"lakecolor\":\"rgb(17,17,17)\"},\"title\":{\"x\":0.05},\"updatemenudefaults\":{\"bgcolor\":\"#506784\",\"borderwidth\":0},\"sliderdefaults\":{\"bgcolor\":\"#C8D4E3\",\"borderwidth\":1,\"bordercolor\":\"rgb(17,17,17)\",\"tickwidth\":0},\"mapbox\":{\"style\":\"dark\"}}},\"xaxis\":{\"anchor\":\"y\",\"domain\":[0.0,1.0],\"title\":{\"text\":\"Species\"},\"categoryorder\":\"array\",\"categoryarray\":[\"Adelie Penguin (Pygoscelis adeliae)\",\"Chinstrap penguin (Pygoscelis antarctica)\",\"Gentoo penguin (Pygoscelis papua)\"]},\"yaxis\":{\"anchor\":\"x\",\"domain\":[0.0,1.0],\"title\":{\"text\":\"Average Flipper Length (mm)\"}},\"legend\":{\"title\":{\"text\":\"spec\"},\"tracegroupgap\":0},\"title\":{\"text\":\"Flipper Length (mm) by Species\"},\"barmode\":\"relative\",\"annotations\":[{\"showarrow\":false,\"text\":\"This graph was generated at 2024-12-30 17:13:51.593692\",\"x\":0.5,\"xref\":\"paper\",\"y\":1.1,\"yref\":\"paper\"}]},                        {\"responsive\": true}                    ).then(function(){\n                            \nvar gd = document.getElementById('f8fa0ed5-c891-45c8-ad3f-37fce04bccf6');\nvar x = new MutationObserver(function (mutations, observer) {{\n        var display = window.getComputedStyle(gd).display;\n        if (!display || display === 'none') {{\n            console.log([gd, 'removed!']);\n            Plotly.purge(gd);\n            observer.disconnect();\n        }}\n}});\n\n// Listen for the removal of the full notebook cells\nvar notebookContainer = gd.closest('#notebook-container');\nif (notebookContainer) {{\n    x.observe(notebookContainer, {childList: true});\n}}\n\n// Listen for the clearing of the current output cell\nvar outputEl = gd.closest('.output');\nif (outputEl) {{\n    x.observe(outputEl, {childList: true});\n}}\n\n                        })                };                });            </script>        </div>"
     },
     "metadata": {},
     "output_type": "display_data"
    }
   ],
   "source": [
    "# Create timestamp\n",
    "from datetime import datetime\n",
    "timestamp = datetime.now()\n",
    "\n",
    "# Create plot\n",
    "fig = px.bar(penguines_avg_flipper, x='spec', y='av_flip_length', color=\"spec\", title='Flipper Length (mm) by Species')\n",
    "\n",
    "# Change the axis titles\n",
    "fig.update_layout({'xaxis': {'title': {'text': 'Species'}},\n",
    "                  'yaxis': {'title': {'text': 'Average Flipper Length (mm)'}}})\n",
    "\n",
    "# Add an annotation and show\n",
    "fig.update_layout({'annotations': [{\n",
    "  \"text\": f\"This graph was generated at {timestamp}\", \n",
    "  \"showarrow\": False, \"x\": 0.5, \"y\": 1.1, \"xref\": \"paper\", \"yref\": \"paper\"}]})\n",
    "fig.show()"
   ],
   "metadata": {
    "collapsed": false,
    "ExecuteTime": {
     "end_time": "2024-12-30T06:14:07.405700400Z",
     "start_time": "2024-12-30T06:13:51.594796400Z"
    }
   },
   "id": "c58bc3759c89c65c",
   "execution_count": 36
  }
 ],
 "metadata": {
  "kernelspec": {
   "display_name": "Python 3",
   "language": "python",
   "name": "python3"
  },
  "language_info": {
   "codemirror_mode": {
    "name": "ipython",
    "version": 2
   },
   "file_extension": ".py",
   "mimetype": "text/x-python",
   "name": "python",
   "nbconvert_exporter": "python",
   "pygments_lexer": "ipython2",
   "version": "2.7.6"
  }
 },
 "nbformat": 4,
 "nbformat_minor": 5
}

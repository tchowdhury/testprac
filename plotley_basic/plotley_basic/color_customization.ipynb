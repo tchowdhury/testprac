{
 "cells": [
  {
   "cell_type": "markdown",
   "source": [
    "## Import all necessary packages"
   ],
   "metadata": {
    "collapsed": false
   },
   "id": "4f97c6a73cbc1ede"
  },
  {
   "cell_type": "code",
   "outputs": [],
   "source": [
    "import pandas as pd\n",
    "import plotly.express as px"
   ],
   "metadata": {
    "collapsed": false,
    "ExecuteTime": {
     "end_time": "2024-12-29T05:15:19.820253400Z",
     "start_time": "2024-12-29T05:15:19.774709100Z"
    }
   },
   "id": "2e01846b244eae9f",
   "execution_count": 3
  },
  {
   "cell_type": "markdown",
   "source": [
    "## Import data from csv file"
   ],
   "metadata": {
    "collapsed": false
   },
   "id": "149e7dcca709751e"
  },
  {
   "cell_type": "code",
   "outputs": [],
   "source": [
    "syd_temp = pd.read_csv('../data/sydney_temps.csv')"
   ],
   "metadata": {
    "collapsed": false,
    "ExecuteTime": {
     "end_time": "2024-12-29T05:15:26.964483300Z",
     "start_time": "2024-12-29T05:15:26.929700900Z"
    }
   },
   "id": "7d8a8ff3ada11072",
   "execution_count": 4
  },
  {
   "cell_type": "markdown",
   "source": [
    "## Check data"
   ],
   "metadata": {
    "collapsed": false
   },
   "id": "b42328852d5b6144"
  },
  {
   "cell_type": "code",
   "outputs": [
    {
     "name": "stdout",
     "output_type": "stream",
     "text": [
      "     Date  Temp\n",
      "0  1/1/20  27.3\n",
      "1  2/1/20  29.0\n",
      "2  3/1/20  29.4\n",
      "3  4/1/20  36.4\n",
      "4  5/1/20  26.6\n"
     ]
    }
   ],
   "source": [
    "print(syd_temp.head())"
   ],
   "metadata": {
    "collapsed": false,
    "ExecuteTime": {
     "end_time": "2024-12-29T05:15:29.490957300Z",
     "start_time": "2024-12-29T05:15:29.441693400Z"
    }
   },
   "id": "a8e553e88dc6a883",
   "execution_count": 5
  },
  {
   "cell_type": "markdown",
   "source": [
    "## Remove rows with NAN values"
   ],
   "metadata": {
    "collapsed": false
   },
   "id": "f4c48bf7d714f1fd"
  },
  {
   "cell_type": "code",
   "outputs": [
    {
     "name": "stdout",
     "output_type": "stream",
     "text": [
      "(305, 2)\n",
      "(213, 2)\n"
     ]
    }
   ],
   "source": [
    "print(syd_temp.shape)\n",
    "syd_temp = syd_temp.dropna()\n",
    "print(syd_temp.shape)"
   ],
   "metadata": {
    "collapsed": false,
    "ExecuteTime": {
     "end_time": "2024-12-29T05:15:32.290694700Z",
     "start_time": "2024-12-29T05:15:32.276801200Z"
    }
   },
   "id": "92dc021510153275",
   "execution_count": 6
  },
  {
   "cell_type": "markdown",
   "source": [
    "## Iterate through the Date column using list comprehensive , split the date column and reconstruct again as proper datetime with format yyyy-mm-dd and store in a new column date_modified"
   ],
   "metadata": {
    "collapsed": false
   },
   "id": "190aa86d558c41b2"
  },
  {
   "cell_type": "code",
   "outputs": [
    {
     "name": "stdout",
     "output_type": "stream",
     "text": [
      "     Date  Temp date_modified\n",
      "0  1/1/20  27.3    2000-01-01\n",
      "1  2/1/20  29.0    2000-01-02\n",
      "2  3/1/20  29.4    2000-01-03\n",
      "3  4/1/20  36.4    2000-01-04\n",
      "4  5/1/20  26.6    2000-01-05\n"
     ]
    }
   ],
   "source": [
    "import datetime\n",
    "syd_temp['date_modified'] = [datetime.date(int(str(val).split('/')[2] +'00'), int(str(val).split('/')[1]),int(str(val).split('/')[0]))  for val in syd_temp['Date']]\n",
    "print(syd_temp.head())"
   ],
   "metadata": {
    "collapsed": false,
    "ExecuteTime": {
     "end_time": "2024-12-29T05:33:55.445581800Z",
     "start_time": "2024-12-29T05:33:55.396652Z"
    }
   },
   "id": "4487dccad2d5e301",
   "execution_count": 31
  },
  {
   "cell_type": "markdown",
   "source": [
    "## Create a new dataframe with summer data only that is month >=12 and month<=2"
   ],
   "metadata": {
    "collapsed": false
   },
   "id": "d41c6d36f2a30e3d"
  },
  {
   "cell_type": "code",
   "outputs": [
    {
     "name": "stdout",
     "output_type": "stream",
     "text": [
      "     Date  Temp date_modified\n",
      "0  1/1/20  27.3    2000-01-01\n",
      "1  2/1/20  29.0    2000-01-02\n",
      "2  3/1/20  29.4    2000-01-03\n",
      "3  4/1/20  36.4    2000-01-04\n",
      "4  5/1/20  26.6    2000-01-05\n",
      "(60, 3)\n"
     ]
    }
   ],
   "source": [
    "syd_temp['date_modified'] = pd.to_datetime(syd_temp['date_modified'])\n",
    "\n",
    "# create a mask\n",
    "mask = (syd_temp['date_modified'].dt.month == 1) | (syd_temp['date_modified'].dt.month == 2)\n",
    "# apply the mask\n",
    "syd_temp_modified = syd_temp.loc[mask].sort_values(by='date_modified', ascending=True)\n",
    "\n",
    "# Test the data\n",
    "print(syd_temp_modified.head())\n",
    "print(syd_temp_modified.shape)"
   ],
   "metadata": {
    "collapsed": false,
    "ExecuteTime": {
     "end_time": "2024-12-29T06:05:48.879354900Z",
     "start_time": "2024-12-29T06:05:48.194966600Z"
    }
   },
   "id": "a243512ddaf6a8af",
   "execution_count": 49
  },
  {
   "cell_type": "markdown",
   "source": [
    "## Create custom color scale"
   ],
   "metadata": {
    "collapsed": false
   },
   "id": "40d727d12cdfb3ff"
  },
  {
   "cell_type": "code",
   "outputs": [
    {
     "name": "stdout",
     "output_type": "stream",
     "text": [
      "['rgb(242, 238, 10)', 'rgb(242, 95, 10)', 'rgb(255,0,0)']\n"
     ]
    }
   ],
   "source": [
    "my_scale=[('rgb(242, 238, 10)'),\\\n",
    "         ('rgb(242, 95, 10)'),\\\n",
    "('rgb(255,0,0)')]\n",
    "print(my_scale)"
   ],
   "metadata": {
    "collapsed": false,
    "ExecuteTime": {
     "end_time": "2024-12-29T06:35:31.391388300Z",
     "start_time": "2024-12-29T06:35:31.357467400Z"
    }
   },
   "id": "6384d9d79d4f64ed",
   "execution_count": 50
  },
  {
   "cell_type": "markdown",
   "source": [
    "## Draw a Temperature bar chat with custom color scale using Plotly"
   ],
   "metadata": {
    "collapsed": false
   },
   "id": "ffad25d53b52780e"
  },
  {
   "cell_type": "code",
   "outputs": [
    {
     "data": {
      "application/vnd.plotly.v1+json": {
       "data": [
        {
         "alignmentgroup": "True",
         "hovertemplate": "date_modified=%{x}<br>Temp=%{marker.color}<extra></extra>",
         "legendgroup": "",
         "marker": {
          "color": [
           27.3,
           29.0,
           29.4,
           36.4,
           26.6,
           27.9,
           28.8,
           27.7,
           26.5,
           31.3,
           23.1,
           22.1,
           29.1,
           28.9,
           28.3,
           28.1,
           22.2,
           22.8,
           26.6,
           29.1,
           31.9,
           30.7,
           41.2,
           28.5,
           29.1,
           32.5,
           30.2,
           31.3,
           29.0,
           30.1,
           32.4,
           36.4,
           31.1,
           31.7,
           23.7,
           27.4,
           24.4,
           22.6,
           23.8,
           21.9,
           27.8,
           30.8,
           26.4,
           26.3,
           27.8,
           28.5,
           27.7,
           26.1,
           30.0,
           29.1,
           25.5,
           26.6,
           24.3,
           25.9,
           28.4,
           29.7,
           32.2,
           27.2,
           25.7,
           27.9
          ],
          "coloraxis": "coloraxis",
          "pattern": {
           "shape": ""
          }
         },
         "name": "",
         "offsetgroup": "",
         "orientation": "v",
         "showlegend": false,
         "textposition": "auto",
         "x": [
          "2000-01-01T00:00:00",
          "2000-01-02T00:00:00",
          "2000-01-03T00:00:00",
          "2000-01-04T00:00:00",
          "2000-01-05T00:00:00",
          "2000-01-06T00:00:00",
          "2000-01-07T00:00:00",
          "2000-01-08T00:00:00",
          "2000-01-09T00:00:00",
          "2000-01-10T00:00:00",
          "2000-01-11T00:00:00",
          "2000-01-12T00:00:00",
          "2000-01-13T00:00:00",
          "2000-01-14T00:00:00",
          "2000-01-15T00:00:00",
          "2000-01-16T00:00:00",
          "2000-01-17T00:00:00",
          "2000-01-18T00:00:00",
          "2000-01-19T00:00:00",
          "2000-01-20T00:00:00",
          "2000-01-21T00:00:00",
          "2000-01-22T00:00:00",
          "2000-01-23T00:00:00",
          "2000-01-24T00:00:00",
          "2000-01-25T00:00:00",
          "2000-01-26T00:00:00",
          "2000-01-27T00:00:00",
          "2000-01-28T00:00:00",
          "2000-01-29T00:00:00",
          "2000-01-30T00:00:00",
          "2000-01-31T00:00:00",
          "2000-02-01T00:00:00",
          "2000-02-02T00:00:00",
          "2000-02-03T00:00:00",
          "2000-02-04T00:00:00",
          "2000-02-05T00:00:00",
          "2000-02-06T00:00:00",
          "2000-02-07T00:00:00",
          "2000-02-08T00:00:00",
          "2000-02-09T00:00:00",
          "2000-02-10T00:00:00",
          "2000-02-11T00:00:00",
          "2000-02-12T00:00:00",
          "2000-02-13T00:00:00",
          "2000-02-14T00:00:00",
          "2000-02-15T00:00:00",
          "2000-02-16T00:00:00",
          "2000-02-17T00:00:00",
          "2000-02-18T00:00:00",
          "2000-02-19T00:00:00",
          "2000-02-20T00:00:00",
          "2000-02-21T00:00:00",
          "2000-02-22T00:00:00",
          "2000-02-23T00:00:00",
          "2000-02-24T00:00:00",
          "2000-02-25T00:00:00",
          "2000-02-26T00:00:00",
          "2000-02-27T00:00:00",
          "2000-02-28T00:00:00",
          "2000-02-29T00:00:00"
         ],
         "xaxis": "x",
         "y": [
          27.3,
          29.0,
          29.4,
          36.4,
          26.6,
          27.9,
          28.8,
          27.7,
          26.5,
          31.3,
          23.1,
          22.1,
          29.1,
          28.9,
          28.3,
          28.1,
          22.2,
          22.8,
          26.6,
          29.1,
          31.9,
          30.7,
          41.2,
          28.5,
          29.1,
          32.5,
          30.2,
          31.3,
          29.0,
          30.1,
          32.4,
          36.4,
          31.1,
          31.7,
          23.7,
          27.4,
          24.4,
          22.6,
          23.8,
          21.9,
          27.8,
          30.8,
          26.4,
          26.3,
          27.8,
          28.5,
          27.7,
          26.1,
          30.0,
          29.1,
          25.5,
          26.6,
          24.3,
          25.9,
          28.4,
          29.7,
          32.2,
          27.2,
          25.7,
          27.9
         ],
         "yaxis": "y",
         "type": "bar"
        }
       ],
       "layout": {
        "template": {
         "data": {
          "histogram2dcontour": [
           {
            "type": "histogram2dcontour",
            "colorbar": {
             "outlinewidth": 0,
             "ticks": ""
            },
            "colorscale": [
             [
              0.0,
              "#0d0887"
             ],
             [
              0.1111111111111111,
              "#46039f"
             ],
             [
              0.2222222222222222,
              "#7201a8"
             ],
             [
              0.3333333333333333,
              "#9c179e"
             ],
             [
              0.4444444444444444,
              "#bd3786"
             ],
             [
              0.5555555555555556,
              "#d8576b"
             ],
             [
              0.6666666666666666,
              "#ed7953"
             ],
             [
              0.7777777777777778,
              "#fb9f3a"
             ],
             [
              0.8888888888888888,
              "#fdca26"
             ],
             [
              1.0,
              "#f0f921"
             ]
            ]
           }
          ],
          "choropleth": [
           {
            "type": "choropleth",
            "colorbar": {
             "outlinewidth": 0,
             "ticks": ""
            }
           }
          ],
          "histogram2d": [
           {
            "type": "histogram2d",
            "colorbar": {
             "outlinewidth": 0,
             "ticks": ""
            },
            "colorscale": [
             [
              0.0,
              "#0d0887"
             ],
             [
              0.1111111111111111,
              "#46039f"
             ],
             [
              0.2222222222222222,
              "#7201a8"
             ],
             [
              0.3333333333333333,
              "#9c179e"
             ],
             [
              0.4444444444444444,
              "#bd3786"
             ],
             [
              0.5555555555555556,
              "#d8576b"
             ],
             [
              0.6666666666666666,
              "#ed7953"
             ],
             [
              0.7777777777777778,
              "#fb9f3a"
             ],
             [
              0.8888888888888888,
              "#fdca26"
             ],
             [
              1.0,
              "#f0f921"
             ]
            ]
           }
          ],
          "heatmap": [
           {
            "type": "heatmap",
            "colorbar": {
             "outlinewidth": 0,
             "ticks": ""
            },
            "colorscale": [
             [
              0.0,
              "#0d0887"
             ],
             [
              0.1111111111111111,
              "#46039f"
             ],
             [
              0.2222222222222222,
              "#7201a8"
             ],
             [
              0.3333333333333333,
              "#9c179e"
             ],
             [
              0.4444444444444444,
              "#bd3786"
             ],
             [
              0.5555555555555556,
              "#d8576b"
             ],
             [
              0.6666666666666666,
              "#ed7953"
             ],
             [
              0.7777777777777778,
              "#fb9f3a"
             ],
             [
              0.8888888888888888,
              "#fdca26"
             ],
             [
              1.0,
              "#f0f921"
             ]
            ]
           }
          ],
          "heatmapgl": [
           {
            "type": "heatmapgl",
            "colorbar": {
             "outlinewidth": 0,
             "ticks": ""
            },
            "colorscale": [
             [
              0.0,
              "#0d0887"
             ],
             [
              0.1111111111111111,
              "#46039f"
             ],
             [
              0.2222222222222222,
              "#7201a8"
             ],
             [
              0.3333333333333333,
              "#9c179e"
             ],
             [
              0.4444444444444444,
              "#bd3786"
             ],
             [
              0.5555555555555556,
              "#d8576b"
             ],
             [
              0.6666666666666666,
              "#ed7953"
             ],
             [
              0.7777777777777778,
              "#fb9f3a"
             ],
             [
              0.8888888888888888,
              "#fdca26"
             ],
             [
              1.0,
              "#f0f921"
             ]
            ]
           }
          ],
          "contourcarpet": [
           {
            "type": "contourcarpet",
            "colorbar": {
             "outlinewidth": 0,
             "ticks": ""
            }
           }
          ],
          "contour": [
           {
            "type": "contour",
            "colorbar": {
             "outlinewidth": 0,
             "ticks": ""
            },
            "colorscale": [
             [
              0.0,
              "#0d0887"
             ],
             [
              0.1111111111111111,
              "#46039f"
             ],
             [
              0.2222222222222222,
              "#7201a8"
             ],
             [
              0.3333333333333333,
              "#9c179e"
             ],
             [
              0.4444444444444444,
              "#bd3786"
             ],
             [
              0.5555555555555556,
              "#d8576b"
             ],
             [
              0.6666666666666666,
              "#ed7953"
             ],
             [
              0.7777777777777778,
              "#fb9f3a"
             ],
             [
              0.8888888888888888,
              "#fdca26"
             ],
             [
              1.0,
              "#f0f921"
             ]
            ]
           }
          ],
          "surface": [
           {
            "type": "surface",
            "colorbar": {
             "outlinewidth": 0,
             "ticks": ""
            },
            "colorscale": [
             [
              0.0,
              "#0d0887"
             ],
             [
              0.1111111111111111,
              "#46039f"
             ],
             [
              0.2222222222222222,
              "#7201a8"
             ],
             [
              0.3333333333333333,
              "#9c179e"
             ],
             [
              0.4444444444444444,
              "#bd3786"
             ],
             [
              0.5555555555555556,
              "#d8576b"
             ],
             [
              0.6666666666666666,
              "#ed7953"
             ],
             [
              0.7777777777777778,
              "#fb9f3a"
             ],
             [
              0.8888888888888888,
              "#fdca26"
             ],
             [
              1.0,
              "#f0f921"
             ]
            ]
           }
          ],
          "mesh3d": [
           {
            "type": "mesh3d",
            "colorbar": {
             "outlinewidth": 0,
             "ticks": ""
            }
           }
          ],
          "scatter": [
           {
            "marker": {
             "line": {
              "color": "#283442"
             }
            },
            "type": "scatter"
           }
          ],
          "parcoords": [
           {
            "type": "parcoords",
            "line": {
             "colorbar": {
              "outlinewidth": 0,
              "ticks": ""
             }
            }
           }
          ],
          "scatterpolargl": [
           {
            "type": "scatterpolargl",
            "marker": {
             "colorbar": {
              "outlinewidth": 0,
              "ticks": ""
             }
            }
           }
          ],
          "bar": [
           {
            "error_x": {
             "color": "#f2f5fa"
            },
            "error_y": {
             "color": "#f2f5fa"
            },
            "marker": {
             "line": {
              "color": "rgb(17,17,17)",
              "width": 0.5
             },
             "pattern": {
              "fillmode": "overlay",
              "size": 10,
              "solidity": 0.2
             }
            },
            "type": "bar"
           }
          ],
          "scattergeo": [
           {
            "type": "scattergeo",
            "marker": {
             "colorbar": {
              "outlinewidth": 0,
              "ticks": ""
             }
            }
           }
          ],
          "scatterpolar": [
           {
            "type": "scatterpolar",
            "marker": {
             "colorbar": {
              "outlinewidth": 0,
              "ticks": ""
             }
            }
           }
          ],
          "histogram": [
           {
            "marker": {
             "pattern": {
              "fillmode": "overlay",
              "size": 10,
              "solidity": 0.2
             }
            },
            "type": "histogram"
           }
          ],
          "scattergl": [
           {
            "marker": {
             "line": {
              "color": "#283442"
             }
            },
            "type": "scattergl"
           }
          ],
          "scatter3d": [
           {
            "type": "scatter3d",
            "line": {
             "colorbar": {
              "outlinewidth": 0,
              "ticks": ""
             }
            },
            "marker": {
             "colorbar": {
              "outlinewidth": 0,
              "ticks": ""
             }
            }
           }
          ],
          "scattermapbox": [
           {
            "type": "scattermapbox",
            "marker": {
             "colorbar": {
              "outlinewidth": 0,
              "ticks": ""
             }
            }
           }
          ],
          "scatterternary": [
           {
            "type": "scatterternary",
            "marker": {
             "colorbar": {
              "outlinewidth": 0,
              "ticks": ""
             }
            }
           }
          ],
          "scattercarpet": [
           {
            "type": "scattercarpet",
            "marker": {
             "colorbar": {
              "outlinewidth": 0,
              "ticks": ""
             }
            }
           }
          ],
          "carpet": [
           {
            "aaxis": {
             "endlinecolor": "#A2B1C6",
             "gridcolor": "#506784",
             "linecolor": "#506784",
             "minorgridcolor": "#506784",
             "startlinecolor": "#A2B1C6"
            },
            "baxis": {
             "endlinecolor": "#A2B1C6",
             "gridcolor": "#506784",
             "linecolor": "#506784",
             "minorgridcolor": "#506784",
             "startlinecolor": "#A2B1C6"
            },
            "type": "carpet"
           }
          ],
          "table": [
           {
            "cells": {
             "fill": {
              "color": "#506784"
             },
             "line": {
              "color": "rgb(17,17,17)"
             }
            },
            "header": {
             "fill": {
              "color": "#2a3f5f"
             },
             "line": {
              "color": "rgb(17,17,17)"
             }
            },
            "type": "table"
           }
          ],
          "barpolar": [
           {
            "marker": {
             "line": {
              "color": "rgb(17,17,17)",
              "width": 0.5
             },
             "pattern": {
              "fillmode": "overlay",
              "size": 10,
              "solidity": 0.2
             }
            },
            "type": "barpolar"
           }
          ],
          "pie": [
           {
            "automargin": true,
            "type": "pie"
           }
          ]
         },
         "layout": {
          "autotypenumbers": "strict",
          "colorway": [
           "#636efa",
           "#EF553B",
           "#00cc96",
           "#ab63fa",
           "#FFA15A",
           "#19d3f3",
           "#FF6692",
           "#B6E880",
           "#FF97FF",
           "#FECB52"
          ],
          "font": {
           "color": "#f2f5fa"
          },
          "hovermode": "closest",
          "hoverlabel": {
           "align": "left"
          },
          "paper_bgcolor": "rgb(17,17,17)",
          "plot_bgcolor": "rgb(17,17,17)",
          "polar": {
           "bgcolor": "rgb(17,17,17)",
           "angularaxis": {
            "gridcolor": "#506784",
            "linecolor": "#506784",
            "ticks": ""
           },
           "radialaxis": {
            "gridcolor": "#506784",
            "linecolor": "#506784",
            "ticks": ""
           }
          },
          "ternary": {
           "bgcolor": "rgb(17,17,17)",
           "aaxis": {
            "gridcolor": "#506784",
            "linecolor": "#506784",
            "ticks": ""
           },
           "baxis": {
            "gridcolor": "#506784",
            "linecolor": "#506784",
            "ticks": ""
           },
           "caxis": {
            "gridcolor": "#506784",
            "linecolor": "#506784",
            "ticks": ""
           }
          },
          "coloraxis": {
           "colorbar": {
            "outlinewidth": 0,
            "ticks": ""
           }
          },
          "colorscale": {
           "sequential": [
            [
             0.0,
             "#0d0887"
            ],
            [
             0.1111111111111111,
             "#46039f"
            ],
            [
             0.2222222222222222,
             "#7201a8"
            ],
            [
             0.3333333333333333,
             "#9c179e"
            ],
            [
             0.4444444444444444,
             "#bd3786"
            ],
            [
             0.5555555555555556,
             "#d8576b"
            ],
            [
             0.6666666666666666,
             "#ed7953"
            ],
            [
             0.7777777777777778,
             "#fb9f3a"
            ],
            [
             0.8888888888888888,
             "#fdca26"
            ],
            [
             1.0,
             "#f0f921"
            ]
           ],
           "sequentialminus": [
            [
             0.0,
             "#0d0887"
            ],
            [
             0.1111111111111111,
             "#46039f"
            ],
            [
             0.2222222222222222,
             "#7201a8"
            ],
            [
             0.3333333333333333,
             "#9c179e"
            ],
            [
             0.4444444444444444,
             "#bd3786"
            ],
            [
             0.5555555555555556,
             "#d8576b"
            ],
            [
             0.6666666666666666,
             "#ed7953"
            ],
            [
             0.7777777777777778,
             "#fb9f3a"
            ],
            [
             0.8888888888888888,
             "#fdca26"
            ],
            [
             1.0,
             "#f0f921"
            ]
           ],
           "diverging": [
            [
             0,
             "#8e0152"
            ],
            [
             0.1,
             "#c51b7d"
            ],
            [
             0.2,
             "#de77ae"
            ],
            [
             0.3,
             "#f1b6da"
            ],
            [
             0.4,
             "#fde0ef"
            ],
            [
             0.5,
             "#f7f7f7"
            ],
            [
             0.6,
             "#e6f5d0"
            ],
            [
             0.7,
             "#b8e186"
            ],
            [
             0.8,
             "#7fbc41"
            ],
            [
             0.9,
             "#4d9221"
            ],
            [
             1,
             "#276419"
            ]
           ]
          },
          "xaxis": {
           "gridcolor": "#283442",
           "linecolor": "#506784",
           "ticks": "",
           "title": {
            "standoff": 15
           },
           "zerolinecolor": "#283442",
           "automargin": true,
           "zerolinewidth": 2
          },
          "yaxis": {
           "gridcolor": "#283442",
           "linecolor": "#506784",
           "ticks": "",
           "title": {
            "standoff": 15
           },
           "zerolinecolor": "#283442",
           "automargin": true,
           "zerolinewidth": 2
          },
          "scene": {
           "xaxis": {
            "backgroundcolor": "rgb(17,17,17)",
            "gridcolor": "#506784",
            "linecolor": "#506784",
            "showbackground": true,
            "ticks": "",
            "zerolinecolor": "#C8D4E3",
            "gridwidth": 2
           },
           "yaxis": {
            "backgroundcolor": "rgb(17,17,17)",
            "gridcolor": "#506784",
            "linecolor": "#506784",
            "showbackground": true,
            "ticks": "",
            "zerolinecolor": "#C8D4E3",
            "gridwidth": 2
           },
           "zaxis": {
            "backgroundcolor": "rgb(17,17,17)",
            "gridcolor": "#506784",
            "linecolor": "#506784",
            "showbackground": true,
            "ticks": "",
            "zerolinecolor": "#C8D4E3",
            "gridwidth": 2
           }
          },
          "shapedefaults": {
           "line": {
            "color": "#f2f5fa"
           }
          },
          "annotationdefaults": {
           "arrowcolor": "#f2f5fa",
           "arrowhead": 0,
           "arrowwidth": 1
          },
          "geo": {
           "bgcolor": "rgb(17,17,17)",
           "landcolor": "rgb(17,17,17)",
           "subunitcolor": "#506784",
           "showland": true,
           "showlakes": true,
           "lakecolor": "rgb(17,17,17)"
          },
          "title": {
           "x": 0.05
          },
          "updatemenudefaults": {
           "bgcolor": "#506784",
           "borderwidth": 0
          },
          "sliderdefaults": {
           "bgcolor": "#C8D4E3",
           "borderwidth": 1,
           "bordercolor": "rgb(17,17,17)",
           "tickwidth": 0
          },
          "mapbox": {
           "style": "dark"
          }
         }
        },
        "xaxis": {
         "anchor": "y",
         "domain": [
          0.0,
          1.0
         ],
         "title": {
          "text": "date_modified"
         }
        },
        "yaxis": {
         "anchor": "x",
         "domain": [
          0.0,
          1.0
         ],
         "title": {
          "text": "Temp"
         }
        },
        "coloraxis": {
         "colorbar": {
          "title": {
           "text": "Temp"
          }
         },
         "colorscale": [
          [
           0.0,
           "rgb(242, 238, 10)"
          ],
          [
           0.5,
           "rgb(242, 95, 10)"
          ],
          [
           1.0,
           "rgb(255,0,0)"
          ]
         ]
        },
        "legend": {
         "tracegroupgap": 0
        },
        "title": {
         "text": "Sydney Daily Summer Temerature Distribution "
        },
        "barmode": "relative"
       },
       "config": {
        "plotlyServerURL": "https://plot.ly"
       }
      },
      "text/html": "<div>                            <div id=\"79d70368-1f5f-4a94-bbf4-e032bda78f82\" class=\"plotly-graph-div\" style=\"height:525px; width:100%;\"></div>            <script type=\"text/javascript\">                require([\"plotly\"], function(Plotly) {                    window.PLOTLYENV=window.PLOTLYENV || {};                                    if (document.getElementById(\"79d70368-1f5f-4a94-bbf4-e032bda78f82\")) {                    Plotly.newPlot(                        \"79d70368-1f5f-4a94-bbf4-e032bda78f82\",                        [{\"alignmentgroup\":\"True\",\"hovertemplate\":\"date_modified=%{x}\\u003cbr\\u003eTemp=%{marker.color}\\u003cextra\\u003e\\u003c\\u002fextra\\u003e\",\"legendgroup\":\"\",\"marker\":{\"color\":[27.3,29.0,29.4,36.4,26.6,27.9,28.8,27.7,26.5,31.3,23.1,22.1,29.1,28.9,28.3,28.1,22.2,22.8,26.6,29.1,31.9,30.7,41.2,28.5,29.1,32.5,30.2,31.3,29.0,30.1,32.4,36.4,31.1,31.7,23.7,27.4,24.4,22.6,23.8,21.9,27.8,30.8,26.4,26.3,27.8,28.5,27.7,26.1,30.0,29.1,25.5,26.6,24.3,25.9,28.4,29.7,32.2,27.2,25.7,27.9],\"coloraxis\":\"coloraxis\",\"pattern\":{\"shape\":\"\"}},\"name\":\"\",\"offsetgroup\":\"\",\"orientation\":\"v\",\"showlegend\":false,\"textposition\":\"auto\",\"x\":[\"2000-01-01T00:00:00\",\"2000-01-02T00:00:00\",\"2000-01-03T00:00:00\",\"2000-01-04T00:00:00\",\"2000-01-05T00:00:00\",\"2000-01-06T00:00:00\",\"2000-01-07T00:00:00\",\"2000-01-08T00:00:00\",\"2000-01-09T00:00:00\",\"2000-01-10T00:00:00\",\"2000-01-11T00:00:00\",\"2000-01-12T00:00:00\",\"2000-01-13T00:00:00\",\"2000-01-14T00:00:00\",\"2000-01-15T00:00:00\",\"2000-01-16T00:00:00\",\"2000-01-17T00:00:00\",\"2000-01-18T00:00:00\",\"2000-01-19T00:00:00\",\"2000-01-20T00:00:00\",\"2000-01-21T00:00:00\",\"2000-01-22T00:00:00\",\"2000-01-23T00:00:00\",\"2000-01-24T00:00:00\",\"2000-01-25T00:00:00\",\"2000-01-26T00:00:00\",\"2000-01-27T00:00:00\",\"2000-01-28T00:00:00\",\"2000-01-29T00:00:00\",\"2000-01-30T00:00:00\",\"2000-01-31T00:00:00\",\"2000-02-01T00:00:00\",\"2000-02-02T00:00:00\",\"2000-02-03T00:00:00\",\"2000-02-04T00:00:00\",\"2000-02-05T00:00:00\",\"2000-02-06T00:00:00\",\"2000-02-07T00:00:00\",\"2000-02-08T00:00:00\",\"2000-02-09T00:00:00\",\"2000-02-10T00:00:00\",\"2000-02-11T00:00:00\",\"2000-02-12T00:00:00\",\"2000-02-13T00:00:00\",\"2000-02-14T00:00:00\",\"2000-02-15T00:00:00\",\"2000-02-16T00:00:00\",\"2000-02-17T00:00:00\",\"2000-02-18T00:00:00\",\"2000-02-19T00:00:00\",\"2000-02-20T00:00:00\",\"2000-02-21T00:00:00\",\"2000-02-22T00:00:00\",\"2000-02-23T00:00:00\",\"2000-02-24T00:00:00\",\"2000-02-25T00:00:00\",\"2000-02-26T00:00:00\",\"2000-02-27T00:00:00\",\"2000-02-28T00:00:00\",\"2000-02-29T00:00:00\"],\"xaxis\":\"x\",\"y\":[27.3,29.0,29.4,36.4,26.6,27.9,28.8,27.7,26.5,31.3,23.1,22.1,29.1,28.9,28.3,28.1,22.2,22.8,26.6,29.1,31.9,30.7,41.2,28.5,29.1,32.5,30.2,31.3,29.0,30.1,32.4,36.4,31.1,31.7,23.7,27.4,24.4,22.6,23.8,21.9,27.8,30.8,26.4,26.3,27.8,28.5,27.7,26.1,30.0,29.1,25.5,26.6,24.3,25.9,28.4,29.7,32.2,27.2,25.7,27.9],\"yaxis\":\"y\",\"type\":\"bar\"}],                        {\"template\":{\"data\":{\"histogram2dcontour\":[{\"type\":\"histogram2dcontour\",\"colorbar\":{\"outlinewidth\":0,\"ticks\":\"\"},\"colorscale\":[[0.0,\"#0d0887\"],[0.1111111111111111,\"#46039f\"],[0.2222222222222222,\"#7201a8\"],[0.3333333333333333,\"#9c179e\"],[0.4444444444444444,\"#bd3786\"],[0.5555555555555556,\"#d8576b\"],[0.6666666666666666,\"#ed7953\"],[0.7777777777777778,\"#fb9f3a\"],[0.8888888888888888,\"#fdca26\"],[1.0,\"#f0f921\"]]}],\"choropleth\":[{\"type\":\"choropleth\",\"colorbar\":{\"outlinewidth\":0,\"ticks\":\"\"}}],\"histogram2d\":[{\"type\":\"histogram2d\",\"colorbar\":{\"outlinewidth\":0,\"ticks\":\"\"},\"colorscale\":[[0.0,\"#0d0887\"],[0.1111111111111111,\"#46039f\"],[0.2222222222222222,\"#7201a8\"],[0.3333333333333333,\"#9c179e\"],[0.4444444444444444,\"#bd3786\"],[0.5555555555555556,\"#d8576b\"],[0.6666666666666666,\"#ed7953\"],[0.7777777777777778,\"#fb9f3a\"],[0.8888888888888888,\"#fdca26\"],[1.0,\"#f0f921\"]]}],\"heatmap\":[{\"type\":\"heatmap\",\"colorbar\":{\"outlinewidth\":0,\"ticks\":\"\"},\"colorscale\":[[0.0,\"#0d0887\"],[0.1111111111111111,\"#46039f\"],[0.2222222222222222,\"#7201a8\"],[0.3333333333333333,\"#9c179e\"],[0.4444444444444444,\"#bd3786\"],[0.5555555555555556,\"#d8576b\"],[0.6666666666666666,\"#ed7953\"],[0.7777777777777778,\"#fb9f3a\"],[0.8888888888888888,\"#fdca26\"],[1.0,\"#f0f921\"]]}],\"heatmapgl\":[{\"type\":\"heatmapgl\",\"colorbar\":{\"outlinewidth\":0,\"ticks\":\"\"},\"colorscale\":[[0.0,\"#0d0887\"],[0.1111111111111111,\"#46039f\"],[0.2222222222222222,\"#7201a8\"],[0.3333333333333333,\"#9c179e\"],[0.4444444444444444,\"#bd3786\"],[0.5555555555555556,\"#d8576b\"],[0.6666666666666666,\"#ed7953\"],[0.7777777777777778,\"#fb9f3a\"],[0.8888888888888888,\"#fdca26\"],[1.0,\"#f0f921\"]]}],\"contourcarpet\":[{\"type\":\"contourcarpet\",\"colorbar\":{\"outlinewidth\":0,\"ticks\":\"\"}}],\"contour\":[{\"type\":\"contour\",\"colorbar\":{\"outlinewidth\":0,\"ticks\":\"\"},\"colorscale\":[[0.0,\"#0d0887\"],[0.1111111111111111,\"#46039f\"],[0.2222222222222222,\"#7201a8\"],[0.3333333333333333,\"#9c179e\"],[0.4444444444444444,\"#bd3786\"],[0.5555555555555556,\"#d8576b\"],[0.6666666666666666,\"#ed7953\"],[0.7777777777777778,\"#fb9f3a\"],[0.8888888888888888,\"#fdca26\"],[1.0,\"#f0f921\"]]}],\"surface\":[{\"type\":\"surface\",\"colorbar\":{\"outlinewidth\":0,\"ticks\":\"\"},\"colorscale\":[[0.0,\"#0d0887\"],[0.1111111111111111,\"#46039f\"],[0.2222222222222222,\"#7201a8\"],[0.3333333333333333,\"#9c179e\"],[0.4444444444444444,\"#bd3786\"],[0.5555555555555556,\"#d8576b\"],[0.6666666666666666,\"#ed7953\"],[0.7777777777777778,\"#fb9f3a\"],[0.8888888888888888,\"#fdca26\"],[1.0,\"#f0f921\"]]}],\"mesh3d\":[{\"type\":\"mesh3d\",\"colorbar\":{\"outlinewidth\":0,\"ticks\":\"\"}}],\"scatter\":[{\"marker\":{\"line\":{\"color\":\"#283442\"}},\"type\":\"scatter\"}],\"parcoords\":[{\"type\":\"parcoords\",\"line\":{\"colorbar\":{\"outlinewidth\":0,\"ticks\":\"\"}}}],\"scatterpolargl\":[{\"type\":\"scatterpolargl\",\"marker\":{\"colorbar\":{\"outlinewidth\":0,\"ticks\":\"\"}}}],\"bar\":[{\"error_x\":{\"color\":\"#f2f5fa\"},\"error_y\":{\"color\":\"#f2f5fa\"},\"marker\":{\"line\":{\"color\":\"rgb(17,17,17)\",\"width\":0.5},\"pattern\":{\"fillmode\":\"overlay\",\"size\":10,\"solidity\":0.2}},\"type\":\"bar\"}],\"scattergeo\":[{\"type\":\"scattergeo\",\"marker\":{\"colorbar\":{\"outlinewidth\":0,\"ticks\":\"\"}}}],\"scatterpolar\":[{\"type\":\"scatterpolar\",\"marker\":{\"colorbar\":{\"outlinewidth\":0,\"ticks\":\"\"}}}],\"histogram\":[{\"marker\":{\"pattern\":{\"fillmode\":\"overlay\",\"size\":10,\"solidity\":0.2}},\"type\":\"histogram\"}],\"scattergl\":[{\"marker\":{\"line\":{\"color\":\"#283442\"}},\"type\":\"scattergl\"}],\"scatter3d\":[{\"type\":\"scatter3d\",\"line\":{\"colorbar\":{\"outlinewidth\":0,\"ticks\":\"\"}},\"marker\":{\"colorbar\":{\"outlinewidth\":0,\"ticks\":\"\"}}}],\"scattermapbox\":[{\"type\":\"scattermapbox\",\"marker\":{\"colorbar\":{\"outlinewidth\":0,\"ticks\":\"\"}}}],\"scatterternary\":[{\"type\":\"scatterternary\",\"marker\":{\"colorbar\":{\"outlinewidth\":0,\"ticks\":\"\"}}}],\"scattercarpet\":[{\"type\":\"scattercarpet\",\"marker\":{\"colorbar\":{\"outlinewidth\":0,\"ticks\":\"\"}}}],\"carpet\":[{\"aaxis\":{\"endlinecolor\":\"#A2B1C6\",\"gridcolor\":\"#506784\",\"linecolor\":\"#506784\",\"minorgridcolor\":\"#506784\",\"startlinecolor\":\"#A2B1C6\"},\"baxis\":{\"endlinecolor\":\"#A2B1C6\",\"gridcolor\":\"#506784\",\"linecolor\":\"#506784\",\"minorgridcolor\":\"#506784\",\"startlinecolor\":\"#A2B1C6\"},\"type\":\"carpet\"}],\"table\":[{\"cells\":{\"fill\":{\"color\":\"#506784\"},\"line\":{\"color\":\"rgb(17,17,17)\"}},\"header\":{\"fill\":{\"color\":\"#2a3f5f\"},\"line\":{\"color\":\"rgb(17,17,17)\"}},\"type\":\"table\"}],\"barpolar\":[{\"marker\":{\"line\":{\"color\":\"rgb(17,17,17)\",\"width\":0.5},\"pattern\":{\"fillmode\":\"overlay\",\"size\":10,\"solidity\":0.2}},\"type\":\"barpolar\"}],\"pie\":[{\"automargin\":true,\"type\":\"pie\"}]},\"layout\":{\"autotypenumbers\":\"strict\",\"colorway\":[\"#636efa\",\"#EF553B\",\"#00cc96\",\"#ab63fa\",\"#FFA15A\",\"#19d3f3\",\"#FF6692\",\"#B6E880\",\"#FF97FF\",\"#FECB52\"],\"font\":{\"color\":\"#f2f5fa\"},\"hovermode\":\"closest\",\"hoverlabel\":{\"align\":\"left\"},\"paper_bgcolor\":\"rgb(17,17,17)\",\"plot_bgcolor\":\"rgb(17,17,17)\",\"polar\":{\"bgcolor\":\"rgb(17,17,17)\",\"angularaxis\":{\"gridcolor\":\"#506784\",\"linecolor\":\"#506784\",\"ticks\":\"\"},\"radialaxis\":{\"gridcolor\":\"#506784\",\"linecolor\":\"#506784\",\"ticks\":\"\"}},\"ternary\":{\"bgcolor\":\"rgb(17,17,17)\",\"aaxis\":{\"gridcolor\":\"#506784\",\"linecolor\":\"#506784\",\"ticks\":\"\"},\"baxis\":{\"gridcolor\":\"#506784\",\"linecolor\":\"#506784\",\"ticks\":\"\"},\"caxis\":{\"gridcolor\":\"#506784\",\"linecolor\":\"#506784\",\"ticks\":\"\"}},\"coloraxis\":{\"colorbar\":{\"outlinewidth\":0,\"ticks\":\"\"}},\"colorscale\":{\"sequential\":[[0.0,\"#0d0887\"],[0.1111111111111111,\"#46039f\"],[0.2222222222222222,\"#7201a8\"],[0.3333333333333333,\"#9c179e\"],[0.4444444444444444,\"#bd3786\"],[0.5555555555555556,\"#d8576b\"],[0.6666666666666666,\"#ed7953\"],[0.7777777777777778,\"#fb9f3a\"],[0.8888888888888888,\"#fdca26\"],[1.0,\"#f0f921\"]],\"sequentialminus\":[[0.0,\"#0d0887\"],[0.1111111111111111,\"#46039f\"],[0.2222222222222222,\"#7201a8\"],[0.3333333333333333,\"#9c179e\"],[0.4444444444444444,\"#bd3786\"],[0.5555555555555556,\"#d8576b\"],[0.6666666666666666,\"#ed7953\"],[0.7777777777777778,\"#fb9f3a\"],[0.8888888888888888,\"#fdca26\"],[1.0,\"#f0f921\"]],\"diverging\":[[0,\"#8e0152\"],[0.1,\"#c51b7d\"],[0.2,\"#de77ae\"],[0.3,\"#f1b6da\"],[0.4,\"#fde0ef\"],[0.5,\"#f7f7f7\"],[0.6,\"#e6f5d0\"],[0.7,\"#b8e186\"],[0.8,\"#7fbc41\"],[0.9,\"#4d9221\"],[1,\"#276419\"]]},\"xaxis\":{\"gridcolor\":\"#283442\",\"linecolor\":\"#506784\",\"ticks\":\"\",\"title\":{\"standoff\":15},\"zerolinecolor\":\"#283442\",\"automargin\":true,\"zerolinewidth\":2},\"yaxis\":{\"gridcolor\":\"#283442\",\"linecolor\":\"#506784\",\"ticks\":\"\",\"title\":{\"standoff\":15},\"zerolinecolor\":\"#283442\",\"automargin\":true,\"zerolinewidth\":2},\"scene\":{\"xaxis\":{\"backgroundcolor\":\"rgb(17,17,17)\",\"gridcolor\":\"#506784\",\"linecolor\":\"#506784\",\"showbackground\":true,\"ticks\":\"\",\"zerolinecolor\":\"#C8D4E3\",\"gridwidth\":2},\"yaxis\":{\"backgroundcolor\":\"rgb(17,17,17)\",\"gridcolor\":\"#506784\",\"linecolor\":\"#506784\",\"showbackground\":true,\"ticks\":\"\",\"zerolinecolor\":\"#C8D4E3\",\"gridwidth\":2},\"zaxis\":{\"backgroundcolor\":\"rgb(17,17,17)\",\"gridcolor\":\"#506784\",\"linecolor\":\"#506784\",\"showbackground\":true,\"ticks\":\"\",\"zerolinecolor\":\"#C8D4E3\",\"gridwidth\":2}},\"shapedefaults\":{\"line\":{\"color\":\"#f2f5fa\"}},\"annotationdefaults\":{\"arrowcolor\":\"#f2f5fa\",\"arrowhead\":0,\"arrowwidth\":1},\"geo\":{\"bgcolor\":\"rgb(17,17,17)\",\"landcolor\":\"rgb(17,17,17)\",\"subunitcolor\":\"#506784\",\"showland\":true,\"showlakes\":true,\"lakecolor\":\"rgb(17,17,17)\"},\"title\":{\"x\":0.05},\"updatemenudefaults\":{\"bgcolor\":\"#506784\",\"borderwidth\":0},\"sliderdefaults\":{\"bgcolor\":\"#C8D4E3\",\"borderwidth\":1,\"bordercolor\":\"rgb(17,17,17)\",\"tickwidth\":0},\"mapbox\":{\"style\":\"dark\"}}},\"xaxis\":{\"anchor\":\"y\",\"domain\":[0.0,1.0],\"title\":{\"text\":\"date_modified\"}},\"yaxis\":{\"anchor\":\"x\",\"domain\":[0.0,1.0],\"title\":{\"text\":\"Temp\"}},\"coloraxis\":{\"colorbar\":{\"title\":{\"text\":\"Temp\"}},\"colorscale\":[[0.0,\"rgb(242, 238, 10)\"],[0.5,\"rgb(242, 95, 10)\"],[1.0,\"rgb(255,0,0)\"]]},\"legend\":{\"tracegroupgap\":0},\"title\":{\"text\":\"Sydney Daily Summer Temerature Distribution \"},\"barmode\":\"relative\"},                        {\"responsive\": true}                    ).then(function(){\n                            \nvar gd = document.getElementById('79d70368-1f5f-4a94-bbf4-e032bda78f82');\nvar x = new MutationObserver(function (mutations, observer) {{\n        var display = window.getComputedStyle(gd).display;\n        if (!display || display === 'none') {{\n            console.log([gd, 'removed!']);\n            Plotly.purge(gd);\n            observer.disconnect();\n        }}\n}});\n\n// Listen for the removal of the full notebook cells\nvar notebookContainer = gd.closest('#notebook-container');\nif (notebookContainer) {{\n    x.observe(notebookContainer, {childList: true});\n}}\n\n// Listen for the clearing of the current output cell\nvar outputEl = gd.closest('.output');\nif (outputEl) {{\n    x.observe(outputEl, {childList: true});\n}}\n\n                        })                };                });            </script>        </div>"
     },
     "metadata": {},
     "output_type": "display_data"
    }
   ],
   "source": [
    "fig = px.bar(data_frame=syd_temp_modified,x='date_modified', y='Temp', color='Temp', title='Sydney Daily Summer Temerature Distribution ', color_continuous_scale=my_scale)\n",
    "fig.show()"
   ],
   "metadata": {
    "collapsed": false,
    "ExecuteTime": {
     "end_time": "2024-12-29T23:19:07.499372300Z",
     "start_time": "2024-12-29T23:19:06.063615300Z"
    }
   },
   "id": "b3495f13e714e901",
   "execution_count": 55
  }
 ],
 "metadata": {
  "kernelspec": {
   "display_name": "Python 3",
   "language": "python",
   "name": "python3"
  },
  "language_info": {
   "codemirror_mode": {
    "name": "ipython",
    "version": 2
   },
   "file_extension": ".py",
   "mimetype": "text/x-python",
   "name": "python",
   "nbconvert_exporter": "python",
   "pygments_lexer": "ipython2",
   "version": "2.7.6"
  }
 },
 "nbformat": 4,
 "nbformat_minor": 5
}

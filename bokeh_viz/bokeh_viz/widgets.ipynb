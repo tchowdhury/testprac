{
 "cells": [
  {
   "cell_type": "code",
   "execution_count": 2,
   "id": "initial_id",
   "metadata": {
    "collapsed": true,
    "ExecuteTime": {
     "end_time": "2025-01-10T08:55:00.196657Z",
     "start_time": "2025-01-10T08:54:43.585653900Z"
    }
   },
   "outputs": [
    {
     "data": {
      "text/html": "    <style>\n        .bk-notebook-logo {\n            display: block;\n            width: 20px;\n            height: 20px;\n            background-image: url(data:image/png;base64,iVBORw0KGgoAAAANSUhEUgAAABQAAAAUCAYAAACNiR0NAAAABHNCSVQICAgIfAhkiAAAAAlwSFlzAAALEgAACxIB0t1+/AAAABx0RVh0U29mdHdhcmUAQWRvYmUgRmlyZXdvcmtzIENTNui8sowAAAOkSURBVDiNjZRtaJVlGMd/1/08zzln5zjP1LWcU9N0NkN8m2CYjpgQYQXqSs0I84OLIC0hkEKoPtiH3gmKoiJDU7QpLgoLjLIQCpEsNJ1vqUOdO7ppbuec5+V+rj4ctwzd8IIbbi6u+8f1539dt3A78eXC7QizUF7gyV1fD1Yqg4JWz84yffhm0qkFqBogB9rM8tZdtwVsPUhWhGcFJngGeWrPzHm5oaMmkfEg1usvLFyc8jLRqDOMru7AyC8saQr7GG7f5fvDeH7Ej8CM66nIF+8yngt6HWaKh7k49Soy9nXurCi1o3qUbS3zWfrYeQDTB/Qj6kX6Ybhw4B+bOYoLKCC9H3Nu/leUTZ1JdRWkkn2ldcCamzrcf47KKXdAJllSlxAOkRgyHsGC/zRday5Qld9DyoM4/q/rUoy/CXh3jzOu3bHUVZeU+DEn8FInkPBFlu3+nW3Nw0mk6vCDiWg8CeJaxEwuHS3+z5RgY+YBR6V1Z1nxSOfoaPa4LASWxxdNp+VWTk7+4vzaou8v8PN+xo+KY2xsw6une2frhw05CTYOmQvsEhjhWjn0bmXPjpE1+kplmmkP3suftwTubK9Vq22qKmrBhpY4jvd5afdRA3wGjFAgcnTK2s4hY0/GPNIb0nErGMCRxWOOX64Z8RAC4oCXdklmEvcL8o0BfkNK4lUg9HTl+oPlQxdNo3Mg4Nv175e/1LDGzZen30MEjRUtmXSfiTVu1kK8W4txyV6BMKlbgk3lMwYCiusNy9fVfvvwMxv8Ynl6vxoByANLTWplvuj/nF9m2+PDtt1eiHPBr1oIfhCChQMBw6Aw0UulqTKZdfVvfG7VcfIqLG9bcldL/+pdWTLxLUy8Qq38heUIjh4XlzZxzQm19lLFlr8vdQ97rjZVOLf8nclzckbcD4wxXMidpX30sFd37Fv/GtwwhzhxGVAprjbg0gCAEeIgwCZyTV2Z1REEW8O4py0wsjeloKoMr6iCY6dP92H6Vw/oTyICIthibxjm/DfN9lVz8IqtqKYLUXfoKVMVQVVJOElGjrnnUt9T9wbgp8AyYKaGlqingHZU/uG2NTZSVqwHQTWkx9hxjkpWDaCg6Ckj5qebgBVbT3V3NNXMSiWSDdGV3hrtzla7J+duwPOToIg42ChPQOQjspnSlp1V+Gjdged7+8UN5CRAV7a5EdFNwCjEaBR27b3W890TE7g24NAP/mMDXRWrGoFPQI9ls/MWO2dWFAar/xcOIImbbpA3zgAAAABJRU5ErkJggg==);\n        }\n    </style>\n    <div>\n        <a href=\"https://bokeh.org\" target=\"_blank\" class=\"bk-notebook-logo\"></a>\n        <span id=\"a4e2924a-a7d5-419a-9c6b-3738424fc3e6\">Loading BokehJS ...</span>\n    </div>\n"
     },
     "metadata": {},
     "output_type": "display_data"
    },
    {
     "data": {
      "application/javascript": "'use strict';\n(function(root) {\n  function now() {\n    return new Date();\n  }\n\n  const force = true;\n\n  if (typeof root._bokeh_onload_callbacks === \"undefined\" || force === true) {\n    root._bokeh_onload_callbacks = [];\n    root._bokeh_is_loading = undefined;\n  }\n\nconst JS_MIME_TYPE = 'application/javascript';\n  const HTML_MIME_TYPE = 'text/html';\n  const EXEC_MIME_TYPE = 'application/vnd.bokehjs_exec.v0+json';\n  const CLASS_NAME = 'output_bokeh rendered_html';\n\n  /**\n   * Render data to the DOM node\n   */\n  function render(props, node) {\n    const script = document.createElement(\"script\");\n    node.appendChild(script);\n  }\n\n  /**\n   * Handle when an output is cleared or removed\n   */\n  function handleClearOutput(event, handle) {\n    function drop(id) {\n      const view = Bokeh.index.get_by_id(id)\n      if (view != null) {\n        view.model.document.clear()\n        Bokeh.index.delete(view)\n      }\n    }\n\n    const cell = handle.cell;\n\n    const id = cell.output_area._bokeh_element_id;\n    const server_id = cell.output_area._bokeh_server_id;\n\n    // Clean up Bokeh references\n    if (id != null) {\n      drop(id)\n    }\n\n    if (server_id !== undefined) {\n      // Clean up Bokeh references\n      const cmd_clean = \"from bokeh.io.state import curstate; print(curstate().uuid_to_server['\" + server_id + \"'].get_sessions()[0].document.roots[0]._id)\";\n      cell.notebook.kernel.execute(cmd_clean, {\n        iopub: {\n          output: function(msg) {\n            const id = msg.content.text.trim()\n            drop(id)\n          }\n        }\n      });\n      // Destroy server and session\n      const cmd_destroy = \"import bokeh.io.notebook as ion; ion.destroy_server('\" + server_id + \"')\";\n      cell.notebook.kernel.execute(cmd_destroy);\n    }\n  }\n\n  /**\n   * Handle when a new output is added\n   */\n  function handleAddOutput(event, handle) {\n    const output_area = handle.output_area;\n    const output = handle.output;\n\n    // limit handleAddOutput to display_data with EXEC_MIME_TYPE content only\n    if ((output.output_type != \"display_data\") || (!Object.prototype.hasOwnProperty.call(output.data, EXEC_MIME_TYPE))) {\n      return\n    }\n\n    const toinsert = output_area.element.find(\".\" + CLASS_NAME.split(' ')[0]);\n\n    if (output.metadata[EXEC_MIME_TYPE][\"id\"] !== undefined) {\n      toinsert[toinsert.length - 1].firstChild.textContent = output.data[JS_MIME_TYPE];\n      // store reference to embed id on output_area\n      output_area._bokeh_element_id = output.metadata[EXEC_MIME_TYPE][\"id\"];\n    }\n    if (output.metadata[EXEC_MIME_TYPE][\"server_id\"] !== undefined) {\n      const bk_div = document.createElement(\"div\");\n      bk_div.innerHTML = output.data[HTML_MIME_TYPE];\n      const script_attrs = bk_div.children[0].attributes;\n      for (let i = 0; i < script_attrs.length; i++) {\n        toinsert[toinsert.length - 1].firstChild.setAttribute(script_attrs[i].name, script_attrs[i].value);\n        toinsert[toinsert.length - 1].firstChild.textContent = bk_div.children[0].textContent\n      }\n      // store reference to server id on output_area\n      output_area._bokeh_server_id = output.metadata[EXEC_MIME_TYPE][\"server_id\"];\n    }\n  }\n\n  function register_renderer(events, OutputArea) {\n\n    function append_mime(data, metadata, element) {\n      // create a DOM node to render to\n      const toinsert = this.create_output_subarea(\n        metadata,\n        CLASS_NAME,\n        EXEC_MIME_TYPE\n      );\n      this.keyboard_manager.register_events(toinsert);\n      // Render to node\n      const props = {data: data, metadata: metadata[EXEC_MIME_TYPE]};\n      render(props, toinsert[toinsert.length - 1]);\n      element.append(toinsert);\n      return toinsert\n    }\n\n    /* Handle when an output is cleared or removed */\n    events.on('clear_output.CodeCell', handleClearOutput);\n    events.on('delete.Cell', handleClearOutput);\n\n    /* Handle when a new output is added */\n    events.on('output_added.OutputArea', handleAddOutput);\n\n    /**\n     * Register the mime type and append_mime function with output_area\n     */\n    OutputArea.prototype.register_mime_type(EXEC_MIME_TYPE, append_mime, {\n      /* Is output safe? */\n      safe: true,\n      /* Index of renderer in `output_area.display_order` */\n      index: 0\n    });\n  }\n\n  // register the mime type if in Jupyter Notebook environment and previously unregistered\n  if (root.Jupyter !== undefined) {\n    const events = require('base/js/events');\n    const OutputArea = require('notebook/js/outputarea').OutputArea;\n\n    if (OutputArea.prototype.mime_types().indexOf(EXEC_MIME_TYPE) == -1) {\n      register_renderer(events, OutputArea);\n    }\n  }\n  if (typeof (root._bokeh_timeout) === \"undefined\" || force === true) {\n    root._bokeh_timeout = Date.now() + 5000;\n    root._bokeh_failed_load = false;\n  }\n\n  const NB_LOAD_WARNING = {'data': {'text/html':\n     \"<div style='background-color: #fdd'>\\n\"+\n     \"<p>\\n\"+\n     \"BokehJS does not appear to have successfully loaded. If loading BokehJS from CDN, this \\n\"+\n     \"may be due to a slow or bad network connection. Possible fixes:\\n\"+\n     \"</p>\\n\"+\n     \"<ul>\\n\"+\n     \"<li>re-rerun `output_notebook()` to attempt to load from CDN again, or</li>\\n\"+\n     \"<li>use INLINE resources instead, as so:</li>\\n\"+\n     \"</ul>\\n\"+\n     \"<code>\\n\"+\n     \"from bokeh.resources import INLINE\\n\"+\n     \"output_notebook(resources=INLINE)\\n\"+\n     \"</code>\\n\"+\n     \"</div>\"}};\n\n  function display_loaded(error = null) {\n    const el = document.getElementById(\"a4e2924a-a7d5-419a-9c6b-3738424fc3e6\");\n    if (el != null) {\n      const html = (() => {\n        if (typeof root.Bokeh === \"undefined\") {\n          if (error == null) {\n            return \"BokehJS is loading ...\";\n          } else {\n            return \"BokehJS failed to load.\";\n          }\n        } else {\n          const prefix = `BokehJS ${root.Bokeh.version}`;\n          if (error == null) {\n            return `${prefix} successfully loaded.`;\n          } else {\n            return `${prefix} <b>encountered errors</b> while loading and may not function as expected.`;\n          }\n        }\n      })();\n      el.innerHTML = html;\n\n      if (error != null) {\n        const wrapper = document.createElement(\"div\");\n        wrapper.style.overflow = \"auto\";\n        wrapper.style.height = \"5em\";\n        wrapper.style.resize = \"vertical\";\n        const content = document.createElement(\"div\");\n        content.style.fontFamily = \"monospace\";\n        content.style.whiteSpace = \"pre-wrap\";\n        content.style.backgroundColor = \"rgb(255, 221, 221)\";\n        content.textContent = error.stack ?? error.toString();\n        wrapper.append(content);\n        el.append(wrapper);\n      }\n    } else if (Date.now() < root._bokeh_timeout) {\n      setTimeout(() => display_loaded(error), 100);\n    }\n  }\n\n  function run_callbacks() {\n    try {\n      root._bokeh_onload_callbacks.forEach(function(callback) {\n        if (callback != null)\n          callback();\n      });\n    } finally {\n      delete root._bokeh_onload_callbacks\n    }\n    console.debug(\"Bokeh: all callbacks have finished\");\n  }\n\n  function load_libs(css_urls, js_urls, callback) {\n    if (css_urls == null) css_urls = [];\n    if (js_urls == null) js_urls = [];\n\n    root._bokeh_onload_callbacks.push(callback);\n    if (root._bokeh_is_loading > 0) {\n      console.debug(\"Bokeh: BokehJS is being loaded, scheduling callback at\", now());\n      return null;\n    }\n    if (js_urls == null || js_urls.length === 0) {\n      run_callbacks();\n      return null;\n    }\n    console.debug(\"Bokeh: BokehJS not loaded, scheduling load and callback at\", now());\n    root._bokeh_is_loading = css_urls.length + js_urls.length;\n\n    function on_load() {\n      root._bokeh_is_loading--;\n      if (root._bokeh_is_loading === 0) {\n        console.debug(\"Bokeh: all BokehJS libraries/stylesheets loaded\");\n        run_callbacks()\n      }\n    }\n\n    function on_error(url) {\n      console.error(\"failed to load \" + url);\n    }\n\n    for (let i = 0; i < css_urls.length; i++) {\n      const url = css_urls[i];\n      const element = document.createElement(\"link\");\n      element.onload = on_load;\n      element.onerror = on_error.bind(null, url);\n      element.rel = \"stylesheet\";\n      element.type = \"text/css\";\n      element.href = url;\n      console.debug(\"Bokeh: injecting link tag for BokehJS stylesheet: \", url);\n      document.body.appendChild(element);\n    }\n\n    for (let i = 0; i < js_urls.length; i++) {\n      const url = js_urls[i];\n      const element = document.createElement('script');\n      element.onload = on_load;\n      element.onerror = on_error.bind(null, url);\n      element.async = false;\n      element.src = url;\n      console.debug(\"Bokeh: injecting script tag for BokehJS library: \", url);\n      document.head.appendChild(element);\n    }\n  };\n\n  function inject_raw_css(css) {\n    const element = document.createElement(\"style\");\n    element.appendChild(document.createTextNode(css));\n    document.body.appendChild(element);\n  }\n\n  const js_urls = [\"https://cdn.bokeh.org/bokeh/release/bokeh-3.6.2.min.js\", \"https://cdn.bokeh.org/bokeh/release/bokeh-gl-3.6.2.min.js\", \"https://cdn.bokeh.org/bokeh/release/bokeh-widgets-3.6.2.min.js\", \"https://cdn.bokeh.org/bokeh/release/bokeh-tables-3.6.2.min.js\", \"https://cdn.bokeh.org/bokeh/release/bokeh-mathjax-3.6.2.min.js\"];\n  const css_urls = [];\n\n  const inline_js = [    function(Bokeh) {\n      Bokeh.set_log_level(\"info\");\n    },\nfunction(Bokeh) {\n    }\n  ];\n\n  function run_inline_js() {\n    if (root.Bokeh !== undefined || force === true) {\n      try {\n            for (let i = 0; i < inline_js.length; i++) {\n      inline_js[i].call(root, root.Bokeh);\n    }\n\n      } catch (error) {display_loaded(error);throw error;\n      }if (force === true) {\n        display_loaded();\n      }} else if (Date.now() < root._bokeh_timeout) {\n      setTimeout(run_inline_js, 100);\n    } else if (!root._bokeh_failed_load) {\n      console.log(\"Bokeh: BokehJS failed to load within specified timeout.\");\n      root._bokeh_failed_load = true;\n    } else if (force !== true) {\n      const cell = $(document.getElementById(\"a4e2924a-a7d5-419a-9c6b-3738424fc3e6\")).parents('.cell').data().cell;\n      cell.output_area.append_execute_result(NB_LOAD_WARNING)\n    }\n  }\n\n  if (root._bokeh_is_loading === 0) {\n    console.debug(\"Bokeh: BokehJS loaded, going straight to plotting\");\n    run_inline_js();\n  } else {\n    load_libs(css_urls, js_urls, function() {\n      console.debug(\"Bokeh: BokehJS plotting callback run at\", now());\n      run_inline_js();\n    });\n  }\n}(window));",
      "application/vnd.bokehjs_load.v0+json": "'use strict';\n(function(root) {\n  function now() {\n    return new Date();\n  }\n\n  const force = true;\n\n  if (typeof root._bokeh_onload_callbacks === \"undefined\" || force === true) {\n    root._bokeh_onload_callbacks = [];\n    root._bokeh_is_loading = undefined;\n  }\n\n\n  if (typeof (root._bokeh_timeout) === \"undefined\" || force === true) {\n    root._bokeh_timeout = Date.now() + 5000;\n    root._bokeh_failed_load = false;\n  }\n\n  const NB_LOAD_WARNING = {'data': {'text/html':\n     \"<div style='background-color: #fdd'>\\n\"+\n     \"<p>\\n\"+\n     \"BokehJS does not appear to have successfully loaded. If loading BokehJS from CDN, this \\n\"+\n     \"may be due to a slow or bad network connection. Possible fixes:\\n\"+\n     \"</p>\\n\"+\n     \"<ul>\\n\"+\n     \"<li>re-rerun `output_notebook()` to attempt to load from CDN again, or</li>\\n\"+\n     \"<li>use INLINE resources instead, as so:</li>\\n\"+\n     \"</ul>\\n\"+\n     \"<code>\\n\"+\n     \"from bokeh.resources import INLINE\\n\"+\n     \"output_notebook(resources=INLINE)\\n\"+\n     \"</code>\\n\"+\n     \"</div>\"}};\n\n  function display_loaded(error = null) {\n    const el = document.getElementById(\"a4e2924a-a7d5-419a-9c6b-3738424fc3e6\");\n    if (el != null) {\n      const html = (() => {\n        if (typeof root.Bokeh === \"undefined\") {\n          if (error == null) {\n            return \"BokehJS is loading ...\";\n          } else {\n            return \"BokehJS failed to load.\";\n          }\n        } else {\n          const prefix = `BokehJS ${root.Bokeh.version}`;\n          if (error == null) {\n            return `${prefix} successfully loaded.`;\n          } else {\n            return `${prefix} <b>encountered errors</b> while loading and may not function as expected.`;\n          }\n        }\n      })();\n      el.innerHTML = html;\n\n      if (error != null) {\n        const wrapper = document.createElement(\"div\");\n        wrapper.style.overflow = \"auto\";\n        wrapper.style.height = \"5em\";\n        wrapper.style.resize = \"vertical\";\n        const content = document.createElement(\"div\");\n        content.style.fontFamily = \"monospace\";\n        content.style.whiteSpace = \"pre-wrap\";\n        content.style.backgroundColor = \"rgb(255, 221, 221)\";\n        content.textContent = error.stack ?? error.toString();\n        wrapper.append(content);\n        el.append(wrapper);\n      }\n    } else if (Date.now() < root._bokeh_timeout) {\n      setTimeout(() => display_loaded(error), 100);\n    }\n  }\n\n  function run_callbacks() {\n    try {\n      root._bokeh_onload_callbacks.forEach(function(callback) {\n        if (callback != null)\n          callback();\n      });\n    } finally {\n      delete root._bokeh_onload_callbacks\n    }\n    console.debug(\"Bokeh: all callbacks have finished\");\n  }\n\n  function load_libs(css_urls, js_urls, callback) {\n    if (css_urls == null) css_urls = [];\n    if (js_urls == null) js_urls = [];\n\n    root._bokeh_onload_callbacks.push(callback);\n    if (root._bokeh_is_loading > 0) {\n      console.debug(\"Bokeh: BokehJS is being loaded, scheduling callback at\", now());\n      return null;\n    }\n    if (js_urls == null || js_urls.length === 0) {\n      run_callbacks();\n      return null;\n    }\n    console.debug(\"Bokeh: BokehJS not loaded, scheduling load and callback at\", now());\n    root._bokeh_is_loading = css_urls.length + js_urls.length;\n\n    function on_load() {\n      root._bokeh_is_loading--;\n      if (root._bokeh_is_loading === 0) {\n        console.debug(\"Bokeh: all BokehJS libraries/stylesheets loaded\");\n        run_callbacks()\n      }\n    }\n\n    function on_error(url) {\n      console.error(\"failed to load \" + url);\n    }\n\n    for (let i = 0; i < css_urls.length; i++) {\n      const url = css_urls[i];\n      const element = document.createElement(\"link\");\n      element.onload = on_load;\n      element.onerror = on_error.bind(null, url);\n      element.rel = \"stylesheet\";\n      element.type = \"text/css\";\n      element.href = url;\n      console.debug(\"Bokeh: injecting link tag for BokehJS stylesheet: \", url);\n      document.body.appendChild(element);\n    }\n\n    for (let i = 0; i < js_urls.length; i++) {\n      const url = js_urls[i];\n      const element = document.createElement('script');\n      element.onload = on_load;\n      element.onerror = on_error.bind(null, url);\n      element.async = false;\n      element.src = url;\n      console.debug(\"Bokeh: injecting script tag for BokehJS library: \", url);\n      document.head.appendChild(element);\n    }\n  };\n\n  function inject_raw_css(css) {\n    const element = document.createElement(\"style\");\n    element.appendChild(document.createTextNode(css));\n    document.body.appendChild(element);\n  }\n\n  const js_urls = [\"https://cdn.bokeh.org/bokeh/release/bokeh-3.6.2.min.js\", \"https://cdn.bokeh.org/bokeh/release/bokeh-gl-3.6.2.min.js\", \"https://cdn.bokeh.org/bokeh/release/bokeh-widgets-3.6.2.min.js\", \"https://cdn.bokeh.org/bokeh/release/bokeh-tables-3.6.2.min.js\", \"https://cdn.bokeh.org/bokeh/release/bokeh-mathjax-3.6.2.min.js\"];\n  const css_urls = [];\n\n  const inline_js = [    function(Bokeh) {\n      Bokeh.set_log_level(\"info\");\n    },\nfunction(Bokeh) {\n    }\n  ];\n\n  function run_inline_js() {\n    if (root.Bokeh !== undefined || force === true) {\n      try {\n            for (let i = 0; i < inline_js.length; i++) {\n      inline_js[i].call(root, root.Bokeh);\n    }\n\n      } catch (error) {display_loaded(error);throw error;\n      }if (force === true) {\n        display_loaded();\n      }} else if (Date.now() < root._bokeh_timeout) {\n      setTimeout(run_inline_js, 100);\n    } else if (!root._bokeh_failed_load) {\n      console.log(\"Bokeh: BokehJS failed to load within specified timeout.\");\n      root._bokeh_failed_load = true;\n    } else if (force !== true) {\n      const cell = $(document.getElementById(\"a4e2924a-a7d5-419a-9c6b-3738424fc3e6\")).parents('.cell').data().cell;\n      cell.output_area.append_execute_result(NB_LOAD_WARNING)\n    }\n  }\n\n  if (root._bokeh_is_loading === 0) {\n    console.debug(\"Bokeh: BokehJS loaded, going straight to plotting\");\n    run_inline_js();\n  } else {\n    load_libs(css_urls, js_urls, function() {\n      console.debug(\"Bokeh: BokehJS plotting callback run at\", now());\n      run_inline_js();\n    });\n  }\n}(window));"
     },
     "metadata": {},
     "output_type": "display_data"
    }
   ],
   "source": [
    "# Import required libraries\n",
    "from bokeh.plotting import figure\n",
    "from bokeh.io import output_file, show,output_notebook, curdoc\n",
    "import pandas as pd\n",
    "# Import column\n",
    "from bokeh.layouts import column, row, gridplot\n",
    "#from bokeh.resources import INLINE\n",
    "# Import ColumnDataSource\n",
    "from bokeh.models import ColumnDataSource, NumeralTickFormatter, DatetimeTickFormatter, FactorRange, Div\n",
    "from bokeh.transform import linear_cmap, factor_cmap\n",
    "from bokeh.palettes import RdBu8\n",
    "from bokeh.models import ColorBar, BoxAnnotation, PolyAnnotation, Spinner, RangeSlider, DateRangeSlider,Select, CustomJS\n",
    "from bokeh.palettes import Category10_5\n",
    "from bokeh.layouts import layout, gridplot\n",
    "\n",
    "output_notebook()"
   ]
  },
  {
   "cell_type": "markdown",
   "source": [
    "## Adding Layout and Div"
   ],
   "metadata": {
    "collapsed": false
   },
   "id": "56c036ce9eedba8b"
  },
  {
   "cell_type": "code",
   "outputs": [],
   "source": [
    "# import data\n",
    "stocks = pd.read_csv('../data/stocks_cleaned.csv')\n",
    "stocks['date'] = pd.to_datetime(stocks['date'])\n",
    "AMZN = stocks[stocks['name'] == 'AMZN']\n",
    "#display(AMZN)\n",
    "source = ColumnDataSource(data = AMZN)\n",
    "\n",
    "# Draw the Fig\n",
    "fig = figure(x_axis_label=\"Date\", y_axis_label=\"Stock Price ($)\")\n",
    "fig.line(x=\"date\", y=\"close\",  source=source, color=\"purple\")\n",
    "box = BoxAnnotation(bottom=AMZN[\"close\"].mean(), fill_color=\"green\", fill_alpha=0.3)\n",
    "fig.add_layout(box)\n",
    "fig.xaxis[0].formatter = DatetimeTickFormatter(months=\"%b %Y\")\n",
    "\n",
    "#Add a title of \"Amazon stock prices vs. average price over the period\" to the layout.\n",
    "title = Div(text=\"Amazon stock prices vs. average price over the period\")\n",
    "\n",
    "show(layout([title], [fig]))"
   ],
   "metadata": {
    "collapsed": false,
    "is_executing": true
   },
   "id": "ebe8522b3fb25f94",
   "execution_count": null
  },
  {
   "cell_type": "markdown",
   "source": [
    "## Spinner Eidget"
   ],
   "metadata": {
    "collapsed": false
   },
   "id": "2ff0f1cc30c25b15"
  },
  {
   "cell_type": "code",
   "outputs": [],
   "source": [
    "stocks2 = pd.read_csv('../data/stocks_cleaned.csv')\n",
    "stocks2['date'] = pd.to_datetime(stocks2['date'])\n",
    "source1 = ColumnDataSource(data = stocks2)\n",
    "\n",
    "# create an array of five pharmaceutical companies\n",
    "\n",
    "# Draw the figure\n",
    "labels = [\"ABBR\", \"JNJ\", \"LLY\", \"MRK\", \"NFX\"]\n",
    "fig = figure(x_axis_label=\"Volume\", y_axis_label=\"Stock Price ($)\")\n",
    "scatter = fig.scatter(x=\"volume\", y=\"close\", source=source1,  legend_field=\"name\", fill_alpha=0.5, fill_color=factor_cmap(\"name\", palette=Category10_5, factors=labels))\n",
    "title = Div(text=\"Pharmaceuticals Stock Performance\")\n",
    "fig.xaxis[0].formatter = NumeralTickFormatter(format=\"0a\")\n",
    "\n",
    "#Create a spinner titled \"Glyph size\", with sizes ranging from 1 to 30 pixels, changing by 1 pixel with each click, a default value of 4, and a width of 60.\n",
    "spinner = Spinner(title=\"Glyph size\", low=1, high=30, step=1, value=4, width=60)\n",
    "\n",
    "# Complete spinner.js_link(), first passing \"value\", followed by the scatter's glyph attribute, and lastly specifying \"size\" as the attribute you wish to modify using the spinner.\n",
    "spinner.js_link(\"value\", scatter.glyph, \"size\")\n",
    "\n",
    "show(layout([title], [spinner, fig]))"
   ],
   "metadata": {
    "collapsed": false,
    "is_executing": true
   },
   "id": "3af89a55ed200551",
   "execution_count": null
  },
  {
   "cell_type": "markdown",
   "source": [
    "## Slider Widget"
   ],
   "metadata": {
    "collapsed": false
   },
   "id": "c6605fcb9ae71ac3"
  },
  {
   "cell_type": "code",
   "outputs": [],
   "source": [
    "# Create two data frame for Ford and General Motors\n",
    "stocks['market_cap']  = stocks['close'] * stocks['volume']\n",
    "ford = stocks[stocks['name'] == 'F']\n",
    "gm = stocks[stocks['name'] == 'GM']\n",
    "\n",
    "\n",
    "fig = figure(x_axis_label=\"Stock Price ($)\", y_axis_label=\"Market Cap\")\n",
    "fig.scatter(x=ford[\"close\"], y=ford[\"market_cap\"], legend_label=\"Ford\", fill_color=\"red\", fill_alpha=0.5)\n",
    "fig.scatter(x=gm[\"close\"], y=gm[\"market_cap\"], legend_label=\"GM\", fill_color=\"green\", fill_alpha=0.5)\n",
    "fig.yaxis[0].formatter = NumeralTickFormatter(format=\"$0a\")\n",
    "\n",
    "# Create slider with a title of \"Stock Price\", the start of 10, end of 47, value matching the start and end values inside parentheses, and a step of 1 for each interaction with the widget.\n",
    "slider = RangeSlider(title=\"Stock Price\", start=10, end=47, value=(10, 47), step=1)\n",
    "\n",
    "# Link the slider's \"value\" to the start of the figure's x_range attribute, assigning zero to the attribute selector\n",
    "slider.js_link(\"value\", fig.x_range, \"start\", attr_selector=0)\n",
    "\n",
    "#Repeat to link the slider's \"value\" to the end of the figure's x_range attribute, assigning one to the attribute selector.\n",
    "slider.js_link(\"value\", fig.x_range, \"end\", attr_selector=1)\n",
    "\n",
    "show(layout([slider], [fig]))\n"
   ],
   "metadata": {
    "collapsed": false,
    "is_executing": true
   },
   "id": "a303007915222336",
   "execution_count": null
  },
  {
   "cell_type": "code",
   "outputs": [],
   "source": [
    "from datetime import datetime\n",
    "stocks1 = pd.read_csv('../data/stocks_cleaned.csv')\n",
    "stocks1['date'] = pd.to_datetime(stocks1['date'])\n",
    "#display(stocks['name'].unique())\n",
    "apple = stocks1[stocks1['name'] == 'AAPL']\n",
    "netflix = stocks1[stocks1['name'] == 'NFLX']\n",
    "ibm = stocks1[stocks1['name'] == 'IBM']\n",
    "\n",
    "earliest_date = stocks1[\"date\"].min()\n",
    "latest_date = stocks1[\"date\"].max()\n",
    "\n",
    "fig = figure(x_axis_label=\"Date\", y_axis_label=\"Price\")\n",
    "fig.line(apple[\"date\"], apple[\"close\"], color=\"green\", legend_label=\"Apple\")\n",
    "fig.line(netflix[\"date\"], netflix[\"close\"], color=\"red\", legend_label=\"Netflix\")\n",
    "fig.line(ibm[\"date\"], ibm[\"close\"], color=\"purple\", legend_label=\"IBM\")\n",
    "fig.legend.location = \"top_left\"\n",
    "\n",
    "# Call DateRangeSlider(), assigning \"Date\" to the title, earliest_date and latest_date to start and end, setting value equal to \"2014, 6, 2\", \"2018, 2, 7\", and including an increment of 1 day per interaction with the widget.\n",
    "slider = DateRangeSlider(title=\"Date\", start=earliest_date, end=latest_date, \n",
    "                         value=(datetime(2014,6,2), datetime(2018,6,7)), step=1)\n",
    "\n",
    "# Call .js_link() twice, linking the widget's \"value\" to the \"Start\" and \"End\" of fig's x_range and setting the attribute selector to 0 and 1 in each call respectively.\n",
    "slider.js_link(\"value\", fig.x_range, \"start\", attr_selector=0)\n",
    "slider.js_link(\"value\", fig.x_range, \"end\", attr_selector=1)\n",
    "\n",
    "show(layout([slider], [fig]))"
   ],
   "metadata": {
    "collapsed": false,
    "is_executing": true
   },
   "id": "e03ec4b3854c47cb",
   "execution_count": null
  },
  {
   "cell_type": "markdown",
   "source": [
    "## Select Widget"
   ],
   "metadata": {
    "collapsed": false
   },
   "id": "1aa1725ace1240e7"
  },
  {
   "cell_type": "code",
   "outputs": [],
   "source": [
    "from datetime import datetime\n",
    "stocks4 = pd.read_csv('../data/stocks_cleaned.csv')\n",
    "stocks4['date'] = pd.to_datetime(stocks4['date'])\n",
    "\n",
    "# Create three seperate dataframe for Delta Air Lines, Southwest Airlines, and Boeing\n",
    "boeing = stocks.loc[stocks[\"name\"] == \"BA\"]\n",
    "delta = stocks.loc[stocks[\"name\"] == \"DAL\"]\n",
    "southwest = stocks.loc[stocks[\"name\"] == \"LUV\"]\n",
    "fig = figure(x_axis_label=\"Date\", y_axis_label=\"Stock Price\", \n",
    "             x_axis_type=\"datetime\")\n",
    "boeing_line = fig.line(x=boeing[\"date\"], y=boeing[\"close\"],\n",
    "                       alpha=0.5)\n",
    "delta_line = fig.line(x=delta[\"date\"], y=delta[\"close\"], \n",
    "                      color=\"red\", alpha=0.5)\n",
    "sw_line = fig.line(x=southwest[\"date\"], y=southwest[\"close\"], \n",
    "                   color=\"green\", alpha=0.5)\n",
    "\n",
    "# Create the Select widget, assigning options as a list containing \"Boeing\", \"Delta\", and \"Southwest\" (in that order), a value of \"Boeing\", and a title of \"Airline\".\n",
    "# Create Select widget\n",
    "menu = Select(options=[\"Boeing\", \"Delta\", \"Southwest\"], value=\"Boeing\", title=\"Airline\") \n",
    "\n",
    "# Set up the widget to implement the callback function on a change in \"value\"\n",
    "callback = CustomJS(args=dict(line_1=boeing_line, line_2=delta_line,\n",
    "                             line_3=sw_line), code=\"\"\"\n",
    "line_1.visible = true\n",
    "line_2.visible = true\n",
    "line_3.visible = true\n",
    "if (this.value == \"Boeing\") {line_2.visible = false\n",
    "\t\t\t\t\t\t\t line_3.visible = false} \n",
    "    else {line_1.visible = false}\n",
    "if (this.value == \"Delta\") {line_1.visible = false\n",
    "\t\t\t\t\t\t\tline_3.visible = false} \n",
    "    else {line_2.visible = false}\n",
    "if (this.value == \"Southwest\") {line_1.visible = false\n",
    "\t\t\t\t\t\t\t\tline_2.visible = false} \n",
    "    else {line_3.visible = false}\n",
    "\"\"\")\n",
    "\n",
    "menu.js_on_change(\"value\", callback)\n",
    "\n",
    "show(column(menu, fig))"
   ],
   "metadata": {
    "collapsed": false,
    "is_executing": true
   },
   "id": "e7b1eb6a2c34e09",
   "execution_count": null
  },
  {
   "cell_type": "code",
   "outputs": [
    {
     "ename": "NameError",
     "evalue": "name 'pd' is not defined",
     "output_type": "error",
     "traceback": [
      "\u001B[1;31m---------------------------------------------------------------------------\u001B[0m",
      "\u001B[1;31mNameError\u001B[0m                                 Traceback (most recent call last)",
      "Cell \u001B[1;32mIn[1], line 2\u001B[0m\n\u001B[0;32m      1\u001B[0m \u001B[38;5;28;01mfrom\u001B[39;00m\u001B[38;5;250m \u001B[39m\u001B[38;5;21;01mdatetime\u001B[39;00m\u001B[38;5;250m \u001B[39m\u001B[38;5;28;01mimport\u001B[39;00m datetime\n\u001B[1;32m----> 2\u001B[0m stocks5 \u001B[38;5;241m=\u001B[39m \u001B[43mpd\u001B[49m\u001B[38;5;241m.\u001B[39mread_csv(\u001B[38;5;124m'\u001B[39m\u001B[38;5;124m../data/stocks_cleaned.csv\u001B[39m\u001B[38;5;124m'\u001B[39m)\n\u001B[0;32m      3\u001B[0m stocks[\u001B[38;5;124m'\u001B[39m\u001B[38;5;124mmarket_cap\u001B[39m\u001B[38;5;124m'\u001B[39m]  \u001B[38;5;241m=\u001B[39m stocks[\u001B[38;5;124m'\u001B[39m\u001B[38;5;124mclose\u001B[39m\u001B[38;5;124m'\u001B[39m] \u001B[38;5;241m*\u001B[39m stocks[\u001B[38;5;124m'\u001B[39m\u001B[38;5;124mvolume\u001B[39m\u001B[38;5;124m'\u001B[39m]\n\u001B[0;32m      4\u001B[0m stocks5[\u001B[38;5;124m'\u001B[39m\u001B[38;5;124mdate\u001B[39m\u001B[38;5;124m'\u001B[39m] \u001B[38;5;241m=\u001B[39m pd\u001B[38;5;241m.\u001B[39mto_datetime(stocks5[\u001B[38;5;124m'\u001B[39m\u001B[38;5;124mdate\u001B[39m\u001B[38;5;124m'\u001B[39m])\n",
      "\u001B[1;31mNameError\u001B[0m: name 'pd' is not defined"
     ]
    }
   ],
   "source": [
    "from datetime import datetime\n",
    "stocks5 = pd.read_csv('../data/stocks_cleaned.csv')\n",
    "stocks['market_cap']  = stocks['close'] * stocks['volume']\n",
    "stocks5['date'] = pd.to_datetime(stocks5['date'])\n",
    "\n",
    "stocks5 = stocks5[stocks5['name'] == 'EA']\n",
    "close = ColumnDataSource(data = stocks5)\n",
    "market_cap = ColumnDataSource(data = stocks5)\n",
    "volume = ColumnDataSource(data = stocks5)\n",
    "\n",
    "fig1 = figure(x_axis_label=\"Date\", y_axis_label=\"Stock Price\")\n",
    "fig2 = figure(x_axis_label=\"Date\", y_axis_label=\"Market Captial\")\n",
    "fig3 = figure(x_axis_label=\"Date\", y_axis_label=\"Volume\")\n",
    "\n",
    "close_line = fig1.line(x=\"date\", y=\"close\", color=\"green\", source=close)\n",
    "market_cap_line = fig2.line(x=\"date\", y=\"market_cap\", color=\"red\", source=market_cap)\n",
    "volume_line = fig3.line(x=\"date\", y=\"volume\", color=\"purple\", source=volume)\n",
    "fig1.xaxis[0].formatter = DatetimeTickFormatter(months=\"%b %Y\")\n",
    "fig1.xaxis[0].formatter = DatetimeTickFormatter(months=\"%b %Y\")\n",
    "fig2.xaxis[0].formatter = DatetimeTickFormatter(months=\"%b %Y\")\n",
    "fig3.yaxis[0].formatter = NumeralTickFormatter(format=\"$0a\")\n",
    "market_cap_line.visible = False\n",
    "volume_line.visible = False\n",
    "\n",
    "# Create menu\n",
    "menu = Select(options=[\"Close\", \"Market Cap\", \"Volume\"], value=\"Close\", title=\"Metric\") \n",
    "callback = CustomJS(args=dict(plot_one=close, plot_two=market_cap, plot_three=volume, line_1=close_line, line_2=market_cap_line, line_3=volume_line), code=\"\"\"\n",
    "plot_one.visible = true\n",
    "plot_two.visible = true\n",
    "plot_three.visible = true\n",
    "line_1.visible = true\n",
    "line_2.visible = true\n",
    "line_3.visible = true\n",
    "if (this.value == \"Close\") {plot_two.visible = false\n",
    "                            plot_three.visible = false\n",
    "                            line_2.visible = false\n",
    "                            line_3.visible = false}\n",
    "    else {plot_one.visible = false\n",
    "          line_1.visible = false} \n",
    "if (this.value == \"Market Cap\") {plot_one.visible = false\n",
    "                                 plot_three.visible = false\n",
    "                                 line_1.visible = false\n",
    "                                 line_3.visible = false} \n",
    "    else {plot_two.visible = false\n",
    "          line_2.visible = false}\n",
    "if (this.value == \"Volume\") {plot_one.visible = false\n",
    "                             plot_two.visible = false\n",
    "                             line_1.visible = false\n",
    "                             line_2.visible = false}\n",
    "    else {plot_three.visible = false\n",
    "          line_3.visible = false}\n",
    "\"\"\")\n",
    "\n",
    "# Set up the interaction\n",
    "menu.js_on_change(\"value\", callback)\n",
    "\n",
    "# Display the layout\n",
    "#output_file(filename=\"stock_metrics.html\")\n",
    "layout = layout([menu],[fig1, fig2, fig3])\n",
    "show(layout)"
   ],
   "metadata": {
    "collapsed": false,
    "ExecuteTime": {
     "end_time": "2025-01-10T08:54:36.166288100Z",
     "start_time": "2025-01-10T08:54:30.372744300Z"
    }
   },
   "id": "fcc720dfd56fac02",
   "execution_count": 1
  }
 ],
 "metadata": {
  "kernelspec": {
   "display_name": "Python 3",
   "language": "python",
   "name": "python3"
  },
  "language_info": {
   "codemirror_mode": {
    "name": "ipython",
    "version": 2
   },
   "file_extension": ".py",
   "mimetype": "text/x-python",
   "name": "python",
   "nbconvert_exporter": "python",
   "pygments_lexer": "ipython2",
   "version": "2.7.6"
  }
 },
 "nbformat": 4,
 "nbformat_minor": 5
}
